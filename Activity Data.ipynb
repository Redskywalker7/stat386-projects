{
 "cells": [
  {
   "cell_type": "code",
   "execution_count": 116,
   "metadata": {},
   "outputs": [],
   "source": [
    "import pandas as pd\n",
    "import numpy as np\n",
    "from datetime import datetime\n",
    "import matplotlib.pyplot as plt\n",
    "import matplotlib.image as img\n",
    "import plotly.express as px\n",
    "import plotly.graph_objects as go\n",
    "import plotly.figure_factory as ff\n",
    "from plotly.subplots import make_subplots"
   ]
  },
  {
   "cell_type": "code",
   "execution_count": 117,
   "metadata": {},
   "outputs": [],
   "source": [
    "df = pd.read_csv(r'C:\\Users\\mcdlu\\Desktop\\School\\STAT 386\\Data\\Garmin Activities.csv')"
   ]
  },
  {
   "cell_type": "code",
   "execution_count": 143,
   "metadata": {},
   "outputs": [],
   "source": [
    "df = df.replace(',','', regex=True)\n",
    "df = df.replace('--',0, regex=True)\n",
    "df['Distance'] = df['Distance'].astype(float)\n",
    "df['Aerobic TE'] = df['Aerobic TE'].astype(float)\n",
    "df['Activity Type'] = df['Activity Type'].astype(str)\n",
    "df[['Date','Moving Time','Elapsed Time','Avg Ground Contact Time']] = df[['Date','Moving Time','Elapsed Time','Avg Ground Contact Time']].apply(pd.to_datetime)\n",
    "df['Activity Type'] = np.where(df['Activity Type'].isin(['Pool Swimming','Open Water Swimming']), 'Swimming',df['Activity Type'])\n",
    "df['Activity Type'] = np.where(df['Activity Type'] == 'Trail Running', 'Running',df['Activity Type'])\n",
    "df['Activity Type'] = np.where(df['Activity Type'] == 'Multisport', 'Triathlon',df['Activity Type'])\n",
    "df['Activity Type'] = np.where(df['Activity Type'] == 'Indoor Cycling', 'Cycling',df['Activity Type'])\n",
    "Work = df[df['Activity Type'].isin(['Cycling','Running','Swimming','Triathlon'])]\n",
    "Work = Work[['Activity Type','Title','Date','Distance','Moving Time','Avg HR','Max HR','Aerobic TE','Calories',]].reset_index()\n",
    "Work.loc[(Work['Activity Type'] == 'Swimming') & (Work['Date'].isin(['2020-07-29 15:26:13','2020-09-22 15:06:05','2021-08-12 15:03:31','2021-08-19 14:36:08'])),'Distance'] *= 0.000621371\n",
    "Work.loc[(Work['Activity Type'] == 'Swimming') & (~Work['Date'].isin(['2020-07-29 15:26:13','2020-09-22 15:06:05','2021-08-12 15:03:31','2021-08-19 14:36:08'])),'Distance'] *= 0.000568182\n",
    "Work['Competition'] = \"Training\"\n",
    "Work.loc[Work['Date'].isin(['2022-04-23 07:08:58','2022-07-16 07:16:24','2021-09-11 07:41:11']),'Competition'] = \"Race\""
   ]
  },
  {
   "cell_type": "code",
   "execution_count": 144,
   "metadata": {},
   "outputs": [],
   "source": [
    "# Create running total for Distance\n",
    "Work['Running Total'] = 0.0\n",
    "Work['Running Total'][len(Work)-1] = Work['Distance'][len(Work)-1]\n",
    "for x in reversed(range(len(Work)-1)):\n",
    "    Work['Running Total'][x] = Work['Distance'][x]+Work['Running Total'][x+1]"
   ]
  },
  {
   "cell_type": "code",
   "execution_count": 145,
   "metadata": {},
   "outputs": [],
   "source": [
    "colours = {\n",
    "    'Swimming':'blue',\n",
    "    'Running':'lightgreen',\n",
    "    'Cycling':'grey',\n",
    "    'Triathlon': 'red'\n",
    "}"
   ]
  },
  {
   "cell_type": "code",
   "execution_count": 146,
   "metadata": {},
   "outputs": [
    {
     "data": {
      "application/vnd.plotly.v1+json": {
       "config": {
        "plotlyServerURL": "https://plot.ly"
       },
       "data": [
        {
         "hovertemplate": "<b>%{hovertext}</b><br><br>Activity Type=Cycling<br>Competition=Training<br>Date=%{x}<br>Distance=%{y}<extra></extra>",
         "hovertext": [
          "South Jordan Cycling",
          "Salt Lake City Cycling",
          "South Jordan Cycling",
          "South Jordan Cycling",
          "South Jordan Cycling",
          "South Jordan Cycling",
          "South Jordan Cycling",
          "South Jordan Cycling",
          "South Jordan Cycling",
          "South Jordan Cycling",
          "South Jordan Cycling",
          "Salt Lake City Cycling",
          "Salt Lake City Cycling",
          "Salt Lake City Cycling",
          "Salt Lake City Cycling",
          "Salt Lake City Cycling",
          "Salt Lake City Cycling",
          "Salt Lake City Cycling",
          "Salt Lake City Cycling",
          "Salt Lake City Cycling",
          "Salt Lake City Cycling",
          "Indoor Cycling",
          "Salt Lake City Cycling",
          "Salt Lake City Cycling",
          "Salt Lake City Cycling",
          "Salt Lake City Cycling",
          "Salt Lake City Cycling",
          "Salt Lake City Cycling",
          "Salt Lake City Cycling",
          "Salt Lake City Cycling",
          "Salt Lake City Cycling",
          "Salt Lake City Cycling",
          "Salt Lake City Cycling",
          "Luna County Cycling",
          "Luna County Cycling",
          "Luna County Cycling",
          "Luna County Cycling",
          "Salt Lake City Cycling",
          "Salt Lake City Cycling",
          "Salt Lake City Cycling",
          "Davis County Cycling",
          "Davis County Cycling",
          "Salt Lake City Cycling",
          "Salt Lake City Cycling",
          "Salt Lake City Cycling",
          "Salt Lake City Cycling",
          "Salt Lake City Cycling",
          "Salt Lake City Cycling",
          "Salt Lake City Cycling",
          "Salt Lake City Cycling",
          "Salt Lake City Cycling",
          "Salt Lake City Cycling",
          "Salt Lake City Cycling",
          "Salt Lake City Cycling",
          "Salt Lake City Cycling",
          "Salt Lake City Cycling",
          "Davis County Cycling",
          "Salt Lake City Cycling",
          "Salt Lake City Cycling",
          "Salt Lake City Cycling",
          "Salt Lake City Cycling",
          "Salt Lake City Cycling",
          "Salt Lake City Cycling",
          "Salt Lake City Cycling",
          "Salt Lake City Cycling",
          "Salt Lake City Cycling",
          "Salt Lake City Cycling",
          "Salt Lake City Cycling",
          "Salt Lake City Cycling",
          "Salt Lake City Cycling",
          "Indoor Cycling",
          "Indoor Cycling",
          "Salt Lake City Cycling",
          "Indoor Cycling",
          "Santa Barbara Cycling",
          "Indoor Cycling",
          "Farmington Cycling",
          "Indoor Cycling",
          "Indoor Cycling",
          "Indoor Cycling",
          "Indoor Cycling",
          "Indoor Cycling",
          "Luna County Cycling",
          "Indoor Cycling",
          "Indoor Cycling",
          "First Indoor Cycling Class @ The Gym"
         ],
         "legendgroup": "Cycling, Training",
         "marker": {
          "color": "grey",
          "symbol": "circle"
         },
         "mode": "markers",
         "name": "Cycling, Training",
         "orientation": "v",
         "showlegend": true,
         "type": "scatter",
         "x": [
          "2022-09-02T20:09:21",
          "2022-08-26T17:56:33",
          "2022-08-20T19:11:10",
          "2022-08-19T19:17:01",
          "2022-08-17T20:34:41",
          "2022-08-13T14:43:49",
          "2022-08-10T20:18:31",
          "2022-07-25T09:55:53",
          "2022-07-23T19:16:37",
          "2022-07-19T20:50:55",
          "2022-07-05T21:27:06",
          "2021-09-06T10:13:05",
          "2021-09-04T09:21:35",
          "2021-08-28T10:10:26",
          "2021-08-24T09:39:01",
          "2021-08-21T11:04:14",
          "2021-08-17T10:04:22",
          "2021-08-14T09:16:27",
          "2021-08-10T12:38:27",
          "2021-08-09T19:45:05",
          "2021-08-07T09:09:42",
          "2021-08-04T14:46:42",
          "2021-08-02T19:51:17",
          "2021-07-30T20:13:30",
          "2021-07-02T20:24:09",
          "2021-06-30T20:31:44",
          "2021-05-10T15:07:51",
          "2021-05-05T15:22:43",
          "2021-04-29T16:58:38",
          "2021-02-08T14:26:16",
          "2021-02-04T15:37:54",
          "2021-01-13T15:33:11",
          "2021-01-12T15:09:33",
          "2020-12-31T13:30:07",
          "2020-12-23T14:06:45",
          "2020-12-23T13:42:11",
          "2020-12-21T14:48:27",
          "2020-11-19T15:36:56",
          "2020-11-14T15:19:23",
          "2020-11-02T16:03:38",
          "2020-10-24T15:49:15",
          "2020-10-17T17:14:37",
          "2020-10-07T16:04:14",
          "2020-10-05T17:39:14",
          "2020-09-28T15:12:09",
          "2020-09-25T10:48:37",
          "2020-09-23T17:02:24",
          "2020-09-21T15:09:57",
          "2020-09-18T10:31:03",
          "2020-09-11T10:43:12",
          "2020-08-24T19:32:01",
          "2020-08-18T19:28:30",
          "2020-08-11T19:53:09",
          "2020-08-04T13:35:00",
          "2020-07-29T16:00:36",
          "2020-07-02T20:25:06",
          "2020-06-19T17:56:03",
          "2020-06-02T19:04:31",
          "2020-05-09T19:16:05",
          "2020-04-24T15:37:17",
          "2020-04-16T16:09:25",
          "2020-04-10T12:45:29",
          "2020-04-08T14:10:59",
          "2020-04-04T16:19:17",
          "2020-04-01T15:20:53",
          "2020-03-27T16:13:41",
          "2020-03-25T14:45:59",
          "2020-03-20T15:49:16",
          "2020-03-18T16:51:57",
          "2020-03-13T14:40:37",
          "2020-03-09T06:35:23",
          "2020-03-04T05:44:17",
          "2020-02-28T13:13:14",
          "2020-02-26T05:41:56",
          "2020-02-21T14:02:28",
          "2020-02-19T05:39:31",
          "2020-02-14T16:01:11",
          "2020-02-12T05:39:40",
          "2020-02-10T05:38:22",
          "2020-01-29T05:34:52",
          "2020-01-27T05:33:31",
          "2020-01-22T05:36:34",
          "2020-01-18T13:15:38",
          "2020-01-15T05:37:58",
          "2020-01-13T05:41:57",
          "2020-01-08T05:30:28"
         ],
         "xaxis": "x",
         "y": [
          8.86,
          35.3,
          25.74,
          6.62,
          10.27,
          18.07,
          10.23,
          10.56,
          10.63,
          9,
          6.37,
          18.92,
          10.75,
          30.36,
          10.76,
          17.68,
          16.61,
          27.46,
          13.55,
          11.99,
          10.53,
          0,
          0.72,
          10.86,
          10.17,
          9.54,
          12.62,
          8.46,
          12.59,
          12.61,
          12.59,
          28.27,
          11.71,
          57.02,
          21.25,
          3.06,
          16.16,
          8.83,
          12.64,
          12.46,
          40.01,
          24.01,
          29.29,
          17.28,
          26.67,
          14.52,
          9.67,
          27.38,
          13.82,
          14.29,
          20.04,
          20.65,
          15.42,
          23.64,
          12.73,
          11.1,
          6.73,
          7.36,
          9.75,
          41.41,
          20.34,
          16.98,
          27.74,
          5.62,
          12.62,
          17.04,
          28.83,
          20.05,
          12.67,
          12.58,
          0,
          0,
          43.31,
          0,
          4.85,
          0,
          17.69,
          0,
          0,
          0,
          0,
          0,
          34.48,
          0,
          0,
          16.1
         ],
         "yaxis": "y"
        },
        {
         "hovertemplate": "<b>%{hovertext}</b><br><br>Activity Type=Triathlon<br>Competition=Training<br>Date=%{x}<br>Distance=%{y}<extra></extra>",
         "hovertext": [
          "Multi-Sport"
         ],
         "legendgroup": "Triathlon, Training",
         "marker": {
          "color": "red",
          "symbol": "circle"
         },
         "mode": "markers",
         "name": "Triathlon, Training",
         "orientation": "v",
         "showlegend": true,
         "type": "scatter",
         "x": [
          "2020-02-11T16:48:43"
         ],
         "xaxis": "x",
         "y": [
          0
         ],
         "yaxis": "y"
        },
        {
         "hovertemplate": "<b>%{hovertext}</b><br><br>Activity Type=Triathlon<br>Competition=Race<br>Date=%{x}<br>Distance=%{y}<extra></extra>",
         "hovertext": [
          "Summit County Multisport",
          "Syracuse Multisport"
         ],
         "legendgroup": "Triathlon, Race",
         "marker": {
          "color": "red",
          "symbol": "diamond"
         },
         "mode": "markers",
         "name": "Triathlon, Race",
         "orientation": "v",
         "showlegend": true,
         "type": "scatter",
         "x": [
          "2022-07-16T07:16:24",
          "2021-09-11T07:41:11"
         ],
         "xaxis": "x",
         "y": [
          29.77,
          65.06
         ],
         "yaxis": "y"
        },
        {
         "hovertemplate": "<b>%{hovertext}</b><br><br>Activity Type=Swimming<br>Competition=Training<br>Date=%{x}<br>Distance=%{y}<extra></extra>",
         "hovertext": [
          "Pool Swimming",
          "Pool Swimming",
          "Pool Swimming",
          "Swimming",
          "Pool Swimming",
          "Pool Swimming",
          "Pool Swimming",
          "Pool Swimming",
          "Pool Swimming",
          "Pool Swimming",
          "Pool Swimming",
          "Pool Swimming",
          "Pool Swimming",
          "Pool Swimming",
          "Pool Swimming",
          "Pool Swimming",
          "Pool Swimming",
          "Salt Lake City Swimming",
          "Pool Swimming",
          "Pool Swimming",
          "Pool Swimming",
          "Pool Swimming",
          "Pool Swimming",
          "Pool Swimming",
          "Pool Swimming",
          "Pool Swimming",
          "Pool Swimming",
          "Pool Swimming",
          "Pool Swimming",
          "Pool Swimming",
          "Pool Swimming",
          "Pool Swimming",
          "Pool Swimming",
          "Lap Swimming",
          "Lap Swimming",
          "Lap Swimming",
          "Lap Swimming",
          "Lap Swimming",
          "Lap Swimming",
          "Lap Swimming",
          "Lap Swimming",
          "Lap Swimming",
          "Lap Swimming",
          "Lap Swimming",
          "Lap Swimming",
          "Overstrand Open Water Swimming",
          "Aston Bay Open Water Swimming",
          "Aston Bay Open Water Swimming",
          "Aston Bay Open Water Swimming",
          "Lap Swimming"
         ],
         "legendgroup": "Swimming, Training",
         "marker": {
          "color": "blue",
          "symbol": "circle"
         },
         "mode": "markers",
         "name": "Swimming, Training",
         "orientation": "v",
         "showlegend": true,
         "type": "scatter",
         "x": [
          "2022-07-11T20:18:01",
          "2022-07-06T20:34:33",
          "2021-11-16T07:55:28",
          "2021-10-28T08:00:00",
          "2021-10-21T07:53:32",
          "2021-10-19T07:51:32",
          "2021-10-07T07:38:19",
          "2021-10-05T07:48:44",
          "2021-09-21T08:00:38",
          "2021-09-07T07:26:21",
          "2021-09-02T07:21:57",
          "2021-08-31T07:21:30",
          "2021-08-26T10:56:54",
          "2021-08-19T14:36:08",
          "2021-08-12T15:03:31",
          "2021-08-05T15:16:58",
          "2021-05-22T19:12:40",
          "2021-01-19T17:58:26",
          "2020-12-18T12:51:50",
          "2020-12-15T12:31:09",
          "2020-12-04T17:25:42",
          "2020-11-20T17:19:08",
          "2020-10-23T16:59:59",
          "2020-10-09T16:50:48",
          "2020-10-02T17:06:38",
          "2020-09-22T15:06:05",
          "2020-08-05T15:08:05",
          "2020-07-31T11:21:22",
          "2020-07-29T15:26:13",
          "2020-07-22T14:08:59",
          "2020-07-16T14:41:38",
          "2020-07-14T14:39:44",
          "2020-03-04T06:39:47",
          "2020-02-26T06:39:57",
          "2020-02-19T06:30:27",
          "2020-02-17T15:31:40",
          "2020-02-12T06:40:40",
          "2020-02-10T06:30:20",
          "2020-01-27T06:39:54",
          "2020-01-24T15:25:47",
          "2020-01-16T06:19:01",
          "2020-01-13T06:47:01",
          "2020-01-11T08:10:45",
          "2020-01-10T08:45:15",
          "2020-01-08T12:43:07",
          "2019-12-30T09:40:31",
          "2019-12-21T06:16:25",
          "2019-12-20T07:30:21",
          "2019-12-20T07:09:26",
          "2019-12-06T11:13:37"
         ],
         "xaxis": "x",
         "y": [
          0.568182,
          0.284091,
          0.3977274,
          0.568182,
          0.568182,
          0.568182,
          0.568182,
          0.1136364,
          0.568182,
          0.8238639,
          1.17897765,
          0.5965910999999999,
          0.9659093999999999,
          0.7456452,
          0.7456452,
          0.568182,
          0.568182,
          0.568182,
          0.6818183999999999,
          0.7386366,
          0.6534093,
          0.46875015,
          1.1647731,
          0.6534093,
          0.58238655,
          0.3728226,
          0.49715925,
          1.0227275999999998,
          0.52816535,
          0.58238655,
          0.8664775499999999,
          0.568182,
          0.18181824,
          0.568182,
          0.284091,
          1.3636367999999999,
          0.6818183999999999,
          0.30681828,
          0.5113637999999999,
          0.40909103999999996,
          0.7386366,
          0.57954564,
          0.852273,
          0.3977274,
          0.59090928,
          0.782954796,
          0.30056827799999997,
          0.12215912999999999,
          0.109090944,
          0.66761385
         ],
         "yaxis": "y"
        },
        {
         "hovertemplate": "<b>%{hovertext}</b><br><br>Activity Type=Running<br>Competition=Training<br>Date=%{x}<br>Distance=%{y}<extra></extra>",
         "hovertext": [
          "South Jordan Running",
          "South Jordan Running",
          "South Jordan Running",
          "South Jordan Running",
          "Salt Lake City Running",
          "Salt Lake City Running",
          "Salt Lake City Running",
          "Salt Lake City Running",
          "Salt Lake City Running",
          "Salt Lake City Running",
          "Salt Lake City Running",
          "Salt Lake City Running",
          "Salt Lake City Running",
          "Salt Lake City Running",
          "Salt Lake City Running",
          "Salt Lake City Running",
          "Salt Lake City Running",
          "Salt Lake City Running",
          "Salt Lake City Running",
          "Salt Lake City Running",
          "Salt Lake City Running",
          "Salt Lake City Running",
          "Salt Lake City Running",
          "Salt Lake City Running",
          "Salt Lake City Running",
          "Salt Lake City Running",
          "Salt Lake City Running",
          "Salt Lake City Running",
          "Salt Lake City Running",
          "Salt Lake City Running",
          "Salt Lake City Running",
          "Salt Lake City Running",
          "Salt Lake City Running",
          "Salt Lake City Running",
          "Salt Lake City Running",
          "Salt Lake City Running",
          "Salt Lake City Running",
          "Salt Lake City Running",
          "Salt Lake City Running",
          "Salt Lake City Running",
          "Salt Lake City Running",
          "Salt Lake City Running",
          "Salt Lake City Running",
          "Salt Lake City Running",
          "Salt Lake City Running",
          "Salt Lake City Running",
          "Salt Lake City Running",
          "Salt Lake City Running",
          "Salt Lake City Running",
          "Salt Lake City Running",
          "Salt Lake City Running",
          "Salt Lake City Running",
          "Salt Lake County Running",
          "Salt Lake City Running",
          "Salt Lake City Running",
          "Salt Lake City Running",
          "Salt Lake City Running",
          "Salt Lake City Running",
          "Salt Lake City Running",
          "Salt Lake City Running",
          "Salt Lake City Running",
          "Salt Lake City Running",
          "Davis Running",
          "Salt Lake City Running",
          "Salt Lake City Running",
          "Salt Lake City Running",
          "Salt Lake City Running",
          "Luna County Running",
          "Luna County Running",
          "Luna County Running",
          "Salt Lake City Running",
          "Salt Lake City Running",
          "Salt Lake City Running",
          "Salt Lake City Running",
          "Salt Lake City Running",
          "Salt Lake City Running",
          "Salt Lake City Running",
          "Salt Lake City Running",
          "Salt Lake City Running",
          "Salt Lake City Running",
          "Salt Lake City Running",
          "Salt Lake City Running",
          "Salt Lake City Running",
          "Salt Lake City Running",
          "Salt Lake City Running",
          "Salt Lake City Running",
          "Salt Lake City Running",
          "Salt Lake City Running",
          "Salt Lake City Running",
          "Salt Lake City Running",
          "Salt Lake City Running",
          "Salt Lake City Running",
          "Salt Lake City Running",
          "Salt Lake City Running",
          "Salt Lake City Running",
          "Salt Lake City Running",
          "Salt Lake City Running",
          "Salt Lake City Running",
          "Salt Lake City Running",
          "Salt Lake City Running",
          "Salt Lake City Running",
          "Salt Lake City Running",
          "Salt Lake City Running",
          "Salt Lake City Running",
          "Salt Lake County Trail Running",
          "Salt Lake City Running",
          "Salt Lake City Running",
          "Salt Lake City Running",
          "Salt Lake City Running",
          "Salt Lake City Running",
          "Salt Lake City Running",
          "Salt Lake City Running",
          "Running",
          "Salt Lake City Running",
          "Salt Lake City Running",
          "Salt Lake City Running",
          "Salt Lake City Running",
          "Salt Lake City Trail Running",
          "Salt Lake City Running",
          "Salt Lake City Running",
          "Salt Lake City Running",
          "Salt Lake City Running",
          "Salt Lake City Running",
          "Salt Lake City Running",
          "Salt Lake City Running",
          "Salt Lake City Running",
          "Salt Lake City Running",
          "Salt Lake City Running",
          "Salt Lake City Running",
          "Salt Lake City Running",
          "Salt Lake City Running",
          "Salt Lake City Running",
          "Salt Lake City Running",
          "Salt Lake City Running",
          "Salt Lake City Running",
          "Salt Lake City Running",
          "Salt Lake City Running",
          "Salt Lake City Running",
          "Salt Lake City Running",
          "Salt Lake City Running",
          "Salt Lake City Running",
          "Salt Lake City Running",
          "Santa Barbara Running",
          "Santa Barbara Running",
          "Salt Lake City Running",
          "Salt Lake City Running",
          "Salt Lake City Running",
          "Salt Lake City Running",
          "South Jordan Running",
          "Salt Lake City Running",
          "Luna County Running",
          "Salt Lake City Trail Running",
          "Fisherhaven - W01D1a-Easy Run",
          "Fisherhaven Running",
          "Salt Lake City Running"
         ],
         "legendgroup": "Running, Training",
         "marker": {
          "color": "lightgreen",
          "symbol": "circle"
         },
         "mode": "markers",
         "name": "Running, Training",
         "orientation": "v",
         "showlegend": true,
         "type": "scatter",
         "x": [
          "2022-06-28T22:44:04",
          "2022-06-01T21:52:53",
          "2022-05-25T20:52:19",
          "2022-05-23T21:57:21",
          "2022-04-19T22:35:00",
          "2022-04-16T16:52:42",
          "2022-04-14T10:03:51",
          "2022-04-09T16:42:31",
          "2022-04-06T19:34:13",
          "2022-04-05T21:19:16",
          "2022-04-04T19:01:18",
          "2022-04-02T12:02:11",
          "2022-03-30T19:52:49",
          "2022-03-29T09:02:59",
          "2022-03-25T22:53:46",
          "2022-03-23T21:43:00",
          "2022-03-19T19:26:54",
          "2022-03-15T09:07:06",
          "2022-03-12T19:54:48",
          "2022-03-10T10:11:28",
          "2022-02-19T23:07:10",
          "2022-02-09T22:42:55",
          "2022-02-04T23:05:07",
          "2022-01-31T21:16:48",
          "2022-01-28T21:33:51",
          "2022-01-22T23:19:32",
          "2022-01-17T20:52:02",
          "2022-01-15T19:24:27",
          "2021-11-04T11:31:56",
          "2021-10-28T19:53:27",
          "2021-10-25T20:45:12",
          "2021-10-14T20:41:48",
          "2021-10-09T20:53:12",
          "2021-10-02T20:17:52",
          "2021-09-30T11:04:30",
          "2021-09-28T11:04:54",
          "2021-09-25T21:41:31",
          "2021-09-23T11:06:14",
          "2021-09-18T20:33:27",
          "2021-09-17T20:18:39",
          "2021-09-06T11:26:10",
          "2021-09-01T19:00:33",
          "2021-08-30T20:49:30",
          "2021-08-26T21:26:52",
          "2021-08-23T22:17:47",
          "2021-08-21T12:21:00",
          "2021-08-17T11:14:50",
          "2021-08-06T21:41:37",
          "2021-08-02T21:06:59",
          "2021-07-29T20:48:49",
          "2021-07-27T21:53:04",
          "2021-07-26T21:13:16",
          "2021-07-02T21:24:46",
          "2021-06-29T20:24:29",
          "2021-06-26T15:03:06",
          "2021-06-10T22:18:58",
          "2021-05-18T22:15:21",
          "2021-05-15T23:42:20",
          "2021-04-26T21:56:09",
          "2021-03-22T22:00:17",
          "2021-03-13T13:56:34",
          "2021-02-18T13:35:10",
          "2021-02-15T08:49:41",
          "2021-02-03T14:32:05",
          "2021-02-02T18:22:01",
          "2021-01-11T21:05:06",
          "2021-01-04T22:06:49",
          "2021-01-01T10:37:29",
          "2020-12-28T20:13:48",
          "2020-12-22T08:09:11",
          "2020-12-19T07:45:50",
          "2020-12-16T22:14:16",
          "2020-12-09T19:44:53",
          "2020-12-08T21:48:43",
          "2020-12-07T22:38:31",
          "2020-12-05T17:27:33",
          "2020-12-04T18:15:36",
          "2020-12-01T16:38:49",
          "2020-11-28T20:29:33",
          "2020-11-27T18:58:16",
          "2020-11-25T18:26:19",
          "2020-11-21T18:48:23",
          "2020-11-18T17:23:47",
          "2020-11-16T16:23:55",
          "2020-11-13T18:37:06",
          "2020-11-07T15:16:46",
          "2020-11-05T15:45:44",
          "2020-11-04T19:53:44",
          "2020-10-31T15:03:00",
          "2020-10-28T21:41:16",
          "2020-10-27T19:51:58",
          "2020-10-21T21:37:36",
          "2020-10-19T20:34:47",
          "2020-10-15T07:46:19",
          "2020-10-14T20:41:52",
          "2020-10-03T18:29:49",
          "2020-09-30T21:34:19",
          "2020-09-29T23:07:40",
          "2020-09-23T17:50:12",
          "2020-09-17T19:02:55",
          "2020-09-16T20:55:02",
          "2020-09-14T14:00:15",
          "2020-09-10T16:38:34",
          "2020-09-01T16:47:11",
          "2020-08-19T20:08:29",
          "2020-08-14T15:10:12",
          "2020-08-10T21:41:10",
          "2020-08-03T21:24:33",
          "2020-07-27T21:33:24",
          "2020-07-22T14:59:28",
          "2020-07-02T21:33:56",
          "2020-06-24T12:07:27",
          "2020-06-08T03:07:25",
          "2020-05-30T20:32:45",
          "2020-05-23T13:19:50",
          "2020-05-20T23:27:16",
          "2020-05-13T21:17:24",
          "2020-05-09T20:19:14",
          "2020-05-06T22:42:45",
          "2020-05-05T23:43:29",
          "2020-05-04T20:54:41",
          "2020-05-01T17:08:44",
          "2020-04-29T18:32:18",
          "2020-04-27T15:05:59",
          "2020-04-23T19:18:23",
          "2020-04-18T18:01:42",
          "2020-04-15T16:58:05",
          "2020-04-06T15:13:23",
          "2020-04-02T15:40:38",
          "2020-03-30T14:34:24",
          "2020-03-26T14:11:21",
          "2020-03-23T19:53:13",
          "2020-03-19T21:42:10",
          "2020-03-17T21:34:32",
          "2020-03-16T20:06:11",
          "2020-03-13T15:46:07",
          "2020-03-07T20:36:26",
          "2020-03-06T16:08:38",
          "2020-03-04T05:21:32",
          "2020-03-02T17:03:36",
          "2020-02-28T15:51:39",
          "2020-02-26T15:20:59",
          "2020-02-22T18:23:16",
          "2020-02-21T15:49:08",
          "2020-02-18T10:00:36",
          "2020-02-15T08:37:59",
          "2020-02-11T19:27:41",
          "2020-01-29T15:27:59",
          "2020-01-25T16:33:00",
          "2020-01-23T15:59:13",
          "2020-01-18T15:25:55",
          "2020-01-09T10:09:17",
          "2019-12-28T22:44:25",
          "2019-12-25T21:41:01",
          "2019-12-09T11:07:42"
         ],
         "xaxis": "x",
         "y": [
          1.94,
          2.03,
          3.97,
          1.94,
          2.2,
          10.38,
          3.3,
          5.44,
          1.4,
          2.37,
          3.54,
          2.39,
          3.22,
          2.47,
          2.34,
          3.55,
          3.51,
          2.57,
          2.41,
          2.01,
          1.88,
          3.55,
          2.44,
          2.44,
          4.37,
          3.66,
          2.44,
          2.18,
          2.4,
          3.52,
          3.54,
          4.81,
          3.33,
          3.6,
          3.24,
          4.54,
          2.45,
          3.18,
          3.18,
          3.18,
          5.1,
          3.44,
          4.01,
          1.51,
          4,
          2.11,
          1.1,
          1.75,
          3.45,
          2.44,
          2.17,
          1.92,
          3.28,
          2.4,
          2.11,
          2.37,
          2.16,
          1.88,
          2.32,
          2.51,
          0.81,
          2.19,
          1.34,
          2.28,
          3.47,
          3.85,
          2.42,
          1.17,
          5.01,
          1.17,
          1.65,
          5.35,
          4.84,
          2.18,
          3.47,
          2.17,
          2.15,
          5.19,
          5,
          2.01,
          5.35,
          4.81,
          5.66,
          2.31,
          4.09,
          2,
          3,
          3.24,
          3.33,
          3.8,
          3.31,
          6.41,
          3.32,
          2.93,
          1.49,
          5.01,
          5.18,
          3.5,
          1.27,
          3.22,
          5.44,
          2.01,
          3.35,
          3.31,
          2.6,
          1.14,
          2.87,
          2.02,
          3.32,
          3.43,
          1.12,
          1.83,
          1.62,
          2.01,
          1.58,
          2.15,
          5.47,
          3.78,
          3.21,
          2.49,
          3.2,
          3.19,
          4.22,
          1.7,
          1,
          3.32,
          2.01,
          10.01,
          2.22,
          7.8,
          3.18,
          6.21,
          2.12,
          4,
          4.01,
          3.34,
          2.01,
          3.1,
          1.46,
          8.17,
          3.18,
          2.77,
          3.32,
          1.12,
          3.17,
          3.32,
          2.15,
          2.04,
          6.3,
          4.31,
          3.2,
          6.6,
          4.65,
          3.3,
          3.3
         ],
         "yaxis": "y"
        },
        {
         "hovertemplate": "<b>%{hovertext}</b><br><br>Activity Type=Running<br>Competition=Race<br>Date=%{x}<br>Distance=%{y}<extra></extra>",
         "hovertext": [
          "Salt Lake City Running"
         ],
         "legendgroup": "Running, Race",
         "marker": {
          "color": "lightgreen",
          "symbol": "diamond"
         },
         "mode": "markers",
         "name": "Running, Race",
         "orientation": "v",
         "showlegend": true,
         "type": "scatter",
         "x": [
          "2022-04-23T07:08:58"
         ],
         "xaxis": "x",
         "y": [
          26.56
         ],
         "yaxis": "y"
        }
       ],
       "layout": {
        "legend": {
         "title": {
          "text": "Activity Type, Competition"
         },
         "tracegroupgap": 0
        },
        "margin": {
         "b": 20,
         "l": 10,
         "r": 10,
         "t": 20
        },
        "template": {
         "data": {
          "bar": [
           {
            "error_x": {
             "color": "rgb(36,36,36)"
            },
            "error_y": {
             "color": "rgb(36,36,36)"
            },
            "marker": {
             "line": {
              "color": "white",
              "width": 0.5
             },
             "pattern": {
              "fillmode": "overlay",
              "size": 10,
              "solidity": 0.2
             }
            },
            "type": "bar"
           }
          ],
          "barpolar": [
           {
            "marker": {
             "line": {
              "color": "white",
              "width": 0.5
             },
             "pattern": {
              "fillmode": "overlay",
              "size": 10,
              "solidity": 0.2
             }
            },
            "type": "barpolar"
           }
          ],
          "carpet": [
           {
            "aaxis": {
             "endlinecolor": "rgb(36,36,36)",
             "gridcolor": "white",
             "linecolor": "white",
             "minorgridcolor": "white",
             "startlinecolor": "rgb(36,36,36)"
            },
            "baxis": {
             "endlinecolor": "rgb(36,36,36)",
             "gridcolor": "white",
             "linecolor": "white",
             "minorgridcolor": "white",
             "startlinecolor": "rgb(36,36,36)"
            },
            "type": "carpet"
           }
          ],
          "choropleth": [
           {
            "colorbar": {
             "outlinewidth": 1,
             "tickcolor": "rgb(36,36,36)",
             "ticks": "outside"
            },
            "type": "choropleth"
           }
          ],
          "contour": [
           {
            "colorbar": {
             "outlinewidth": 1,
             "tickcolor": "rgb(36,36,36)",
             "ticks": "outside"
            },
            "colorscale": [
             [
              0,
              "#440154"
             ],
             [
              0.1111111111111111,
              "#482878"
             ],
             [
              0.2222222222222222,
              "#3e4989"
             ],
             [
              0.3333333333333333,
              "#31688e"
             ],
             [
              0.4444444444444444,
              "#26828e"
             ],
             [
              0.5555555555555556,
              "#1f9e89"
             ],
             [
              0.6666666666666666,
              "#35b779"
             ],
             [
              0.7777777777777778,
              "#6ece58"
             ],
             [
              0.8888888888888888,
              "#b5de2b"
             ],
             [
              1,
              "#fde725"
             ]
            ],
            "type": "contour"
           }
          ],
          "contourcarpet": [
           {
            "colorbar": {
             "outlinewidth": 1,
             "tickcolor": "rgb(36,36,36)",
             "ticks": "outside"
            },
            "type": "contourcarpet"
           }
          ],
          "heatmap": [
           {
            "colorbar": {
             "outlinewidth": 1,
             "tickcolor": "rgb(36,36,36)",
             "ticks": "outside"
            },
            "colorscale": [
             [
              0,
              "#440154"
             ],
             [
              0.1111111111111111,
              "#482878"
             ],
             [
              0.2222222222222222,
              "#3e4989"
             ],
             [
              0.3333333333333333,
              "#31688e"
             ],
             [
              0.4444444444444444,
              "#26828e"
             ],
             [
              0.5555555555555556,
              "#1f9e89"
             ],
             [
              0.6666666666666666,
              "#35b779"
             ],
             [
              0.7777777777777778,
              "#6ece58"
             ],
             [
              0.8888888888888888,
              "#b5de2b"
             ],
             [
              1,
              "#fde725"
             ]
            ],
            "type": "heatmap"
           }
          ],
          "heatmapgl": [
           {
            "colorbar": {
             "outlinewidth": 1,
             "tickcolor": "rgb(36,36,36)",
             "ticks": "outside"
            },
            "colorscale": [
             [
              0,
              "#440154"
             ],
             [
              0.1111111111111111,
              "#482878"
             ],
             [
              0.2222222222222222,
              "#3e4989"
             ],
             [
              0.3333333333333333,
              "#31688e"
             ],
             [
              0.4444444444444444,
              "#26828e"
             ],
             [
              0.5555555555555556,
              "#1f9e89"
             ],
             [
              0.6666666666666666,
              "#35b779"
             ],
             [
              0.7777777777777778,
              "#6ece58"
             ],
             [
              0.8888888888888888,
              "#b5de2b"
             ],
             [
              1,
              "#fde725"
             ]
            ],
            "type": "heatmapgl"
           }
          ],
          "histogram": [
           {
            "marker": {
             "line": {
              "color": "white",
              "width": 0.6
             }
            },
            "type": "histogram"
           }
          ],
          "histogram2d": [
           {
            "colorbar": {
             "outlinewidth": 1,
             "tickcolor": "rgb(36,36,36)",
             "ticks": "outside"
            },
            "colorscale": [
             [
              0,
              "#440154"
             ],
             [
              0.1111111111111111,
              "#482878"
             ],
             [
              0.2222222222222222,
              "#3e4989"
             ],
             [
              0.3333333333333333,
              "#31688e"
             ],
             [
              0.4444444444444444,
              "#26828e"
             ],
             [
              0.5555555555555556,
              "#1f9e89"
             ],
             [
              0.6666666666666666,
              "#35b779"
             ],
             [
              0.7777777777777778,
              "#6ece58"
             ],
             [
              0.8888888888888888,
              "#b5de2b"
             ],
             [
              1,
              "#fde725"
             ]
            ],
            "type": "histogram2d"
           }
          ],
          "histogram2dcontour": [
           {
            "colorbar": {
             "outlinewidth": 1,
             "tickcolor": "rgb(36,36,36)",
             "ticks": "outside"
            },
            "colorscale": [
             [
              0,
              "#440154"
             ],
             [
              0.1111111111111111,
              "#482878"
             ],
             [
              0.2222222222222222,
              "#3e4989"
             ],
             [
              0.3333333333333333,
              "#31688e"
             ],
             [
              0.4444444444444444,
              "#26828e"
             ],
             [
              0.5555555555555556,
              "#1f9e89"
             ],
             [
              0.6666666666666666,
              "#35b779"
             ],
             [
              0.7777777777777778,
              "#6ece58"
             ],
             [
              0.8888888888888888,
              "#b5de2b"
             ],
             [
              1,
              "#fde725"
             ]
            ],
            "type": "histogram2dcontour"
           }
          ],
          "mesh3d": [
           {
            "colorbar": {
             "outlinewidth": 1,
             "tickcolor": "rgb(36,36,36)",
             "ticks": "outside"
            },
            "type": "mesh3d"
           }
          ],
          "parcoords": [
           {
            "line": {
             "colorbar": {
              "outlinewidth": 1,
              "tickcolor": "rgb(36,36,36)",
              "ticks": "outside"
             }
            },
            "type": "parcoords"
           }
          ],
          "pie": [
           {
            "automargin": true,
            "type": "pie"
           }
          ],
          "scatter": [
           {
            "marker": {
             "colorbar": {
              "outlinewidth": 1,
              "tickcolor": "rgb(36,36,36)",
              "ticks": "outside"
             }
            },
            "type": "scatter"
           }
          ],
          "scatter3d": [
           {
            "line": {
             "colorbar": {
              "outlinewidth": 1,
              "tickcolor": "rgb(36,36,36)",
              "ticks": "outside"
             }
            },
            "marker": {
             "colorbar": {
              "outlinewidth": 1,
              "tickcolor": "rgb(36,36,36)",
              "ticks": "outside"
             }
            },
            "type": "scatter3d"
           }
          ],
          "scattercarpet": [
           {
            "marker": {
             "colorbar": {
              "outlinewidth": 1,
              "tickcolor": "rgb(36,36,36)",
              "ticks": "outside"
             }
            },
            "type": "scattercarpet"
           }
          ],
          "scattergeo": [
           {
            "marker": {
             "colorbar": {
              "outlinewidth": 1,
              "tickcolor": "rgb(36,36,36)",
              "ticks": "outside"
             }
            },
            "type": "scattergeo"
           }
          ],
          "scattergl": [
           {
            "marker": {
             "colorbar": {
              "outlinewidth": 1,
              "tickcolor": "rgb(36,36,36)",
              "ticks": "outside"
             }
            },
            "type": "scattergl"
           }
          ],
          "scattermapbox": [
           {
            "marker": {
             "colorbar": {
              "outlinewidth": 1,
              "tickcolor": "rgb(36,36,36)",
              "ticks": "outside"
             }
            },
            "type": "scattermapbox"
           }
          ],
          "scatterpolar": [
           {
            "marker": {
             "colorbar": {
              "outlinewidth": 1,
              "tickcolor": "rgb(36,36,36)",
              "ticks": "outside"
             }
            },
            "type": "scatterpolar"
           }
          ],
          "scatterpolargl": [
           {
            "marker": {
             "colorbar": {
              "outlinewidth": 1,
              "tickcolor": "rgb(36,36,36)",
              "ticks": "outside"
             }
            },
            "type": "scatterpolargl"
           }
          ],
          "scatterternary": [
           {
            "marker": {
             "colorbar": {
              "outlinewidth": 1,
              "tickcolor": "rgb(36,36,36)",
              "ticks": "outside"
             }
            },
            "type": "scatterternary"
           }
          ],
          "surface": [
           {
            "colorbar": {
             "outlinewidth": 1,
             "tickcolor": "rgb(36,36,36)",
             "ticks": "outside"
            },
            "colorscale": [
             [
              0,
              "#440154"
             ],
             [
              0.1111111111111111,
              "#482878"
             ],
             [
              0.2222222222222222,
              "#3e4989"
             ],
             [
              0.3333333333333333,
              "#31688e"
             ],
             [
              0.4444444444444444,
              "#26828e"
             ],
             [
              0.5555555555555556,
              "#1f9e89"
             ],
             [
              0.6666666666666666,
              "#35b779"
             ],
             [
              0.7777777777777778,
              "#6ece58"
             ],
             [
              0.8888888888888888,
              "#b5de2b"
             ],
             [
              1,
              "#fde725"
             ]
            ],
            "type": "surface"
           }
          ],
          "table": [
           {
            "cells": {
             "fill": {
              "color": "rgb(237,237,237)"
             },
             "line": {
              "color": "white"
             }
            },
            "header": {
             "fill": {
              "color": "rgb(217,217,217)"
             },
             "line": {
              "color": "white"
             }
            },
            "type": "table"
           }
          ]
         },
         "layout": {
          "annotationdefaults": {
           "arrowhead": 0,
           "arrowwidth": 1
          },
          "autotypenumbers": "strict",
          "coloraxis": {
           "colorbar": {
            "outlinewidth": 1,
            "tickcolor": "rgb(36,36,36)",
            "ticks": "outside"
           }
          },
          "colorscale": {
           "diverging": [
            [
             0,
             "rgb(103,0,31)"
            ],
            [
             0.1,
             "rgb(178,24,43)"
            ],
            [
             0.2,
             "rgb(214,96,77)"
            ],
            [
             0.3,
             "rgb(244,165,130)"
            ],
            [
             0.4,
             "rgb(253,219,199)"
            ],
            [
             0.5,
             "rgb(247,247,247)"
            ],
            [
             0.6,
             "rgb(209,229,240)"
            ],
            [
             0.7,
             "rgb(146,197,222)"
            ],
            [
             0.8,
             "rgb(67,147,195)"
            ],
            [
             0.9,
             "rgb(33,102,172)"
            ],
            [
             1,
             "rgb(5,48,97)"
            ]
           ],
           "sequential": [
            [
             0,
             "#440154"
            ],
            [
             0.1111111111111111,
             "#482878"
            ],
            [
             0.2222222222222222,
             "#3e4989"
            ],
            [
             0.3333333333333333,
             "#31688e"
            ],
            [
             0.4444444444444444,
             "#26828e"
            ],
            [
             0.5555555555555556,
             "#1f9e89"
            ],
            [
             0.6666666666666666,
             "#35b779"
            ],
            [
             0.7777777777777778,
             "#6ece58"
            ],
            [
             0.8888888888888888,
             "#b5de2b"
            ],
            [
             1,
             "#fde725"
            ]
           ],
           "sequentialminus": [
            [
             0,
             "#440154"
            ],
            [
             0.1111111111111111,
             "#482878"
            ],
            [
             0.2222222222222222,
             "#3e4989"
            ],
            [
             0.3333333333333333,
             "#31688e"
            ],
            [
             0.4444444444444444,
             "#26828e"
            ],
            [
             0.5555555555555556,
             "#1f9e89"
            ],
            [
             0.6666666666666666,
             "#35b779"
            ],
            [
             0.7777777777777778,
             "#6ece58"
            ],
            [
             0.8888888888888888,
             "#b5de2b"
            ],
            [
             1,
             "#fde725"
            ]
           ]
          },
          "colorway": [
           "#1F77B4",
           "#FF7F0E",
           "#2CA02C",
           "#D62728",
           "#9467BD",
           "#8C564B",
           "#E377C2",
           "#7F7F7F",
           "#BCBD22",
           "#17BECF"
          ],
          "font": {
           "color": "rgb(36,36,36)"
          },
          "geo": {
           "bgcolor": "white",
           "lakecolor": "white",
           "landcolor": "white",
           "showlakes": true,
           "showland": true,
           "subunitcolor": "white"
          },
          "hoverlabel": {
           "align": "left"
          },
          "hovermode": "closest",
          "mapbox": {
           "style": "light"
          },
          "paper_bgcolor": "white",
          "plot_bgcolor": "white",
          "polar": {
           "angularaxis": {
            "gridcolor": "rgb(232,232,232)",
            "linecolor": "rgb(36,36,36)",
            "showgrid": false,
            "showline": true,
            "ticks": "outside"
           },
           "bgcolor": "white",
           "radialaxis": {
            "gridcolor": "rgb(232,232,232)",
            "linecolor": "rgb(36,36,36)",
            "showgrid": false,
            "showline": true,
            "ticks": "outside"
           }
          },
          "scene": {
           "xaxis": {
            "backgroundcolor": "white",
            "gridcolor": "rgb(232,232,232)",
            "gridwidth": 2,
            "linecolor": "rgb(36,36,36)",
            "showbackground": true,
            "showgrid": false,
            "showline": true,
            "ticks": "outside",
            "zeroline": false,
            "zerolinecolor": "rgb(36,36,36)"
           },
           "yaxis": {
            "backgroundcolor": "white",
            "gridcolor": "rgb(232,232,232)",
            "gridwidth": 2,
            "linecolor": "rgb(36,36,36)",
            "showbackground": true,
            "showgrid": false,
            "showline": true,
            "ticks": "outside",
            "zeroline": false,
            "zerolinecolor": "rgb(36,36,36)"
           },
           "zaxis": {
            "backgroundcolor": "white",
            "gridcolor": "rgb(232,232,232)",
            "gridwidth": 2,
            "linecolor": "rgb(36,36,36)",
            "showbackground": true,
            "showgrid": false,
            "showline": true,
            "ticks": "outside",
            "zeroline": false,
            "zerolinecolor": "rgb(36,36,36)"
           }
          },
          "shapedefaults": {
           "fillcolor": "black",
           "line": {
            "width": 0
           },
           "opacity": 0.3
          },
          "ternary": {
           "aaxis": {
            "gridcolor": "rgb(232,232,232)",
            "linecolor": "rgb(36,36,36)",
            "showgrid": false,
            "showline": true,
            "ticks": "outside"
           },
           "baxis": {
            "gridcolor": "rgb(232,232,232)",
            "linecolor": "rgb(36,36,36)",
            "showgrid": false,
            "showline": true,
            "ticks": "outside"
           },
           "bgcolor": "white",
           "caxis": {
            "gridcolor": "rgb(232,232,232)",
            "linecolor": "rgb(36,36,36)",
            "showgrid": false,
            "showline": true,
            "ticks": "outside"
           }
          },
          "title": {
           "x": 0.05
          },
          "xaxis": {
           "automargin": true,
           "gridcolor": "rgb(232,232,232)",
           "linecolor": "rgb(36,36,36)",
           "showgrid": false,
           "showline": true,
           "ticks": "outside",
           "title": {
            "standoff": 15
           },
           "zeroline": false,
           "zerolinecolor": "rgb(36,36,36)"
          },
          "yaxis": {
           "automargin": true,
           "gridcolor": "rgb(232,232,232)",
           "linecolor": "rgb(36,36,36)",
           "showgrid": false,
           "showline": true,
           "ticks": "outside",
           "title": {
            "standoff": 15
           },
           "zeroline": false,
           "zerolinecolor": "rgb(36,36,36)"
          }
         }
        },
        "xaxis": {
         "anchor": "y",
         "domain": [
          0,
          1
         ],
         "dtick": "M1",
         "tickangle": -45,
         "tickfont": {
          "family": "Calibri",
          "size": 12
         },
         "title": {
          "text": "Date"
         }
        },
        "yaxis": {
         "anchor": "x",
         "domain": [
          0,
          1
         ],
         "title": {
          "text": "Individual Activity Distance"
         }
        }
       }
      }
     },
     "metadata": {},
     "output_type": "display_data"
    }
   ],
   "source": [
    "\n",
    "scatter = px.scatter(\n",
    "    Work,\n",
    "    x = 'Date',\n",
    "    y = 'Distance',\n",
    "    hover_name = 'Title',\n",
    "    color = 'Activity Type',\n",
    "    color_discrete_map = colours,\n",
    "    symbol='Competition'\n",
    ")\n",
    "\n",
    "scatter.update_layout(\n",
    "    margin=dict(l=10, r=10, t=20, b=20),\n",
    "    template = 'simple_white',\n",
    "    yaxis_title = \"Individual Activity Distance\"\n",
    ")\n",
    "\n",
    "scatter.update_xaxes(tickangle=-45, \n",
    "                         tickfont=dict(family='Calibri', size=12),\n",
    "                         dtick=\"M1\"\n",
    ")\n"
   ]
  },
  {
   "cell_type": "code",
   "execution_count": 147,
   "metadata": {},
   "outputs": [
    {
     "data": {
      "text/html": [
       "<div>\n",
       "<style scoped>\n",
       "    .dataframe tbody tr th:only-of-type {\n",
       "        vertical-align: middle;\n",
       "    }\n",
       "\n",
       "    .dataframe tbody tr th {\n",
       "        vertical-align: top;\n",
       "    }\n",
       "\n",
       "    .dataframe thead th {\n",
       "        text-align: right;\n",
       "    }\n",
       "</style>\n",
       "<table border=\"1\" class=\"dataframe\">\n",
       "  <thead>\n",
       "    <tr style=\"text-align: right;\">\n",
       "      <th></th>\n",
       "      <th>Distance</th>\n",
       "    </tr>\n",
       "    <tr>\n",
       "      <th>Activity Type</th>\n",
       "      <th></th>\n",
       "    </tr>\n",
       "  </thead>\n",
       "  <tbody>\n",
       "    <tr>\n",
       "      <th>Cycling</th>\n",
       "      <td>1258.490000</td>\n",
       "    </tr>\n",
       "    <tr>\n",
       "      <th>Running</th>\n",
       "      <td>520.200000</td>\n",
       "    </tr>\n",
       "    <tr>\n",
       "      <th>Swimming</th>\n",
       "      <td>29.795128</td>\n",
       "    </tr>\n",
       "    <tr>\n",
       "      <th>Triathlon</th>\n",
       "      <td>94.830000</td>\n",
       "    </tr>\n",
       "  </tbody>\n",
       "</table>\n",
       "</div>"
      ],
      "text/plain": [
       "                  Distance\n",
       "Activity Type             \n",
       "Cycling        1258.490000\n",
       "Running         520.200000\n",
       "Swimming         29.795128\n",
       "Triathlon        94.830000"
      ]
     },
     "execution_count": 147,
     "metadata": {},
     "output_type": "execute_result"
    }
   ],
   "source": [
    "Work[['Activity Type','Distance']].groupby(by = 'Activity Type').sum()"
   ]
  },
  {
   "cell_type": "code",
   "execution_count": 148,
   "metadata": {},
   "outputs": [
    {
     "data": {
      "application/vnd.plotly.v1+json": {
       "config": {
        "plotlyServerURL": "https://plot.ly"
       },
       "data": [
        {
         "hovertemplate": "Date=%{x}<br>Running Total=%{y}<extra></extra>",
         "legendgroup": "",
         "line": {
          "color": "#636efa",
          "dash": "solid"
         },
         "marker": {
          "symbol": "circle"
         },
         "mode": "lines",
         "name": "",
         "orientation": "v",
         "showlegend": false,
         "type": "scatter",
         "x": [
          "2022-09-02T20:09:21",
          "2022-08-26T17:56:33",
          "2022-08-20T19:11:10",
          "2022-08-19T19:17:01",
          "2022-08-17T20:34:41",
          "2022-08-13T14:43:49",
          "2022-08-10T20:18:31",
          "2022-07-25T09:55:53",
          "2022-07-23T19:16:37",
          "2022-07-19T20:50:55",
          "2022-07-16T07:16:24",
          "2022-07-11T20:18:01",
          "2022-07-06T20:34:33",
          "2022-07-05T21:27:06",
          "2022-06-28T22:44:04",
          "2022-06-01T21:52:53",
          "2022-05-25T20:52:19",
          "2022-05-23T21:57:21",
          "2022-04-23T07:08:58",
          "2022-04-19T22:35:00",
          "2022-04-16T16:52:42",
          "2022-04-14T10:03:51",
          "2022-04-09T16:42:31",
          "2022-04-06T19:34:13",
          "2022-04-05T21:19:16",
          "2022-04-04T19:01:18",
          "2022-04-02T12:02:11",
          "2022-03-30T19:52:49",
          "2022-03-29T09:02:59",
          "2022-03-25T22:53:46",
          "2022-03-23T21:43:00",
          "2022-03-19T19:26:54",
          "2022-03-15T09:07:06",
          "2022-03-12T19:54:48",
          "2022-03-10T10:11:28",
          "2022-02-19T23:07:10",
          "2022-02-09T22:42:55",
          "2022-02-04T23:05:07",
          "2022-01-31T21:16:48",
          "2022-01-28T21:33:51",
          "2022-01-22T23:19:32",
          "2022-01-17T20:52:02",
          "2022-01-15T19:24:27",
          "2021-11-16T07:55:28",
          "2021-11-04T11:31:56",
          "2021-10-28T19:53:27",
          "2021-10-28T08:00:00",
          "2021-10-25T20:45:12",
          "2021-10-21T07:53:32",
          "2021-10-19T07:51:32",
          "2021-10-14T20:41:48",
          "2021-10-09T20:53:12",
          "2021-10-07T07:38:19",
          "2021-10-05T07:48:44",
          "2021-10-02T20:17:52",
          "2021-09-30T11:04:30",
          "2021-09-28T11:04:54",
          "2021-09-25T21:41:31",
          "2021-09-23T11:06:14",
          "2021-09-21T08:00:38",
          "2021-09-18T20:33:27",
          "2021-09-17T20:18:39",
          "2021-09-11T07:41:11",
          "2021-09-07T07:26:21",
          "2021-09-06T11:26:10",
          "2021-09-06T10:13:05",
          "2021-09-04T09:21:35",
          "2021-09-02T07:21:57",
          "2021-09-01T19:00:33",
          "2021-08-31T07:21:30",
          "2021-08-30T20:49:30",
          "2021-08-28T10:10:26",
          "2021-08-26T21:26:52",
          "2021-08-26T10:56:54",
          "2021-08-24T09:39:01",
          "2021-08-23T22:17:47",
          "2021-08-21T12:21:00",
          "2021-08-21T11:04:14",
          "2021-08-19T14:36:08",
          "2021-08-17T11:14:50",
          "2021-08-17T10:04:22",
          "2021-08-14T09:16:27",
          "2021-08-12T15:03:31",
          "2021-08-10T12:38:27",
          "2021-08-09T19:45:05",
          "2021-08-07T09:09:42",
          "2021-08-06T21:41:37",
          "2021-08-05T15:16:58",
          "2021-08-04T14:46:42",
          "2021-08-02T21:06:59",
          "2021-08-02T19:51:17",
          "2021-07-30T20:13:30",
          "2021-07-29T20:48:49",
          "2021-07-27T21:53:04",
          "2021-07-26T21:13:16",
          "2021-07-02T21:24:46",
          "2021-07-02T20:24:09",
          "2021-06-30T20:31:44",
          "2021-06-29T20:24:29",
          "2021-06-26T15:03:06",
          "2021-06-10T22:18:58",
          "2021-05-22T19:12:40",
          "2021-05-18T22:15:21",
          "2021-05-15T23:42:20",
          "2021-05-10T15:07:51",
          "2021-05-05T15:22:43",
          "2021-04-29T16:58:38",
          "2021-04-26T21:56:09",
          "2021-03-22T22:00:17",
          "2021-03-13T13:56:34",
          "2021-02-18T13:35:10",
          "2021-02-15T08:49:41",
          "2021-02-08T14:26:16",
          "2021-02-04T15:37:54",
          "2021-02-03T14:32:05",
          "2021-02-02T18:22:01",
          "2021-01-19T17:58:26",
          "2021-01-13T15:33:11",
          "2021-01-12T15:09:33",
          "2021-01-11T21:05:06",
          "2021-01-04T22:06:49",
          "2021-01-01T10:37:29",
          "2020-12-31T13:30:07",
          "2020-12-28T20:13:48",
          "2020-12-23T14:06:45",
          "2020-12-23T13:42:11",
          "2020-12-22T08:09:11",
          "2020-12-21T14:48:27",
          "2020-12-19T07:45:50",
          "2020-12-18T12:51:50",
          "2020-12-16T22:14:16",
          "2020-12-15T12:31:09",
          "2020-12-09T19:44:53",
          "2020-12-08T21:48:43",
          "2020-12-07T22:38:31",
          "2020-12-05T17:27:33",
          "2020-12-04T18:15:36",
          "2020-12-04T17:25:42",
          "2020-12-01T16:38:49",
          "2020-11-28T20:29:33",
          "2020-11-27T18:58:16",
          "2020-11-25T18:26:19",
          "2020-11-21T18:48:23",
          "2020-11-20T17:19:08",
          "2020-11-19T15:36:56",
          "2020-11-18T17:23:47",
          "2020-11-16T16:23:55",
          "2020-11-14T15:19:23",
          "2020-11-13T18:37:06",
          "2020-11-07T15:16:46",
          "2020-11-05T15:45:44",
          "2020-11-04T19:53:44",
          "2020-11-02T16:03:38",
          "2020-10-31T15:03:00",
          "2020-10-28T21:41:16",
          "2020-10-27T19:51:58",
          "2020-10-24T15:49:15",
          "2020-10-23T16:59:59",
          "2020-10-21T21:37:36",
          "2020-10-19T20:34:47",
          "2020-10-17T17:14:37",
          "2020-10-15T07:46:19",
          "2020-10-14T20:41:52",
          "2020-10-09T16:50:48",
          "2020-10-07T16:04:14",
          "2020-10-05T17:39:14",
          "2020-10-03T18:29:49",
          "2020-10-02T17:06:38",
          "2020-09-30T21:34:19",
          "2020-09-29T23:07:40",
          "2020-09-28T15:12:09",
          "2020-09-25T10:48:37",
          "2020-09-23T17:50:12",
          "2020-09-23T17:02:24",
          "2020-09-22T15:06:05",
          "2020-09-21T15:09:57",
          "2020-09-18T10:31:03",
          "2020-09-17T19:02:55",
          "2020-09-16T20:55:02",
          "2020-09-14T14:00:15",
          "2020-09-11T10:43:12",
          "2020-09-10T16:38:34",
          "2020-09-01T16:47:11",
          "2020-08-24T19:32:01",
          "2020-08-19T20:08:29",
          "2020-08-18T19:28:30",
          "2020-08-14T15:10:12",
          "2020-08-11T19:53:09",
          "2020-08-10T21:41:10",
          "2020-08-05T15:08:05",
          "2020-08-04T13:35:00",
          "2020-08-03T21:24:33",
          "2020-07-31T11:21:22",
          "2020-07-29T16:00:36",
          "2020-07-29T15:26:13",
          "2020-07-27T21:33:24",
          "2020-07-22T14:59:28",
          "2020-07-22T14:08:59",
          "2020-07-16T14:41:38",
          "2020-07-14T14:39:44",
          "2020-07-02T21:33:56",
          "2020-07-02T20:25:06",
          "2020-06-24T12:07:27",
          "2020-06-19T17:56:03",
          "2020-06-08T03:07:25",
          "2020-06-02T19:04:31",
          "2020-05-30T20:32:45",
          "2020-05-23T13:19:50",
          "2020-05-20T23:27:16",
          "2020-05-13T21:17:24",
          "2020-05-09T20:19:14",
          "2020-05-09T19:16:05",
          "2020-05-06T22:42:45",
          "2020-05-05T23:43:29",
          "2020-05-04T20:54:41",
          "2020-05-01T17:08:44",
          "2020-04-29T18:32:18",
          "2020-04-27T15:05:59",
          "2020-04-24T15:37:17",
          "2020-04-23T19:18:23",
          "2020-04-18T18:01:42",
          "2020-04-16T16:09:25",
          "2020-04-15T16:58:05",
          "2020-04-10T12:45:29",
          "2020-04-08T14:10:59",
          "2020-04-06T15:13:23",
          "2020-04-04T16:19:17",
          "2020-04-02T15:40:38",
          "2020-04-01T15:20:53",
          "2020-03-30T14:34:24",
          "2020-03-27T16:13:41",
          "2020-03-26T14:11:21",
          "2020-03-25T14:45:59",
          "2020-03-23T19:53:13",
          "2020-03-20T15:49:16",
          "2020-03-19T21:42:10",
          "2020-03-18T16:51:57",
          "2020-03-17T21:34:32",
          "2020-03-16T20:06:11",
          "2020-03-13T15:46:07",
          "2020-03-13T14:40:37",
          "2020-03-09T06:35:23",
          "2020-03-07T20:36:26",
          "2020-03-06T16:08:38",
          "2020-03-04T06:39:47",
          "2020-03-04T05:44:17",
          "2020-03-04T05:21:32",
          "2020-03-02T17:03:36",
          "2020-02-28T15:51:39",
          "2020-02-28T13:13:14",
          "2020-02-26T15:20:59",
          "2020-02-26T06:39:57",
          "2020-02-26T05:41:56",
          "2020-02-22T18:23:16",
          "2020-02-21T15:49:08",
          "2020-02-21T14:02:28",
          "2020-02-19T06:30:27",
          "2020-02-19T05:39:31",
          "2020-02-18T10:00:36",
          "2020-02-17T15:31:40",
          "2020-02-15T08:37:59",
          "2020-02-14T16:01:11",
          "2020-02-12T06:40:40",
          "2020-02-12T05:39:40",
          "2020-02-11T19:27:41",
          "2020-02-11T16:48:43",
          "2020-02-10T06:30:20",
          "2020-02-10T05:38:22",
          "2020-01-29T15:27:59",
          "2020-01-29T05:34:52",
          "2020-01-27T06:39:54",
          "2020-01-27T05:33:31",
          "2020-01-25T16:33:00",
          "2020-01-24T15:25:47",
          "2020-01-23T15:59:13",
          "2020-01-22T05:36:34",
          "2020-01-18T15:25:55",
          "2020-01-18T13:15:38",
          "2020-01-16T06:19:01",
          "2020-01-15T05:37:58",
          "2020-01-13T06:47:01",
          "2020-01-13T05:41:57",
          "2020-01-11T08:10:45",
          "2020-01-10T08:45:15",
          "2020-01-09T10:09:17",
          "2020-01-08T12:43:07",
          "2020-01-08T05:30:28",
          "2019-12-30T09:40:31",
          "2019-12-28T22:44:25",
          "2019-12-25T21:41:01",
          "2019-12-21T06:16:25",
          "2019-12-20T07:30:21",
          "2019-12-20T07:09:26",
          "2019-12-09T11:07:42",
          "2019-12-06T11:13:37"
         ],
         "xaxis": "x",
         "y": [
          1903.315128027999,
          1894.455128027999,
          1859.1551280279991,
          1833.4151280279991,
          1826.7951280279992,
          1816.5251280279992,
          1798.4551280279993,
          1788.2251280279993,
          1777.6651280279993,
          1767.0351280279992,
          1758.0351280279992,
          1728.2651280279993,
          1727.6969460279993,
          1727.4128550279993,
          1721.0428550279994,
          1719.1028550279993,
          1717.0728550279994,
          1713.1028550279993,
          1711.1628550279993,
          1684.6028550279993,
          1682.4028550279993,
          1672.0228550279992,
          1668.7228550279992,
          1663.2828550279992,
          1661.882855027999,
          1659.5128550279992,
          1655.9728550279992,
          1653.5828550279991,
          1650.362855027999,
          1647.892855027999,
          1645.5528550279992,
          1642.0028550279992,
          1638.4928550279992,
          1635.9228550279993,
          1633.5128550279992,
          1631.5028550279992,
          1629.622855027999,
          1626.0728550279991,
          1623.632855027999,
          1621.192855027999,
          1616.8228550279991,
          1613.162855027999,
          1610.722855027999,
          1608.542855027999,
          1608.145127627999,
          1605.745127627999,
          1602.225127627999,
          1601.656945627999,
          1598.116945627999,
          1597.548763627999,
          1596.980581627999,
          1592.1705816279991,
          1588.8405816279992,
          1588.2723996279992,
          1588.1587632279993,
          1584.5587632279994,
          1581.3187632279994,
          1576.7787632279994,
          1574.3287632279994,
          1571.1487632279993,
          1570.5805812279993,
          1567.4005812279993,
          1564.2205812279992,
          1499.1605812279993,
          1498.3367173279992,
          1493.2367173279993,
          1474.3167173279992,
          1463.5667173279992,
          1462.3877396779992,
          1458.9477396779992,
          1458.351148577999,
          1454.341148577999,
          1423.9811485779992,
          1422.4711485779992,
          1421.505239177999,
          1410.745239177999,
          1406.745239177999,
          1404.6352391779992,
          1386.9552391779991,
          1386.2095939779992,
          1385.1095939779993,
          1368.4995939779994,
          1341.0395939779994,
          1340.2939487779995,
          1326.7439487779995,
          1314.7539487779995,
          1304.2239487779996,
          1302.4739487779996,
          1301.9057667779996,
          1301.9057667779996,
          1298.4557667779995,
          1297.7357667779995,
          1286.8757667779996,
          1284.4357667779996,
          1282.2657667779995,
          1280.3457667779994,
          1277.0657667779994,
          1266.8957667779994,
          1257.3557667779994,
          1254.9557667779993,
          1252.8457667779994,
          1250.4757667779995,
          1249.9075847779995,
          1247.7475847779995,
          1245.8675847779994,
          1233.2475847779995,
          1224.7875847779994,
          1212.1975847779995,
          1209.8775847779996,
          1207.3675847779996,
          1206.5575847779996,
          1204.3675847779996,
          1203.0275847779997,
          1190.4175847779998,
          1177.8275847779998,
          1175.5475847779999,
          1172.0775847779998,
          1171.5094027779999,
          1143.2394027779999,
          1131.5294027779998,
          1127.679402778,
          1125.2594027779999,
          1124.0894027779998,
          1067.0694027779998,
          1062.0594027779998,
          1040.8094027779998,
          1037.7494027779999,
          1036.5794027779998,
          1020.4194027779997,
          1018.7694027779997,
          1018.0875843779997,
          1012.7375843779997,
          1011.9989477779998,
          1007.1589477779997,
          1004.9789477779998,
          1001.5089477779998,
          999.3389477779998,
          997.1889477779998,
          996.5355384779998,
          991.3455384779998,
          986.3455384779998,
          984.3355384779998,
          978.9855384779997,
          974.1755384779998,
          973.7067883279998,
          964.8767883279997,
          959.2167883279998,
          956.9067883279998,
          944.2667883279998,
          940.1767883279998,
          938.1767883279998,
          935.1767883279998,
          931.9367883279998,
          919.4767883279998,
          916.1467883279997,
          912.3467883279998,
          909.0367883279998,
          869.0267883279998,
          867.8620152279998,
          861.4520152279998,
          858.1320152279998,
          834.1220152279998,
          831.1920152279998,
          829.7020152279998,
          829.0486059279998,
          799.7586059279998,
          782.4786059279999,
          777.4686059279999,
          776.8862193779999,
          771.7062193779999,
          768.2062193779999,
          741.5362193779999,
          727.016219378,
          725.746219378,
          716.076219378,
          715.7033967780001,
          688.3233967780001,
          674.503396778,
          671.283396778,
          665.8433967779999,
          663.833396778,
          649.543396778,
          646.193396778,
          642.883396778,
          622.843396778,
          620.243396778,
          599.593396778,
          598.4533967780001,
          583.0333967780001,
          580.1633967780001,
          579.6662375280001,
          556.0262375280001,
          554.0062375280002,
          552.9835099280001,
          540.2535099280001,
          539.7253445780001,
          536.405344578,
          532.9753445780001,
          532.3929580280001,
          531.526480478,
          530.9582984780001,
          529.8382984780001,
          518.738298478,
          516.908298478,
          510.17829847800004,
          508.55829847800004,
          501.198298478,
          499.18829847800004,
          497.60829847800005,
          495.4582984780001,
          489.98829847800005,
          486.2082984780001,
          476.4582984780001,
          473.2482984780001,
          470.7582984780001,
          467.5582984780001,
          464.3682984780001,
          460.1482984780001,
          458.4482984780001,
          417.03829847800006,
          416.03829847800006,
          412.71829847800007,
          392.3782984780001,
          390.3682984780001,
          373.3882984780001,
          345.6482984780001,
          335.6382984780001,
          330.0182984780001,
          327.79829847800005,
          315.17829847800004,
          307.37829847800003,
          290.338298478,
          287.158298478,
          258.328298478,
          252.11829847800004,
          232.06829847800003,
          229.94829847800003,
          217.27829847800004,
          213.27829847800004,
          209.26829847800005,
          205.92829847800004,
          193.34829847800003,
          193.34829847800003,
          191.33829847800004,
          188.23829847800005,
          188.05648023800003,
          188.05648023800003,
          186.59648023800003,
          178.42648023800004,
          175.24648023800003,
          131.93648023800003,
          129.16648023800002,
          128.598298238,
          128.598298238,
          125.278298238,
          124.158298238,
          119.308298238,
          119.024207238,
          119.024207238,
          115.854207238,
          114.490570438,
          111.17057043800001,
          93.48057043800002,
          92.79875203800002,
          92.79875203800002,
          90.64875203800001,
          90.64875203800001,
          90.34193375800001,
          90.34193375800001,
          88.301933758,
          88.301933758,
          87.790569958,
          87.790569958,
          81.49056995800001,
          81.081478918,
          76.771478918,
          76.771478918,
          73.571478918,
          39.091478918,
          38.352842318,
          38.352842318,
          37.773296678,
          37.773296678,
          36.921023678000005,
          36.523296278000004,
          29.923296278000002,
          29.332386998000004,
          13.232386998,
          12.449432202,
          7.799432201999999,
          4.4994322019999995,
          4.198863923999999,
          4.076704793999999,
          3.9676138499999998,
          0.66761385
         ],
         "yaxis": "y"
        }
       ],
       "layout": {
        "legend": {
         "tracegroupgap": 0
        },
        "margin": {
         "b": 20,
         "l": 10,
         "r": 10,
         "t": 20
        },
        "template": {
         "data": {
          "bar": [
           {
            "error_x": {
             "color": "rgb(36,36,36)"
            },
            "error_y": {
             "color": "rgb(36,36,36)"
            },
            "marker": {
             "line": {
              "color": "white",
              "width": 0.5
             },
             "pattern": {
              "fillmode": "overlay",
              "size": 10,
              "solidity": 0.2
             }
            },
            "type": "bar"
           }
          ],
          "barpolar": [
           {
            "marker": {
             "line": {
              "color": "white",
              "width": 0.5
             },
             "pattern": {
              "fillmode": "overlay",
              "size": 10,
              "solidity": 0.2
             }
            },
            "type": "barpolar"
           }
          ],
          "carpet": [
           {
            "aaxis": {
             "endlinecolor": "rgb(36,36,36)",
             "gridcolor": "white",
             "linecolor": "white",
             "minorgridcolor": "white",
             "startlinecolor": "rgb(36,36,36)"
            },
            "baxis": {
             "endlinecolor": "rgb(36,36,36)",
             "gridcolor": "white",
             "linecolor": "white",
             "minorgridcolor": "white",
             "startlinecolor": "rgb(36,36,36)"
            },
            "type": "carpet"
           }
          ],
          "choropleth": [
           {
            "colorbar": {
             "outlinewidth": 1,
             "tickcolor": "rgb(36,36,36)",
             "ticks": "outside"
            },
            "type": "choropleth"
           }
          ],
          "contour": [
           {
            "colorbar": {
             "outlinewidth": 1,
             "tickcolor": "rgb(36,36,36)",
             "ticks": "outside"
            },
            "colorscale": [
             [
              0,
              "#440154"
             ],
             [
              0.1111111111111111,
              "#482878"
             ],
             [
              0.2222222222222222,
              "#3e4989"
             ],
             [
              0.3333333333333333,
              "#31688e"
             ],
             [
              0.4444444444444444,
              "#26828e"
             ],
             [
              0.5555555555555556,
              "#1f9e89"
             ],
             [
              0.6666666666666666,
              "#35b779"
             ],
             [
              0.7777777777777778,
              "#6ece58"
             ],
             [
              0.8888888888888888,
              "#b5de2b"
             ],
             [
              1,
              "#fde725"
             ]
            ],
            "type": "contour"
           }
          ],
          "contourcarpet": [
           {
            "colorbar": {
             "outlinewidth": 1,
             "tickcolor": "rgb(36,36,36)",
             "ticks": "outside"
            },
            "type": "contourcarpet"
           }
          ],
          "heatmap": [
           {
            "colorbar": {
             "outlinewidth": 1,
             "tickcolor": "rgb(36,36,36)",
             "ticks": "outside"
            },
            "colorscale": [
             [
              0,
              "#440154"
             ],
             [
              0.1111111111111111,
              "#482878"
             ],
             [
              0.2222222222222222,
              "#3e4989"
             ],
             [
              0.3333333333333333,
              "#31688e"
             ],
             [
              0.4444444444444444,
              "#26828e"
             ],
             [
              0.5555555555555556,
              "#1f9e89"
             ],
             [
              0.6666666666666666,
              "#35b779"
             ],
             [
              0.7777777777777778,
              "#6ece58"
             ],
             [
              0.8888888888888888,
              "#b5de2b"
             ],
             [
              1,
              "#fde725"
             ]
            ],
            "type": "heatmap"
           }
          ],
          "heatmapgl": [
           {
            "colorbar": {
             "outlinewidth": 1,
             "tickcolor": "rgb(36,36,36)",
             "ticks": "outside"
            },
            "colorscale": [
             [
              0,
              "#440154"
             ],
             [
              0.1111111111111111,
              "#482878"
             ],
             [
              0.2222222222222222,
              "#3e4989"
             ],
             [
              0.3333333333333333,
              "#31688e"
             ],
             [
              0.4444444444444444,
              "#26828e"
             ],
             [
              0.5555555555555556,
              "#1f9e89"
             ],
             [
              0.6666666666666666,
              "#35b779"
             ],
             [
              0.7777777777777778,
              "#6ece58"
             ],
             [
              0.8888888888888888,
              "#b5de2b"
             ],
             [
              1,
              "#fde725"
             ]
            ],
            "type": "heatmapgl"
           }
          ],
          "histogram": [
           {
            "marker": {
             "line": {
              "color": "white",
              "width": 0.6
             }
            },
            "type": "histogram"
           }
          ],
          "histogram2d": [
           {
            "colorbar": {
             "outlinewidth": 1,
             "tickcolor": "rgb(36,36,36)",
             "ticks": "outside"
            },
            "colorscale": [
             [
              0,
              "#440154"
             ],
             [
              0.1111111111111111,
              "#482878"
             ],
             [
              0.2222222222222222,
              "#3e4989"
             ],
             [
              0.3333333333333333,
              "#31688e"
             ],
             [
              0.4444444444444444,
              "#26828e"
             ],
             [
              0.5555555555555556,
              "#1f9e89"
             ],
             [
              0.6666666666666666,
              "#35b779"
             ],
             [
              0.7777777777777778,
              "#6ece58"
             ],
             [
              0.8888888888888888,
              "#b5de2b"
             ],
             [
              1,
              "#fde725"
             ]
            ],
            "type": "histogram2d"
           }
          ],
          "histogram2dcontour": [
           {
            "colorbar": {
             "outlinewidth": 1,
             "tickcolor": "rgb(36,36,36)",
             "ticks": "outside"
            },
            "colorscale": [
             [
              0,
              "#440154"
             ],
             [
              0.1111111111111111,
              "#482878"
             ],
             [
              0.2222222222222222,
              "#3e4989"
             ],
             [
              0.3333333333333333,
              "#31688e"
             ],
             [
              0.4444444444444444,
              "#26828e"
             ],
             [
              0.5555555555555556,
              "#1f9e89"
             ],
             [
              0.6666666666666666,
              "#35b779"
             ],
             [
              0.7777777777777778,
              "#6ece58"
             ],
             [
              0.8888888888888888,
              "#b5de2b"
             ],
             [
              1,
              "#fde725"
             ]
            ],
            "type": "histogram2dcontour"
           }
          ],
          "mesh3d": [
           {
            "colorbar": {
             "outlinewidth": 1,
             "tickcolor": "rgb(36,36,36)",
             "ticks": "outside"
            },
            "type": "mesh3d"
           }
          ],
          "parcoords": [
           {
            "line": {
             "colorbar": {
              "outlinewidth": 1,
              "tickcolor": "rgb(36,36,36)",
              "ticks": "outside"
             }
            },
            "type": "parcoords"
           }
          ],
          "pie": [
           {
            "automargin": true,
            "type": "pie"
           }
          ],
          "scatter": [
           {
            "marker": {
             "colorbar": {
              "outlinewidth": 1,
              "tickcolor": "rgb(36,36,36)",
              "ticks": "outside"
             }
            },
            "type": "scatter"
           }
          ],
          "scatter3d": [
           {
            "line": {
             "colorbar": {
              "outlinewidth": 1,
              "tickcolor": "rgb(36,36,36)",
              "ticks": "outside"
             }
            },
            "marker": {
             "colorbar": {
              "outlinewidth": 1,
              "tickcolor": "rgb(36,36,36)",
              "ticks": "outside"
             }
            },
            "type": "scatter3d"
           }
          ],
          "scattercarpet": [
           {
            "marker": {
             "colorbar": {
              "outlinewidth": 1,
              "tickcolor": "rgb(36,36,36)",
              "ticks": "outside"
             }
            },
            "type": "scattercarpet"
           }
          ],
          "scattergeo": [
           {
            "marker": {
             "colorbar": {
              "outlinewidth": 1,
              "tickcolor": "rgb(36,36,36)",
              "ticks": "outside"
             }
            },
            "type": "scattergeo"
           }
          ],
          "scattergl": [
           {
            "marker": {
             "colorbar": {
              "outlinewidth": 1,
              "tickcolor": "rgb(36,36,36)",
              "ticks": "outside"
             }
            },
            "type": "scattergl"
           }
          ],
          "scattermapbox": [
           {
            "marker": {
             "colorbar": {
              "outlinewidth": 1,
              "tickcolor": "rgb(36,36,36)",
              "ticks": "outside"
             }
            },
            "type": "scattermapbox"
           }
          ],
          "scatterpolar": [
           {
            "marker": {
             "colorbar": {
              "outlinewidth": 1,
              "tickcolor": "rgb(36,36,36)",
              "ticks": "outside"
             }
            },
            "type": "scatterpolar"
           }
          ],
          "scatterpolargl": [
           {
            "marker": {
             "colorbar": {
              "outlinewidth": 1,
              "tickcolor": "rgb(36,36,36)",
              "ticks": "outside"
             }
            },
            "type": "scatterpolargl"
           }
          ],
          "scatterternary": [
           {
            "marker": {
             "colorbar": {
              "outlinewidth": 1,
              "tickcolor": "rgb(36,36,36)",
              "ticks": "outside"
             }
            },
            "type": "scatterternary"
           }
          ],
          "surface": [
           {
            "colorbar": {
             "outlinewidth": 1,
             "tickcolor": "rgb(36,36,36)",
             "ticks": "outside"
            },
            "colorscale": [
             [
              0,
              "#440154"
             ],
             [
              0.1111111111111111,
              "#482878"
             ],
             [
              0.2222222222222222,
              "#3e4989"
             ],
             [
              0.3333333333333333,
              "#31688e"
             ],
             [
              0.4444444444444444,
              "#26828e"
             ],
             [
              0.5555555555555556,
              "#1f9e89"
             ],
             [
              0.6666666666666666,
              "#35b779"
             ],
             [
              0.7777777777777778,
              "#6ece58"
             ],
             [
              0.8888888888888888,
              "#b5de2b"
             ],
             [
              1,
              "#fde725"
             ]
            ],
            "type": "surface"
           }
          ],
          "table": [
           {
            "cells": {
             "fill": {
              "color": "rgb(237,237,237)"
             },
             "line": {
              "color": "white"
             }
            },
            "header": {
             "fill": {
              "color": "rgb(217,217,217)"
             },
             "line": {
              "color": "white"
             }
            },
            "type": "table"
           }
          ]
         },
         "layout": {
          "annotationdefaults": {
           "arrowhead": 0,
           "arrowwidth": 1
          },
          "autotypenumbers": "strict",
          "coloraxis": {
           "colorbar": {
            "outlinewidth": 1,
            "tickcolor": "rgb(36,36,36)",
            "ticks": "outside"
           }
          },
          "colorscale": {
           "diverging": [
            [
             0,
             "rgb(103,0,31)"
            ],
            [
             0.1,
             "rgb(178,24,43)"
            ],
            [
             0.2,
             "rgb(214,96,77)"
            ],
            [
             0.3,
             "rgb(244,165,130)"
            ],
            [
             0.4,
             "rgb(253,219,199)"
            ],
            [
             0.5,
             "rgb(247,247,247)"
            ],
            [
             0.6,
             "rgb(209,229,240)"
            ],
            [
             0.7,
             "rgb(146,197,222)"
            ],
            [
             0.8,
             "rgb(67,147,195)"
            ],
            [
             0.9,
             "rgb(33,102,172)"
            ],
            [
             1,
             "rgb(5,48,97)"
            ]
           ],
           "sequential": [
            [
             0,
             "#440154"
            ],
            [
             0.1111111111111111,
             "#482878"
            ],
            [
             0.2222222222222222,
             "#3e4989"
            ],
            [
             0.3333333333333333,
             "#31688e"
            ],
            [
             0.4444444444444444,
             "#26828e"
            ],
            [
             0.5555555555555556,
             "#1f9e89"
            ],
            [
             0.6666666666666666,
             "#35b779"
            ],
            [
             0.7777777777777778,
             "#6ece58"
            ],
            [
             0.8888888888888888,
             "#b5de2b"
            ],
            [
             1,
             "#fde725"
            ]
           ],
           "sequentialminus": [
            [
             0,
             "#440154"
            ],
            [
             0.1111111111111111,
             "#482878"
            ],
            [
             0.2222222222222222,
             "#3e4989"
            ],
            [
             0.3333333333333333,
             "#31688e"
            ],
            [
             0.4444444444444444,
             "#26828e"
            ],
            [
             0.5555555555555556,
             "#1f9e89"
            ],
            [
             0.6666666666666666,
             "#35b779"
            ],
            [
             0.7777777777777778,
             "#6ece58"
            ],
            [
             0.8888888888888888,
             "#b5de2b"
            ],
            [
             1,
             "#fde725"
            ]
           ]
          },
          "colorway": [
           "#1F77B4",
           "#FF7F0E",
           "#2CA02C",
           "#D62728",
           "#9467BD",
           "#8C564B",
           "#E377C2",
           "#7F7F7F",
           "#BCBD22",
           "#17BECF"
          ],
          "font": {
           "color": "rgb(36,36,36)"
          },
          "geo": {
           "bgcolor": "white",
           "lakecolor": "white",
           "landcolor": "white",
           "showlakes": true,
           "showland": true,
           "subunitcolor": "white"
          },
          "hoverlabel": {
           "align": "left"
          },
          "hovermode": "closest",
          "mapbox": {
           "style": "light"
          },
          "paper_bgcolor": "white",
          "plot_bgcolor": "white",
          "polar": {
           "angularaxis": {
            "gridcolor": "rgb(232,232,232)",
            "linecolor": "rgb(36,36,36)",
            "showgrid": false,
            "showline": true,
            "ticks": "outside"
           },
           "bgcolor": "white",
           "radialaxis": {
            "gridcolor": "rgb(232,232,232)",
            "linecolor": "rgb(36,36,36)",
            "showgrid": false,
            "showline": true,
            "ticks": "outside"
           }
          },
          "scene": {
           "xaxis": {
            "backgroundcolor": "white",
            "gridcolor": "rgb(232,232,232)",
            "gridwidth": 2,
            "linecolor": "rgb(36,36,36)",
            "showbackground": true,
            "showgrid": false,
            "showline": true,
            "ticks": "outside",
            "zeroline": false,
            "zerolinecolor": "rgb(36,36,36)"
           },
           "yaxis": {
            "backgroundcolor": "white",
            "gridcolor": "rgb(232,232,232)",
            "gridwidth": 2,
            "linecolor": "rgb(36,36,36)",
            "showbackground": true,
            "showgrid": false,
            "showline": true,
            "ticks": "outside",
            "zeroline": false,
            "zerolinecolor": "rgb(36,36,36)"
           },
           "zaxis": {
            "backgroundcolor": "white",
            "gridcolor": "rgb(232,232,232)",
            "gridwidth": 2,
            "linecolor": "rgb(36,36,36)",
            "showbackground": true,
            "showgrid": false,
            "showline": true,
            "ticks": "outside",
            "zeroline": false,
            "zerolinecolor": "rgb(36,36,36)"
           }
          },
          "shapedefaults": {
           "fillcolor": "black",
           "line": {
            "width": 0
           },
           "opacity": 0.3
          },
          "ternary": {
           "aaxis": {
            "gridcolor": "rgb(232,232,232)",
            "linecolor": "rgb(36,36,36)",
            "showgrid": false,
            "showline": true,
            "ticks": "outside"
           },
           "baxis": {
            "gridcolor": "rgb(232,232,232)",
            "linecolor": "rgb(36,36,36)",
            "showgrid": false,
            "showline": true,
            "ticks": "outside"
           },
           "bgcolor": "white",
           "caxis": {
            "gridcolor": "rgb(232,232,232)",
            "linecolor": "rgb(36,36,36)",
            "showgrid": false,
            "showline": true,
            "ticks": "outside"
           }
          },
          "title": {
           "x": 0.05
          },
          "xaxis": {
           "automargin": true,
           "gridcolor": "rgb(232,232,232)",
           "linecolor": "rgb(36,36,36)",
           "showgrid": false,
           "showline": true,
           "ticks": "outside",
           "title": {
            "standoff": 15
           },
           "zeroline": false,
           "zerolinecolor": "rgb(36,36,36)"
          },
          "yaxis": {
           "automargin": true,
           "gridcolor": "rgb(232,232,232)",
           "linecolor": "rgb(36,36,36)",
           "showgrid": false,
           "showline": true,
           "ticks": "outside",
           "title": {
            "standoff": 15
           },
           "zeroline": false,
           "zerolinecolor": "rgb(36,36,36)"
          }
         }
        },
        "xaxis": {
         "anchor": "y",
         "domain": [
          0,
          1
         ],
         "dtick": "M1",
         "tickangle": -45,
         "tickfont": {
          "family": "Calibri",
          "size": 12
         },
         "title": {
          "text": "Date"
         }
        },
        "yaxis": {
         "anchor": "x",
         "domain": [
          0,
          1
         ],
         "title": {
          "text": "Total Distance"
         }
        }
       }
      }
     },
     "metadata": {},
     "output_type": "display_data"
    }
   ],
   "source": [
    "\n",
    "line = px.line(\n",
    "    Work,\n",
    "    x = 'Date',\n",
    "    y = 'Running Total',\n",
    ")\n",
    "\n",
    "line.update_layout(\n",
    "    margin=dict(l=10, r=10, t=20, b=20),\n",
    "    template = 'simple_white',\n",
    "    yaxis_title = \"Total Distance\"\n",
    ")\n",
    "\n",
    "line.update_xaxes(tickangle=-45, \n",
    "                         tickfont=dict(family='Calibri', size=12),\n",
    "                         dtick=\"M1\")"
   ]
  },
  {
   "cell_type": "code",
   "execution_count": 149,
   "metadata": {},
   "outputs": [
    {
     "data": {
      "application/vnd.plotly.v1+json": {
       "config": {
        "plotlyServerURL": "https://plot.ly"
       },
       "data": [
        {
         "hovertemplate": "Date=%{x}<br>Running Total=%{y}<extra></extra>",
         "legendgroup": "",
         "line": {
          "dash": "solid"
         },
         "marker": {
          "symbol": "circle"
         },
         "mode": "lines",
         "name": "",
         "orientation": "v",
         "showlegend": false,
         "type": "scatter",
         "x": [
          "2022-09-02T20:09:21",
          "2022-08-26T17:56:33",
          "2022-08-20T19:11:10",
          "2022-08-19T19:17:01",
          "2022-08-17T20:34:41",
          "2022-08-13T14:43:49",
          "2022-08-10T20:18:31",
          "2022-07-25T09:55:53",
          "2022-07-23T19:16:37",
          "2022-07-19T20:50:55",
          "2022-07-16T07:16:24",
          "2022-07-11T20:18:01",
          "2022-07-06T20:34:33",
          "2022-07-05T21:27:06",
          "2022-06-28T22:44:04",
          "2022-06-01T21:52:53",
          "2022-05-25T20:52:19",
          "2022-05-23T21:57:21",
          "2022-04-23T07:08:58",
          "2022-04-19T22:35:00",
          "2022-04-16T16:52:42",
          "2022-04-14T10:03:51",
          "2022-04-09T16:42:31",
          "2022-04-06T19:34:13",
          "2022-04-05T21:19:16",
          "2022-04-04T19:01:18",
          "2022-04-02T12:02:11",
          "2022-03-30T19:52:49",
          "2022-03-29T09:02:59",
          "2022-03-25T22:53:46",
          "2022-03-23T21:43:00",
          "2022-03-19T19:26:54",
          "2022-03-15T09:07:06",
          "2022-03-12T19:54:48",
          "2022-03-10T10:11:28",
          "2022-02-19T23:07:10",
          "2022-02-09T22:42:55",
          "2022-02-04T23:05:07",
          "2022-01-31T21:16:48",
          "2022-01-28T21:33:51",
          "2022-01-22T23:19:32",
          "2022-01-17T20:52:02",
          "2022-01-15T19:24:27",
          "2021-11-16T07:55:28",
          "2021-11-04T11:31:56",
          "2021-10-28T19:53:27",
          "2021-10-28T08:00:00",
          "2021-10-25T20:45:12",
          "2021-10-21T07:53:32",
          "2021-10-19T07:51:32",
          "2021-10-14T20:41:48",
          "2021-10-09T20:53:12",
          "2021-10-07T07:38:19",
          "2021-10-05T07:48:44",
          "2021-10-02T20:17:52",
          "2021-09-30T11:04:30",
          "2021-09-28T11:04:54",
          "2021-09-25T21:41:31",
          "2021-09-23T11:06:14",
          "2021-09-21T08:00:38",
          "2021-09-18T20:33:27",
          "2021-09-17T20:18:39",
          "2021-09-11T07:41:11",
          "2021-09-07T07:26:21",
          "2021-09-06T11:26:10",
          "2021-09-06T10:13:05",
          "2021-09-04T09:21:35",
          "2021-09-02T07:21:57",
          "2021-09-01T19:00:33",
          "2021-08-31T07:21:30",
          "2021-08-30T20:49:30",
          "2021-08-28T10:10:26",
          "2021-08-26T21:26:52",
          "2021-08-26T10:56:54",
          "2021-08-24T09:39:01",
          "2021-08-23T22:17:47",
          "2021-08-21T12:21:00",
          "2021-08-21T11:04:14",
          "2021-08-19T14:36:08",
          "2021-08-17T11:14:50",
          "2021-08-17T10:04:22",
          "2021-08-14T09:16:27",
          "2021-08-12T15:03:31",
          "2021-08-10T12:38:27",
          "2021-08-09T19:45:05",
          "2021-08-07T09:09:42",
          "2021-08-06T21:41:37",
          "2021-08-05T15:16:58",
          "2021-08-04T14:46:42",
          "2021-08-02T21:06:59",
          "2021-08-02T19:51:17",
          "2021-07-30T20:13:30",
          "2021-07-29T20:48:49",
          "2021-07-27T21:53:04",
          "2021-07-26T21:13:16",
          "2021-07-02T21:24:46",
          "2021-07-02T20:24:09",
          "2021-06-30T20:31:44",
          "2021-06-29T20:24:29",
          "2021-06-26T15:03:06",
          "2021-06-10T22:18:58",
          "2021-05-22T19:12:40",
          "2021-05-18T22:15:21",
          "2021-05-15T23:42:20",
          "2021-05-10T15:07:51",
          "2021-05-05T15:22:43",
          "2021-04-29T16:58:38",
          "2021-04-26T21:56:09",
          "2021-03-22T22:00:17",
          "2021-03-13T13:56:34",
          "2021-02-18T13:35:10",
          "2021-02-15T08:49:41",
          "2021-02-08T14:26:16",
          "2021-02-04T15:37:54",
          "2021-02-03T14:32:05",
          "2021-02-02T18:22:01",
          "2021-01-19T17:58:26",
          "2021-01-13T15:33:11",
          "2021-01-12T15:09:33",
          "2021-01-11T21:05:06",
          "2021-01-04T22:06:49",
          "2021-01-01T10:37:29",
          "2020-12-31T13:30:07",
          "2020-12-28T20:13:48",
          "2020-12-23T14:06:45",
          "2020-12-23T13:42:11",
          "2020-12-22T08:09:11",
          "2020-12-21T14:48:27",
          "2020-12-19T07:45:50",
          "2020-12-18T12:51:50",
          "2020-12-16T22:14:16",
          "2020-12-15T12:31:09",
          "2020-12-09T19:44:53",
          "2020-12-08T21:48:43",
          "2020-12-07T22:38:31",
          "2020-12-05T17:27:33",
          "2020-12-04T18:15:36",
          "2020-12-04T17:25:42",
          "2020-12-01T16:38:49",
          "2020-11-28T20:29:33",
          "2020-11-27T18:58:16",
          "2020-11-25T18:26:19",
          "2020-11-21T18:48:23",
          "2020-11-20T17:19:08",
          "2020-11-19T15:36:56",
          "2020-11-18T17:23:47",
          "2020-11-16T16:23:55",
          "2020-11-14T15:19:23",
          "2020-11-13T18:37:06",
          "2020-11-07T15:16:46",
          "2020-11-05T15:45:44",
          "2020-11-04T19:53:44",
          "2020-11-02T16:03:38",
          "2020-10-31T15:03:00",
          "2020-10-28T21:41:16",
          "2020-10-27T19:51:58",
          "2020-10-24T15:49:15",
          "2020-10-23T16:59:59",
          "2020-10-21T21:37:36",
          "2020-10-19T20:34:47",
          "2020-10-17T17:14:37",
          "2020-10-15T07:46:19",
          "2020-10-14T20:41:52",
          "2020-10-09T16:50:48",
          "2020-10-07T16:04:14",
          "2020-10-05T17:39:14",
          "2020-10-03T18:29:49",
          "2020-10-02T17:06:38",
          "2020-09-30T21:34:19",
          "2020-09-29T23:07:40",
          "2020-09-28T15:12:09",
          "2020-09-25T10:48:37",
          "2020-09-23T17:50:12",
          "2020-09-23T17:02:24",
          "2020-09-22T15:06:05",
          "2020-09-21T15:09:57",
          "2020-09-18T10:31:03",
          "2020-09-17T19:02:55",
          "2020-09-16T20:55:02",
          "2020-09-14T14:00:15",
          "2020-09-11T10:43:12",
          "2020-09-10T16:38:34",
          "2020-09-01T16:47:11",
          "2020-08-24T19:32:01",
          "2020-08-19T20:08:29",
          "2020-08-18T19:28:30",
          "2020-08-14T15:10:12",
          "2020-08-11T19:53:09",
          "2020-08-10T21:41:10",
          "2020-08-05T15:08:05",
          "2020-08-04T13:35:00",
          "2020-08-03T21:24:33",
          "2020-07-31T11:21:22",
          "2020-07-29T16:00:36",
          "2020-07-29T15:26:13",
          "2020-07-27T21:33:24",
          "2020-07-22T14:59:28",
          "2020-07-22T14:08:59",
          "2020-07-16T14:41:38",
          "2020-07-14T14:39:44",
          "2020-07-02T21:33:56",
          "2020-07-02T20:25:06",
          "2020-06-24T12:07:27",
          "2020-06-19T17:56:03",
          "2020-06-08T03:07:25",
          "2020-06-02T19:04:31",
          "2020-05-30T20:32:45",
          "2020-05-23T13:19:50",
          "2020-05-20T23:27:16",
          "2020-05-13T21:17:24",
          "2020-05-09T20:19:14",
          "2020-05-09T19:16:05",
          "2020-05-06T22:42:45",
          "2020-05-05T23:43:29",
          "2020-05-04T20:54:41",
          "2020-05-01T17:08:44",
          "2020-04-29T18:32:18",
          "2020-04-27T15:05:59",
          "2020-04-24T15:37:17",
          "2020-04-23T19:18:23",
          "2020-04-18T18:01:42",
          "2020-04-16T16:09:25",
          "2020-04-15T16:58:05",
          "2020-04-10T12:45:29",
          "2020-04-08T14:10:59",
          "2020-04-06T15:13:23",
          "2020-04-04T16:19:17",
          "2020-04-02T15:40:38",
          "2020-04-01T15:20:53",
          "2020-03-30T14:34:24",
          "2020-03-27T16:13:41",
          "2020-03-26T14:11:21",
          "2020-03-25T14:45:59",
          "2020-03-23T19:53:13",
          "2020-03-20T15:49:16",
          "2020-03-19T21:42:10",
          "2020-03-18T16:51:57",
          "2020-03-17T21:34:32",
          "2020-03-16T20:06:11",
          "2020-03-13T15:46:07",
          "2020-03-13T14:40:37",
          "2020-03-09T06:35:23",
          "2020-03-07T20:36:26",
          "2020-03-06T16:08:38",
          "2020-03-04T06:39:47",
          "2020-03-04T05:44:17",
          "2020-03-04T05:21:32",
          "2020-03-02T17:03:36",
          "2020-02-28T15:51:39",
          "2020-02-28T13:13:14",
          "2020-02-26T15:20:59",
          "2020-02-26T06:39:57",
          "2020-02-26T05:41:56",
          "2020-02-22T18:23:16",
          "2020-02-21T15:49:08",
          "2020-02-21T14:02:28",
          "2020-02-19T06:30:27",
          "2020-02-19T05:39:31",
          "2020-02-18T10:00:36",
          "2020-02-17T15:31:40",
          "2020-02-15T08:37:59",
          "2020-02-14T16:01:11",
          "2020-02-12T06:40:40",
          "2020-02-12T05:39:40",
          "2020-02-11T19:27:41",
          "2020-02-11T16:48:43",
          "2020-02-10T06:30:20",
          "2020-02-10T05:38:22",
          "2020-01-29T15:27:59",
          "2020-01-29T05:34:52",
          "2020-01-27T06:39:54",
          "2020-01-27T05:33:31",
          "2020-01-25T16:33:00",
          "2020-01-24T15:25:47",
          "2020-01-23T15:59:13",
          "2020-01-22T05:36:34",
          "2020-01-18T15:25:55",
          "2020-01-18T13:15:38",
          "2020-01-16T06:19:01",
          "2020-01-15T05:37:58",
          "2020-01-13T06:47:01",
          "2020-01-13T05:41:57",
          "2020-01-11T08:10:45",
          "2020-01-10T08:45:15",
          "2020-01-09T10:09:17",
          "2020-01-08T12:43:07",
          "2020-01-08T05:30:28",
          "2019-12-30T09:40:31",
          "2019-12-28T22:44:25",
          "2019-12-25T21:41:01",
          "2019-12-21T06:16:25",
          "2019-12-20T07:30:21",
          "2019-12-20T07:09:26",
          "2019-12-09T11:07:42",
          "2019-12-06T11:13:37"
         ],
         "xaxis": "x",
         "y": [
          1903.315128027999,
          1894.455128027999,
          1859.1551280279991,
          1833.4151280279991,
          1826.7951280279992,
          1816.5251280279992,
          1798.4551280279993,
          1788.2251280279993,
          1777.6651280279993,
          1767.0351280279992,
          1758.0351280279992,
          1728.2651280279993,
          1727.6969460279993,
          1727.4128550279993,
          1721.0428550279994,
          1719.1028550279993,
          1717.0728550279994,
          1713.1028550279993,
          1711.1628550279993,
          1684.6028550279993,
          1682.4028550279993,
          1672.0228550279992,
          1668.7228550279992,
          1663.2828550279992,
          1661.882855027999,
          1659.5128550279992,
          1655.9728550279992,
          1653.5828550279991,
          1650.362855027999,
          1647.892855027999,
          1645.5528550279992,
          1642.0028550279992,
          1638.4928550279992,
          1635.9228550279993,
          1633.5128550279992,
          1631.5028550279992,
          1629.622855027999,
          1626.0728550279991,
          1623.632855027999,
          1621.192855027999,
          1616.8228550279991,
          1613.162855027999,
          1610.722855027999,
          1608.542855027999,
          1608.145127627999,
          1605.745127627999,
          1602.225127627999,
          1601.656945627999,
          1598.116945627999,
          1597.548763627999,
          1596.980581627999,
          1592.1705816279991,
          1588.8405816279992,
          1588.2723996279992,
          1588.1587632279993,
          1584.5587632279994,
          1581.3187632279994,
          1576.7787632279994,
          1574.3287632279994,
          1571.1487632279993,
          1570.5805812279993,
          1567.4005812279993,
          1564.2205812279992,
          1499.1605812279993,
          1498.3367173279992,
          1493.2367173279993,
          1474.3167173279992,
          1463.5667173279992,
          1462.3877396779992,
          1458.9477396779992,
          1458.351148577999,
          1454.341148577999,
          1423.9811485779992,
          1422.4711485779992,
          1421.505239177999,
          1410.745239177999,
          1406.745239177999,
          1404.6352391779992,
          1386.9552391779991,
          1386.2095939779992,
          1385.1095939779993,
          1368.4995939779994,
          1341.0395939779994,
          1340.2939487779995,
          1326.7439487779995,
          1314.7539487779995,
          1304.2239487779996,
          1302.4739487779996,
          1301.9057667779996,
          1301.9057667779996,
          1298.4557667779995,
          1297.7357667779995,
          1286.8757667779996,
          1284.4357667779996,
          1282.2657667779995,
          1280.3457667779994,
          1277.0657667779994,
          1266.8957667779994,
          1257.3557667779994,
          1254.9557667779993,
          1252.8457667779994,
          1250.4757667779995,
          1249.9075847779995,
          1247.7475847779995,
          1245.8675847779994,
          1233.2475847779995,
          1224.7875847779994,
          1212.1975847779995,
          1209.8775847779996,
          1207.3675847779996,
          1206.5575847779996,
          1204.3675847779996,
          1203.0275847779997,
          1190.4175847779998,
          1177.8275847779998,
          1175.5475847779999,
          1172.0775847779998,
          1171.5094027779999,
          1143.2394027779999,
          1131.5294027779998,
          1127.679402778,
          1125.2594027779999,
          1124.0894027779998,
          1067.0694027779998,
          1062.0594027779998,
          1040.8094027779998,
          1037.7494027779999,
          1036.5794027779998,
          1020.4194027779997,
          1018.7694027779997,
          1018.0875843779997,
          1012.7375843779997,
          1011.9989477779998,
          1007.1589477779997,
          1004.9789477779998,
          1001.5089477779998,
          999.3389477779998,
          997.1889477779998,
          996.5355384779998,
          991.3455384779998,
          986.3455384779998,
          984.3355384779998,
          978.9855384779997,
          974.1755384779998,
          973.7067883279998,
          964.8767883279997,
          959.2167883279998,
          956.9067883279998,
          944.2667883279998,
          940.1767883279998,
          938.1767883279998,
          935.1767883279998,
          931.9367883279998,
          919.4767883279998,
          916.1467883279997,
          912.3467883279998,
          909.0367883279998,
          869.0267883279998,
          867.8620152279998,
          861.4520152279998,
          858.1320152279998,
          834.1220152279998,
          831.1920152279998,
          829.7020152279998,
          829.0486059279998,
          799.7586059279998,
          782.4786059279999,
          777.4686059279999,
          776.8862193779999,
          771.7062193779999,
          768.2062193779999,
          741.5362193779999,
          727.016219378,
          725.746219378,
          716.076219378,
          715.7033967780001,
          688.3233967780001,
          674.503396778,
          671.283396778,
          665.8433967779999,
          663.833396778,
          649.543396778,
          646.193396778,
          642.883396778,
          622.843396778,
          620.243396778,
          599.593396778,
          598.4533967780001,
          583.0333967780001,
          580.1633967780001,
          579.6662375280001,
          556.0262375280001,
          554.0062375280002,
          552.9835099280001,
          540.2535099280001,
          539.7253445780001,
          536.405344578,
          532.9753445780001,
          532.3929580280001,
          531.526480478,
          530.9582984780001,
          529.8382984780001,
          518.738298478,
          516.908298478,
          510.17829847800004,
          508.55829847800004,
          501.198298478,
          499.18829847800004,
          497.60829847800005,
          495.4582984780001,
          489.98829847800005,
          486.2082984780001,
          476.4582984780001,
          473.2482984780001,
          470.7582984780001,
          467.5582984780001,
          464.3682984780001,
          460.1482984780001,
          458.4482984780001,
          417.03829847800006,
          416.03829847800006,
          412.71829847800007,
          392.3782984780001,
          390.3682984780001,
          373.3882984780001,
          345.6482984780001,
          335.6382984780001,
          330.0182984780001,
          327.79829847800005,
          315.17829847800004,
          307.37829847800003,
          290.338298478,
          287.158298478,
          258.328298478,
          252.11829847800004,
          232.06829847800003,
          229.94829847800003,
          217.27829847800004,
          213.27829847800004,
          209.26829847800005,
          205.92829847800004,
          193.34829847800003,
          193.34829847800003,
          191.33829847800004,
          188.23829847800005,
          188.05648023800003,
          188.05648023800003,
          186.59648023800003,
          178.42648023800004,
          175.24648023800003,
          131.93648023800003,
          129.16648023800002,
          128.598298238,
          128.598298238,
          125.278298238,
          124.158298238,
          119.308298238,
          119.024207238,
          119.024207238,
          115.854207238,
          114.490570438,
          111.17057043800001,
          93.48057043800002,
          92.79875203800002,
          92.79875203800002,
          90.64875203800001,
          90.64875203800001,
          90.34193375800001,
          90.34193375800001,
          88.301933758,
          88.301933758,
          87.790569958,
          87.790569958,
          81.49056995800001,
          81.081478918,
          76.771478918,
          76.771478918,
          73.571478918,
          39.091478918,
          38.352842318,
          38.352842318,
          37.773296678,
          37.773296678,
          36.921023678000005,
          36.523296278000004,
          29.923296278000002,
          29.332386998000004,
          13.232386998,
          12.449432202,
          7.799432201999999,
          4.4994322019999995,
          4.198863923999999,
          4.076704793999999,
          3.9676138499999998,
          0.66761385
         ],
         "yaxis": "y2"
        },
        {
         "hovertemplate": "<b>%{hovertext}</b><br><br>Activity Type=Cycling<br>Competition=Training<br>Date=%{x}<br>Distance=%{y}<extra></extra>",
         "hovertext": [
          "South Jordan Cycling",
          "Salt Lake City Cycling",
          "South Jordan Cycling",
          "South Jordan Cycling",
          "South Jordan Cycling",
          "South Jordan Cycling",
          "South Jordan Cycling",
          "South Jordan Cycling",
          "South Jordan Cycling",
          "South Jordan Cycling",
          "South Jordan Cycling",
          "Salt Lake City Cycling",
          "Salt Lake City Cycling",
          "Salt Lake City Cycling",
          "Salt Lake City Cycling",
          "Salt Lake City Cycling",
          "Salt Lake City Cycling",
          "Salt Lake City Cycling",
          "Salt Lake City Cycling",
          "Salt Lake City Cycling",
          "Salt Lake City Cycling",
          "Indoor Cycling",
          "Salt Lake City Cycling",
          "Salt Lake City Cycling",
          "Salt Lake City Cycling",
          "Salt Lake City Cycling",
          "Salt Lake City Cycling",
          "Salt Lake City Cycling",
          "Salt Lake City Cycling",
          "Salt Lake City Cycling",
          "Salt Lake City Cycling",
          "Salt Lake City Cycling",
          "Salt Lake City Cycling",
          "Luna County Cycling",
          "Luna County Cycling",
          "Luna County Cycling",
          "Luna County Cycling",
          "Salt Lake City Cycling",
          "Salt Lake City Cycling",
          "Salt Lake City Cycling",
          "Davis County Cycling",
          "Davis County Cycling",
          "Salt Lake City Cycling",
          "Salt Lake City Cycling",
          "Salt Lake City Cycling",
          "Salt Lake City Cycling",
          "Salt Lake City Cycling",
          "Salt Lake City Cycling",
          "Salt Lake City Cycling",
          "Salt Lake City Cycling",
          "Salt Lake City Cycling",
          "Salt Lake City Cycling",
          "Salt Lake City Cycling",
          "Salt Lake City Cycling",
          "Salt Lake City Cycling",
          "Salt Lake City Cycling",
          "Davis County Cycling",
          "Salt Lake City Cycling",
          "Salt Lake City Cycling",
          "Salt Lake City Cycling",
          "Salt Lake City Cycling",
          "Salt Lake City Cycling",
          "Salt Lake City Cycling",
          "Salt Lake City Cycling",
          "Salt Lake City Cycling",
          "Salt Lake City Cycling",
          "Salt Lake City Cycling",
          "Salt Lake City Cycling",
          "Salt Lake City Cycling",
          "Salt Lake City Cycling",
          "Indoor Cycling",
          "Indoor Cycling",
          "Salt Lake City Cycling",
          "Indoor Cycling",
          "Santa Barbara Cycling",
          "Indoor Cycling",
          "Farmington Cycling",
          "Indoor Cycling",
          "Indoor Cycling",
          "Indoor Cycling",
          "Indoor Cycling",
          "Indoor Cycling",
          "Luna County Cycling",
          "Indoor Cycling",
          "Indoor Cycling",
          "First Indoor Cycling Class @ The Gym"
         ],
         "legendgroup": "Cycling, Training",
         "line": {
          "color": "grey"
         },
         "marker": {
          "color": "grey",
          "symbol": "circle"
         },
         "mode": "markers",
         "name": "Cycling, Training",
         "orientation": "v",
         "showlegend": true,
         "type": "scatter",
         "x": [
          "2022-09-02T20:09:21",
          "2022-08-26T17:56:33",
          "2022-08-20T19:11:10",
          "2022-08-19T19:17:01",
          "2022-08-17T20:34:41",
          "2022-08-13T14:43:49",
          "2022-08-10T20:18:31",
          "2022-07-25T09:55:53",
          "2022-07-23T19:16:37",
          "2022-07-19T20:50:55",
          "2022-07-05T21:27:06",
          "2021-09-06T10:13:05",
          "2021-09-04T09:21:35",
          "2021-08-28T10:10:26",
          "2021-08-24T09:39:01",
          "2021-08-21T11:04:14",
          "2021-08-17T10:04:22",
          "2021-08-14T09:16:27",
          "2021-08-10T12:38:27",
          "2021-08-09T19:45:05",
          "2021-08-07T09:09:42",
          "2021-08-04T14:46:42",
          "2021-08-02T19:51:17",
          "2021-07-30T20:13:30",
          "2021-07-02T20:24:09",
          "2021-06-30T20:31:44",
          "2021-05-10T15:07:51",
          "2021-05-05T15:22:43",
          "2021-04-29T16:58:38",
          "2021-02-08T14:26:16",
          "2021-02-04T15:37:54",
          "2021-01-13T15:33:11",
          "2021-01-12T15:09:33",
          "2020-12-31T13:30:07",
          "2020-12-23T14:06:45",
          "2020-12-23T13:42:11",
          "2020-12-21T14:48:27",
          "2020-11-19T15:36:56",
          "2020-11-14T15:19:23",
          "2020-11-02T16:03:38",
          "2020-10-24T15:49:15",
          "2020-10-17T17:14:37",
          "2020-10-07T16:04:14",
          "2020-10-05T17:39:14",
          "2020-09-28T15:12:09",
          "2020-09-25T10:48:37",
          "2020-09-23T17:02:24",
          "2020-09-21T15:09:57",
          "2020-09-18T10:31:03",
          "2020-09-11T10:43:12",
          "2020-08-24T19:32:01",
          "2020-08-18T19:28:30",
          "2020-08-11T19:53:09",
          "2020-08-04T13:35:00",
          "2020-07-29T16:00:36",
          "2020-07-02T20:25:06",
          "2020-06-19T17:56:03",
          "2020-06-02T19:04:31",
          "2020-05-09T19:16:05",
          "2020-04-24T15:37:17",
          "2020-04-16T16:09:25",
          "2020-04-10T12:45:29",
          "2020-04-08T14:10:59",
          "2020-04-04T16:19:17",
          "2020-04-01T15:20:53",
          "2020-03-27T16:13:41",
          "2020-03-25T14:45:59",
          "2020-03-20T15:49:16",
          "2020-03-18T16:51:57",
          "2020-03-13T14:40:37",
          "2020-03-09T06:35:23",
          "2020-03-04T05:44:17",
          "2020-02-28T13:13:14",
          "2020-02-26T05:41:56",
          "2020-02-21T14:02:28",
          "2020-02-19T05:39:31",
          "2020-02-14T16:01:11",
          "2020-02-12T05:39:40",
          "2020-02-10T05:38:22",
          "2020-01-29T05:34:52",
          "2020-01-27T05:33:31",
          "2020-01-22T05:36:34",
          "2020-01-18T13:15:38",
          "2020-01-15T05:37:58",
          "2020-01-13T05:41:57",
          "2020-01-08T05:30:28"
         ],
         "xaxis": "x",
         "y": [
          8.86,
          35.3,
          25.74,
          6.62,
          10.27,
          18.07,
          10.23,
          10.56,
          10.63,
          9,
          6.37,
          18.92,
          10.75,
          30.36,
          10.76,
          17.68,
          16.61,
          27.46,
          13.55,
          11.99,
          10.53,
          0,
          0.72,
          10.86,
          10.17,
          9.54,
          12.62,
          8.46,
          12.59,
          12.61,
          12.59,
          28.27,
          11.71,
          57.02,
          21.25,
          3.06,
          16.16,
          8.83,
          12.64,
          12.46,
          40.01,
          24.01,
          29.29,
          17.28,
          26.67,
          14.52,
          9.67,
          27.38,
          13.82,
          14.29,
          20.04,
          20.65,
          15.42,
          23.64,
          12.73,
          11.1,
          6.73,
          7.36,
          9.75,
          41.41,
          20.34,
          16.98,
          27.74,
          5.62,
          12.62,
          17.04,
          28.83,
          20.05,
          12.67,
          12.58,
          0,
          0,
          43.31,
          0,
          4.85,
          0,
          17.69,
          0,
          0,
          0,
          0,
          0,
          34.48,
          0,
          0,
          16.1
         ],
         "yaxis": "y"
        },
        {
         "hovertemplate": "<b>%{hovertext}</b><br><br>Activity Type=Triathlon<br>Competition=Training<br>Date=%{x}<br>Distance=%{y}<extra></extra>",
         "hovertext": [
          "Multi-Sport"
         ],
         "legendgroup": "Triathlon, Training",
         "line": {
          "color": "red"
         },
         "marker": {
          "color": "red",
          "symbol": "circle"
         },
         "mode": "markers",
         "name": "Triathlon, Training",
         "orientation": "v",
         "showlegend": true,
         "type": "scatter",
         "x": [
          "2020-02-11T16:48:43"
         ],
         "xaxis": "x",
         "y": [
          0
         ],
         "yaxis": "y"
        },
        {
         "hovertemplate": "<b>%{hovertext}</b><br><br>Activity Type=Triathlon<br>Competition=Race<br>Date=%{x}<br>Distance=%{y}<extra></extra>",
         "hovertext": [
          "Summit County Multisport",
          "Syracuse Multisport"
         ],
         "legendgroup": "Triathlon, Race",
         "line": {
          "color": "red"
         },
         "marker": {
          "color": "red",
          "symbol": "diamond"
         },
         "mode": "markers",
         "name": "Triathlon, Race",
         "orientation": "v",
         "showlegend": true,
         "type": "scatter",
         "x": [
          "2022-07-16T07:16:24",
          "2021-09-11T07:41:11"
         ],
         "xaxis": "x",
         "y": [
          29.77,
          65.06
         ],
         "yaxis": "y"
        },
        {
         "hovertemplate": "<b>%{hovertext}</b><br><br>Activity Type=Swimming<br>Competition=Training<br>Date=%{x}<br>Distance=%{y}<extra></extra>",
         "hovertext": [
          "Pool Swimming",
          "Pool Swimming",
          "Pool Swimming",
          "Swimming",
          "Pool Swimming",
          "Pool Swimming",
          "Pool Swimming",
          "Pool Swimming",
          "Pool Swimming",
          "Pool Swimming",
          "Pool Swimming",
          "Pool Swimming",
          "Pool Swimming",
          "Pool Swimming",
          "Pool Swimming",
          "Pool Swimming",
          "Pool Swimming",
          "Salt Lake City Swimming",
          "Pool Swimming",
          "Pool Swimming",
          "Pool Swimming",
          "Pool Swimming",
          "Pool Swimming",
          "Pool Swimming",
          "Pool Swimming",
          "Pool Swimming",
          "Pool Swimming",
          "Pool Swimming",
          "Pool Swimming",
          "Pool Swimming",
          "Pool Swimming",
          "Pool Swimming",
          "Pool Swimming",
          "Lap Swimming",
          "Lap Swimming",
          "Lap Swimming",
          "Lap Swimming",
          "Lap Swimming",
          "Lap Swimming",
          "Lap Swimming",
          "Lap Swimming",
          "Lap Swimming",
          "Lap Swimming",
          "Lap Swimming",
          "Lap Swimming",
          "Overstrand Open Water Swimming",
          "Aston Bay Open Water Swimming",
          "Aston Bay Open Water Swimming",
          "Aston Bay Open Water Swimming",
          "Lap Swimming"
         ],
         "legendgroup": "Swimming, Training",
         "line": {
          "color": "blue"
         },
         "marker": {
          "color": "blue",
          "symbol": "circle"
         },
         "mode": "markers",
         "name": "Swimming, Training",
         "orientation": "v",
         "showlegend": true,
         "type": "scatter",
         "x": [
          "2022-07-11T20:18:01",
          "2022-07-06T20:34:33",
          "2021-11-16T07:55:28",
          "2021-10-28T08:00:00",
          "2021-10-21T07:53:32",
          "2021-10-19T07:51:32",
          "2021-10-07T07:38:19",
          "2021-10-05T07:48:44",
          "2021-09-21T08:00:38",
          "2021-09-07T07:26:21",
          "2021-09-02T07:21:57",
          "2021-08-31T07:21:30",
          "2021-08-26T10:56:54",
          "2021-08-19T14:36:08",
          "2021-08-12T15:03:31",
          "2021-08-05T15:16:58",
          "2021-05-22T19:12:40",
          "2021-01-19T17:58:26",
          "2020-12-18T12:51:50",
          "2020-12-15T12:31:09",
          "2020-12-04T17:25:42",
          "2020-11-20T17:19:08",
          "2020-10-23T16:59:59",
          "2020-10-09T16:50:48",
          "2020-10-02T17:06:38",
          "2020-09-22T15:06:05",
          "2020-08-05T15:08:05",
          "2020-07-31T11:21:22",
          "2020-07-29T15:26:13",
          "2020-07-22T14:08:59",
          "2020-07-16T14:41:38",
          "2020-07-14T14:39:44",
          "2020-03-04T06:39:47",
          "2020-02-26T06:39:57",
          "2020-02-19T06:30:27",
          "2020-02-17T15:31:40",
          "2020-02-12T06:40:40",
          "2020-02-10T06:30:20",
          "2020-01-27T06:39:54",
          "2020-01-24T15:25:47",
          "2020-01-16T06:19:01",
          "2020-01-13T06:47:01",
          "2020-01-11T08:10:45",
          "2020-01-10T08:45:15",
          "2020-01-08T12:43:07",
          "2019-12-30T09:40:31",
          "2019-12-21T06:16:25",
          "2019-12-20T07:30:21",
          "2019-12-20T07:09:26",
          "2019-12-06T11:13:37"
         ],
         "xaxis": "x",
         "y": [
          0.568182,
          0.284091,
          0.3977274,
          0.568182,
          0.568182,
          0.568182,
          0.568182,
          0.1136364,
          0.568182,
          0.8238639,
          1.17897765,
          0.5965910999999999,
          0.9659093999999999,
          0.7456452,
          0.7456452,
          0.568182,
          0.568182,
          0.568182,
          0.6818183999999999,
          0.7386366,
          0.6534093,
          0.46875015,
          1.1647731,
          0.6534093,
          0.58238655,
          0.3728226,
          0.49715925,
          1.0227275999999998,
          0.52816535,
          0.58238655,
          0.8664775499999999,
          0.568182,
          0.18181824,
          0.568182,
          0.284091,
          1.3636367999999999,
          0.6818183999999999,
          0.30681828,
          0.5113637999999999,
          0.40909103999999996,
          0.7386366,
          0.57954564,
          0.852273,
          0.3977274,
          0.59090928,
          0.782954796,
          0.30056827799999997,
          0.12215912999999999,
          0.109090944,
          0.66761385
         ],
         "yaxis": "y"
        },
        {
         "hovertemplate": "<b>%{hovertext}</b><br><br>Activity Type=Running<br>Competition=Training<br>Date=%{x}<br>Distance=%{y}<extra></extra>",
         "hovertext": [
          "South Jordan Running",
          "South Jordan Running",
          "South Jordan Running",
          "South Jordan Running",
          "Salt Lake City Running",
          "Salt Lake City Running",
          "Salt Lake City Running",
          "Salt Lake City Running",
          "Salt Lake City Running",
          "Salt Lake City Running",
          "Salt Lake City Running",
          "Salt Lake City Running",
          "Salt Lake City Running",
          "Salt Lake City Running",
          "Salt Lake City Running",
          "Salt Lake City Running",
          "Salt Lake City Running",
          "Salt Lake City Running",
          "Salt Lake City Running",
          "Salt Lake City Running",
          "Salt Lake City Running",
          "Salt Lake City Running",
          "Salt Lake City Running",
          "Salt Lake City Running",
          "Salt Lake City Running",
          "Salt Lake City Running",
          "Salt Lake City Running",
          "Salt Lake City Running",
          "Salt Lake City Running",
          "Salt Lake City Running",
          "Salt Lake City Running",
          "Salt Lake City Running",
          "Salt Lake City Running",
          "Salt Lake City Running",
          "Salt Lake City Running",
          "Salt Lake City Running",
          "Salt Lake City Running",
          "Salt Lake City Running",
          "Salt Lake City Running",
          "Salt Lake City Running",
          "Salt Lake City Running",
          "Salt Lake City Running",
          "Salt Lake City Running",
          "Salt Lake City Running",
          "Salt Lake City Running",
          "Salt Lake City Running",
          "Salt Lake City Running",
          "Salt Lake City Running",
          "Salt Lake City Running",
          "Salt Lake City Running",
          "Salt Lake City Running",
          "Salt Lake City Running",
          "Salt Lake County Running",
          "Salt Lake City Running",
          "Salt Lake City Running",
          "Salt Lake City Running",
          "Salt Lake City Running",
          "Salt Lake City Running",
          "Salt Lake City Running",
          "Salt Lake City Running",
          "Salt Lake City Running",
          "Salt Lake City Running",
          "Davis Running",
          "Salt Lake City Running",
          "Salt Lake City Running",
          "Salt Lake City Running",
          "Salt Lake City Running",
          "Luna County Running",
          "Luna County Running",
          "Luna County Running",
          "Salt Lake City Running",
          "Salt Lake City Running",
          "Salt Lake City Running",
          "Salt Lake City Running",
          "Salt Lake City Running",
          "Salt Lake City Running",
          "Salt Lake City Running",
          "Salt Lake City Running",
          "Salt Lake City Running",
          "Salt Lake City Running",
          "Salt Lake City Running",
          "Salt Lake City Running",
          "Salt Lake City Running",
          "Salt Lake City Running",
          "Salt Lake City Running",
          "Salt Lake City Running",
          "Salt Lake City Running",
          "Salt Lake City Running",
          "Salt Lake City Running",
          "Salt Lake City Running",
          "Salt Lake City Running",
          "Salt Lake City Running",
          "Salt Lake City Running",
          "Salt Lake City Running",
          "Salt Lake City Running",
          "Salt Lake City Running",
          "Salt Lake City Running",
          "Salt Lake City Running",
          "Salt Lake City Running",
          "Salt Lake City Running",
          "Salt Lake City Running",
          "Salt Lake City Running",
          "Salt Lake City Running",
          "Salt Lake City Running",
          "Salt Lake County Trail Running",
          "Salt Lake City Running",
          "Salt Lake City Running",
          "Salt Lake City Running",
          "Salt Lake City Running",
          "Salt Lake City Running",
          "Salt Lake City Running",
          "Salt Lake City Running",
          "Running",
          "Salt Lake City Running",
          "Salt Lake City Running",
          "Salt Lake City Running",
          "Salt Lake City Running",
          "Salt Lake City Trail Running",
          "Salt Lake City Running",
          "Salt Lake City Running",
          "Salt Lake City Running",
          "Salt Lake City Running",
          "Salt Lake City Running",
          "Salt Lake City Running",
          "Salt Lake City Running",
          "Salt Lake City Running",
          "Salt Lake City Running",
          "Salt Lake City Running",
          "Salt Lake City Running",
          "Salt Lake City Running",
          "Salt Lake City Running",
          "Salt Lake City Running",
          "Salt Lake City Running",
          "Salt Lake City Running",
          "Salt Lake City Running",
          "Salt Lake City Running",
          "Salt Lake City Running",
          "Salt Lake City Running",
          "Salt Lake City Running",
          "Salt Lake City Running",
          "Salt Lake City Running",
          "Salt Lake City Running",
          "Santa Barbara Running",
          "Santa Barbara Running",
          "Salt Lake City Running",
          "Salt Lake City Running",
          "Salt Lake City Running",
          "Salt Lake City Running",
          "South Jordan Running",
          "Salt Lake City Running",
          "Luna County Running",
          "Salt Lake City Trail Running",
          "Fisherhaven - W01D1a-Easy Run",
          "Fisherhaven Running",
          "Salt Lake City Running"
         ],
         "legendgroup": "Running, Training",
         "line": {
          "color": "lightgreen"
         },
         "marker": {
          "color": "lightgreen",
          "symbol": "circle"
         },
         "mode": "markers",
         "name": "Running, Training",
         "orientation": "v",
         "showlegend": true,
         "type": "scatter",
         "x": [
          "2022-06-28T22:44:04",
          "2022-06-01T21:52:53",
          "2022-05-25T20:52:19",
          "2022-05-23T21:57:21",
          "2022-04-19T22:35:00",
          "2022-04-16T16:52:42",
          "2022-04-14T10:03:51",
          "2022-04-09T16:42:31",
          "2022-04-06T19:34:13",
          "2022-04-05T21:19:16",
          "2022-04-04T19:01:18",
          "2022-04-02T12:02:11",
          "2022-03-30T19:52:49",
          "2022-03-29T09:02:59",
          "2022-03-25T22:53:46",
          "2022-03-23T21:43:00",
          "2022-03-19T19:26:54",
          "2022-03-15T09:07:06",
          "2022-03-12T19:54:48",
          "2022-03-10T10:11:28",
          "2022-02-19T23:07:10",
          "2022-02-09T22:42:55",
          "2022-02-04T23:05:07",
          "2022-01-31T21:16:48",
          "2022-01-28T21:33:51",
          "2022-01-22T23:19:32",
          "2022-01-17T20:52:02",
          "2022-01-15T19:24:27",
          "2021-11-04T11:31:56",
          "2021-10-28T19:53:27",
          "2021-10-25T20:45:12",
          "2021-10-14T20:41:48",
          "2021-10-09T20:53:12",
          "2021-10-02T20:17:52",
          "2021-09-30T11:04:30",
          "2021-09-28T11:04:54",
          "2021-09-25T21:41:31",
          "2021-09-23T11:06:14",
          "2021-09-18T20:33:27",
          "2021-09-17T20:18:39",
          "2021-09-06T11:26:10",
          "2021-09-01T19:00:33",
          "2021-08-30T20:49:30",
          "2021-08-26T21:26:52",
          "2021-08-23T22:17:47",
          "2021-08-21T12:21:00",
          "2021-08-17T11:14:50",
          "2021-08-06T21:41:37",
          "2021-08-02T21:06:59",
          "2021-07-29T20:48:49",
          "2021-07-27T21:53:04",
          "2021-07-26T21:13:16",
          "2021-07-02T21:24:46",
          "2021-06-29T20:24:29",
          "2021-06-26T15:03:06",
          "2021-06-10T22:18:58",
          "2021-05-18T22:15:21",
          "2021-05-15T23:42:20",
          "2021-04-26T21:56:09",
          "2021-03-22T22:00:17",
          "2021-03-13T13:56:34",
          "2021-02-18T13:35:10",
          "2021-02-15T08:49:41",
          "2021-02-03T14:32:05",
          "2021-02-02T18:22:01",
          "2021-01-11T21:05:06",
          "2021-01-04T22:06:49",
          "2021-01-01T10:37:29",
          "2020-12-28T20:13:48",
          "2020-12-22T08:09:11",
          "2020-12-19T07:45:50",
          "2020-12-16T22:14:16",
          "2020-12-09T19:44:53",
          "2020-12-08T21:48:43",
          "2020-12-07T22:38:31",
          "2020-12-05T17:27:33",
          "2020-12-04T18:15:36",
          "2020-12-01T16:38:49",
          "2020-11-28T20:29:33",
          "2020-11-27T18:58:16",
          "2020-11-25T18:26:19",
          "2020-11-21T18:48:23",
          "2020-11-18T17:23:47",
          "2020-11-16T16:23:55",
          "2020-11-13T18:37:06",
          "2020-11-07T15:16:46",
          "2020-11-05T15:45:44",
          "2020-11-04T19:53:44",
          "2020-10-31T15:03:00",
          "2020-10-28T21:41:16",
          "2020-10-27T19:51:58",
          "2020-10-21T21:37:36",
          "2020-10-19T20:34:47",
          "2020-10-15T07:46:19",
          "2020-10-14T20:41:52",
          "2020-10-03T18:29:49",
          "2020-09-30T21:34:19",
          "2020-09-29T23:07:40",
          "2020-09-23T17:50:12",
          "2020-09-17T19:02:55",
          "2020-09-16T20:55:02",
          "2020-09-14T14:00:15",
          "2020-09-10T16:38:34",
          "2020-09-01T16:47:11",
          "2020-08-19T20:08:29",
          "2020-08-14T15:10:12",
          "2020-08-10T21:41:10",
          "2020-08-03T21:24:33",
          "2020-07-27T21:33:24",
          "2020-07-22T14:59:28",
          "2020-07-02T21:33:56",
          "2020-06-24T12:07:27",
          "2020-06-08T03:07:25",
          "2020-05-30T20:32:45",
          "2020-05-23T13:19:50",
          "2020-05-20T23:27:16",
          "2020-05-13T21:17:24",
          "2020-05-09T20:19:14",
          "2020-05-06T22:42:45",
          "2020-05-05T23:43:29",
          "2020-05-04T20:54:41",
          "2020-05-01T17:08:44",
          "2020-04-29T18:32:18",
          "2020-04-27T15:05:59",
          "2020-04-23T19:18:23",
          "2020-04-18T18:01:42",
          "2020-04-15T16:58:05",
          "2020-04-06T15:13:23",
          "2020-04-02T15:40:38",
          "2020-03-30T14:34:24",
          "2020-03-26T14:11:21",
          "2020-03-23T19:53:13",
          "2020-03-19T21:42:10",
          "2020-03-17T21:34:32",
          "2020-03-16T20:06:11",
          "2020-03-13T15:46:07",
          "2020-03-07T20:36:26",
          "2020-03-06T16:08:38",
          "2020-03-04T05:21:32",
          "2020-03-02T17:03:36",
          "2020-02-28T15:51:39",
          "2020-02-26T15:20:59",
          "2020-02-22T18:23:16",
          "2020-02-21T15:49:08",
          "2020-02-18T10:00:36",
          "2020-02-15T08:37:59",
          "2020-02-11T19:27:41",
          "2020-01-29T15:27:59",
          "2020-01-25T16:33:00",
          "2020-01-23T15:59:13",
          "2020-01-18T15:25:55",
          "2020-01-09T10:09:17",
          "2019-12-28T22:44:25",
          "2019-12-25T21:41:01",
          "2019-12-09T11:07:42"
         ],
         "xaxis": "x",
         "y": [
          1.94,
          2.03,
          3.97,
          1.94,
          2.2,
          10.38,
          3.3,
          5.44,
          1.4,
          2.37,
          3.54,
          2.39,
          3.22,
          2.47,
          2.34,
          3.55,
          3.51,
          2.57,
          2.41,
          2.01,
          1.88,
          3.55,
          2.44,
          2.44,
          4.37,
          3.66,
          2.44,
          2.18,
          2.4,
          3.52,
          3.54,
          4.81,
          3.33,
          3.6,
          3.24,
          4.54,
          2.45,
          3.18,
          3.18,
          3.18,
          5.1,
          3.44,
          4.01,
          1.51,
          4,
          2.11,
          1.1,
          1.75,
          3.45,
          2.44,
          2.17,
          1.92,
          3.28,
          2.4,
          2.11,
          2.37,
          2.16,
          1.88,
          2.32,
          2.51,
          0.81,
          2.19,
          1.34,
          2.28,
          3.47,
          3.85,
          2.42,
          1.17,
          5.01,
          1.17,
          1.65,
          5.35,
          4.84,
          2.18,
          3.47,
          2.17,
          2.15,
          5.19,
          5,
          2.01,
          5.35,
          4.81,
          5.66,
          2.31,
          4.09,
          2,
          3,
          3.24,
          3.33,
          3.8,
          3.31,
          6.41,
          3.32,
          2.93,
          1.49,
          5.01,
          5.18,
          3.5,
          1.27,
          3.22,
          5.44,
          2.01,
          3.35,
          3.31,
          2.6,
          1.14,
          2.87,
          2.02,
          3.32,
          3.43,
          1.12,
          1.83,
          1.62,
          2.01,
          1.58,
          2.15,
          5.47,
          3.78,
          3.21,
          2.49,
          3.2,
          3.19,
          4.22,
          1.7,
          1,
          3.32,
          2.01,
          10.01,
          2.22,
          7.8,
          3.18,
          6.21,
          2.12,
          4,
          4.01,
          3.34,
          2.01,
          3.1,
          1.46,
          8.17,
          3.18,
          2.77,
          3.32,
          1.12,
          3.17,
          3.32,
          2.15,
          2.04,
          6.3,
          4.31,
          3.2,
          6.6,
          4.65,
          3.3,
          3.3
         ],
         "yaxis": "y"
        },
        {
         "hovertemplate": "<b>%{hovertext}</b><br><br>Activity Type=Running<br>Competition=Race<br>Date=%{x}<br>Distance=%{y}<extra></extra>",
         "hovertext": [
          "Salt Lake City Running"
         ],
         "legendgroup": "Running, Race",
         "line": {
          "color": "lightgreen"
         },
         "marker": {
          "color": "lightgreen",
          "symbol": "diamond"
         },
         "mode": "markers",
         "name": "Running, Race",
         "orientation": "v",
         "showlegend": true,
         "type": "scatter",
         "x": [
          "2022-04-23T07:08:58"
         ],
         "xaxis": "x",
         "y": [
          26.56
         ],
         "yaxis": "y"
        }
       ],
       "layout": {
        "margin": {
         "b": 20,
         "l": 10,
         "r": 10,
         "t": 20
        },
        "template": {
         "data": {
          "bar": [
           {
            "error_x": {
             "color": "rgb(36,36,36)"
            },
            "error_y": {
             "color": "rgb(36,36,36)"
            },
            "marker": {
             "line": {
              "color": "white",
              "width": 0.5
             },
             "pattern": {
              "fillmode": "overlay",
              "size": 10,
              "solidity": 0.2
             }
            },
            "type": "bar"
           }
          ],
          "barpolar": [
           {
            "marker": {
             "line": {
              "color": "white",
              "width": 0.5
             },
             "pattern": {
              "fillmode": "overlay",
              "size": 10,
              "solidity": 0.2
             }
            },
            "type": "barpolar"
           }
          ],
          "carpet": [
           {
            "aaxis": {
             "endlinecolor": "rgb(36,36,36)",
             "gridcolor": "white",
             "linecolor": "white",
             "minorgridcolor": "white",
             "startlinecolor": "rgb(36,36,36)"
            },
            "baxis": {
             "endlinecolor": "rgb(36,36,36)",
             "gridcolor": "white",
             "linecolor": "white",
             "minorgridcolor": "white",
             "startlinecolor": "rgb(36,36,36)"
            },
            "type": "carpet"
           }
          ],
          "choropleth": [
           {
            "colorbar": {
             "outlinewidth": 1,
             "tickcolor": "rgb(36,36,36)",
             "ticks": "outside"
            },
            "type": "choropleth"
           }
          ],
          "contour": [
           {
            "colorbar": {
             "outlinewidth": 1,
             "tickcolor": "rgb(36,36,36)",
             "ticks": "outside"
            },
            "colorscale": [
             [
              0,
              "#440154"
             ],
             [
              0.1111111111111111,
              "#482878"
             ],
             [
              0.2222222222222222,
              "#3e4989"
             ],
             [
              0.3333333333333333,
              "#31688e"
             ],
             [
              0.4444444444444444,
              "#26828e"
             ],
             [
              0.5555555555555556,
              "#1f9e89"
             ],
             [
              0.6666666666666666,
              "#35b779"
             ],
             [
              0.7777777777777778,
              "#6ece58"
             ],
             [
              0.8888888888888888,
              "#b5de2b"
             ],
             [
              1,
              "#fde725"
             ]
            ],
            "type": "contour"
           }
          ],
          "contourcarpet": [
           {
            "colorbar": {
             "outlinewidth": 1,
             "tickcolor": "rgb(36,36,36)",
             "ticks": "outside"
            },
            "type": "contourcarpet"
           }
          ],
          "heatmap": [
           {
            "colorbar": {
             "outlinewidth": 1,
             "tickcolor": "rgb(36,36,36)",
             "ticks": "outside"
            },
            "colorscale": [
             [
              0,
              "#440154"
             ],
             [
              0.1111111111111111,
              "#482878"
             ],
             [
              0.2222222222222222,
              "#3e4989"
             ],
             [
              0.3333333333333333,
              "#31688e"
             ],
             [
              0.4444444444444444,
              "#26828e"
             ],
             [
              0.5555555555555556,
              "#1f9e89"
             ],
             [
              0.6666666666666666,
              "#35b779"
             ],
             [
              0.7777777777777778,
              "#6ece58"
             ],
             [
              0.8888888888888888,
              "#b5de2b"
             ],
             [
              1,
              "#fde725"
             ]
            ],
            "type": "heatmap"
           }
          ],
          "heatmapgl": [
           {
            "colorbar": {
             "outlinewidth": 1,
             "tickcolor": "rgb(36,36,36)",
             "ticks": "outside"
            },
            "colorscale": [
             [
              0,
              "#440154"
             ],
             [
              0.1111111111111111,
              "#482878"
             ],
             [
              0.2222222222222222,
              "#3e4989"
             ],
             [
              0.3333333333333333,
              "#31688e"
             ],
             [
              0.4444444444444444,
              "#26828e"
             ],
             [
              0.5555555555555556,
              "#1f9e89"
             ],
             [
              0.6666666666666666,
              "#35b779"
             ],
             [
              0.7777777777777778,
              "#6ece58"
             ],
             [
              0.8888888888888888,
              "#b5de2b"
             ],
             [
              1,
              "#fde725"
             ]
            ],
            "type": "heatmapgl"
           }
          ],
          "histogram": [
           {
            "marker": {
             "line": {
              "color": "white",
              "width": 0.6
             }
            },
            "type": "histogram"
           }
          ],
          "histogram2d": [
           {
            "colorbar": {
             "outlinewidth": 1,
             "tickcolor": "rgb(36,36,36)",
             "ticks": "outside"
            },
            "colorscale": [
             [
              0,
              "#440154"
             ],
             [
              0.1111111111111111,
              "#482878"
             ],
             [
              0.2222222222222222,
              "#3e4989"
             ],
             [
              0.3333333333333333,
              "#31688e"
             ],
             [
              0.4444444444444444,
              "#26828e"
             ],
             [
              0.5555555555555556,
              "#1f9e89"
             ],
             [
              0.6666666666666666,
              "#35b779"
             ],
             [
              0.7777777777777778,
              "#6ece58"
             ],
             [
              0.8888888888888888,
              "#b5de2b"
             ],
             [
              1,
              "#fde725"
             ]
            ],
            "type": "histogram2d"
           }
          ],
          "histogram2dcontour": [
           {
            "colorbar": {
             "outlinewidth": 1,
             "tickcolor": "rgb(36,36,36)",
             "ticks": "outside"
            },
            "colorscale": [
             [
              0,
              "#440154"
             ],
             [
              0.1111111111111111,
              "#482878"
             ],
             [
              0.2222222222222222,
              "#3e4989"
             ],
             [
              0.3333333333333333,
              "#31688e"
             ],
             [
              0.4444444444444444,
              "#26828e"
             ],
             [
              0.5555555555555556,
              "#1f9e89"
             ],
             [
              0.6666666666666666,
              "#35b779"
             ],
             [
              0.7777777777777778,
              "#6ece58"
             ],
             [
              0.8888888888888888,
              "#b5de2b"
             ],
             [
              1,
              "#fde725"
             ]
            ],
            "type": "histogram2dcontour"
           }
          ],
          "mesh3d": [
           {
            "colorbar": {
             "outlinewidth": 1,
             "tickcolor": "rgb(36,36,36)",
             "ticks": "outside"
            },
            "type": "mesh3d"
           }
          ],
          "parcoords": [
           {
            "line": {
             "colorbar": {
              "outlinewidth": 1,
              "tickcolor": "rgb(36,36,36)",
              "ticks": "outside"
             }
            },
            "type": "parcoords"
           }
          ],
          "pie": [
           {
            "automargin": true,
            "type": "pie"
           }
          ],
          "scatter": [
           {
            "marker": {
             "colorbar": {
              "outlinewidth": 1,
              "tickcolor": "rgb(36,36,36)",
              "ticks": "outside"
             }
            },
            "type": "scatter"
           }
          ],
          "scatter3d": [
           {
            "line": {
             "colorbar": {
              "outlinewidth": 1,
              "tickcolor": "rgb(36,36,36)",
              "ticks": "outside"
             }
            },
            "marker": {
             "colorbar": {
              "outlinewidth": 1,
              "tickcolor": "rgb(36,36,36)",
              "ticks": "outside"
             }
            },
            "type": "scatter3d"
           }
          ],
          "scattercarpet": [
           {
            "marker": {
             "colorbar": {
              "outlinewidth": 1,
              "tickcolor": "rgb(36,36,36)",
              "ticks": "outside"
             }
            },
            "type": "scattercarpet"
           }
          ],
          "scattergeo": [
           {
            "marker": {
             "colorbar": {
              "outlinewidth": 1,
              "tickcolor": "rgb(36,36,36)",
              "ticks": "outside"
             }
            },
            "type": "scattergeo"
           }
          ],
          "scattergl": [
           {
            "marker": {
             "colorbar": {
              "outlinewidth": 1,
              "tickcolor": "rgb(36,36,36)",
              "ticks": "outside"
             }
            },
            "type": "scattergl"
           }
          ],
          "scattermapbox": [
           {
            "marker": {
             "colorbar": {
              "outlinewidth": 1,
              "tickcolor": "rgb(36,36,36)",
              "ticks": "outside"
             }
            },
            "type": "scattermapbox"
           }
          ],
          "scatterpolar": [
           {
            "marker": {
             "colorbar": {
              "outlinewidth": 1,
              "tickcolor": "rgb(36,36,36)",
              "ticks": "outside"
             }
            },
            "type": "scatterpolar"
           }
          ],
          "scatterpolargl": [
           {
            "marker": {
             "colorbar": {
              "outlinewidth": 1,
              "tickcolor": "rgb(36,36,36)",
              "ticks": "outside"
             }
            },
            "type": "scatterpolargl"
           }
          ],
          "scatterternary": [
           {
            "marker": {
             "colorbar": {
              "outlinewidth": 1,
              "tickcolor": "rgb(36,36,36)",
              "ticks": "outside"
             }
            },
            "type": "scatterternary"
           }
          ],
          "surface": [
           {
            "colorbar": {
             "outlinewidth": 1,
             "tickcolor": "rgb(36,36,36)",
             "ticks": "outside"
            },
            "colorscale": [
             [
              0,
              "#440154"
             ],
             [
              0.1111111111111111,
              "#482878"
             ],
             [
              0.2222222222222222,
              "#3e4989"
             ],
             [
              0.3333333333333333,
              "#31688e"
             ],
             [
              0.4444444444444444,
              "#26828e"
             ],
             [
              0.5555555555555556,
              "#1f9e89"
             ],
             [
              0.6666666666666666,
              "#35b779"
             ],
             [
              0.7777777777777778,
              "#6ece58"
             ],
             [
              0.8888888888888888,
              "#b5de2b"
             ],
             [
              1,
              "#fde725"
             ]
            ],
            "type": "surface"
           }
          ],
          "table": [
           {
            "cells": {
             "fill": {
              "color": "rgb(237,237,237)"
             },
             "line": {
              "color": "white"
             }
            },
            "header": {
             "fill": {
              "color": "rgb(217,217,217)"
             },
             "line": {
              "color": "white"
             }
            },
            "type": "table"
           }
          ]
         },
         "layout": {
          "annotationdefaults": {
           "arrowhead": 0,
           "arrowwidth": 1
          },
          "autotypenumbers": "strict",
          "coloraxis": {
           "colorbar": {
            "outlinewidth": 1,
            "tickcolor": "rgb(36,36,36)",
            "ticks": "outside"
           }
          },
          "colorscale": {
           "diverging": [
            [
             0,
             "rgb(103,0,31)"
            ],
            [
             0.1,
             "rgb(178,24,43)"
            ],
            [
             0.2,
             "rgb(214,96,77)"
            ],
            [
             0.3,
             "rgb(244,165,130)"
            ],
            [
             0.4,
             "rgb(253,219,199)"
            ],
            [
             0.5,
             "rgb(247,247,247)"
            ],
            [
             0.6,
             "rgb(209,229,240)"
            ],
            [
             0.7,
             "rgb(146,197,222)"
            ],
            [
             0.8,
             "rgb(67,147,195)"
            ],
            [
             0.9,
             "rgb(33,102,172)"
            ],
            [
             1,
             "rgb(5,48,97)"
            ]
           ],
           "sequential": [
            [
             0,
             "#440154"
            ],
            [
             0.1111111111111111,
             "#482878"
            ],
            [
             0.2222222222222222,
             "#3e4989"
            ],
            [
             0.3333333333333333,
             "#31688e"
            ],
            [
             0.4444444444444444,
             "#26828e"
            ],
            [
             0.5555555555555556,
             "#1f9e89"
            ],
            [
             0.6666666666666666,
             "#35b779"
            ],
            [
             0.7777777777777778,
             "#6ece58"
            ],
            [
             0.8888888888888888,
             "#b5de2b"
            ],
            [
             1,
             "#fde725"
            ]
           ],
           "sequentialminus": [
            [
             0,
             "#440154"
            ],
            [
             0.1111111111111111,
             "#482878"
            ],
            [
             0.2222222222222222,
             "#3e4989"
            ],
            [
             0.3333333333333333,
             "#31688e"
            ],
            [
             0.4444444444444444,
             "#26828e"
            ],
            [
             0.5555555555555556,
             "#1f9e89"
            ],
            [
             0.6666666666666666,
             "#35b779"
            ],
            [
             0.7777777777777778,
             "#6ece58"
            ],
            [
             0.8888888888888888,
             "#b5de2b"
            ],
            [
             1,
             "#fde725"
            ]
           ]
          },
          "colorway": [
           "#1F77B4",
           "#FF7F0E",
           "#2CA02C",
           "#D62728",
           "#9467BD",
           "#8C564B",
           "#E377C2",
           "#7F7F7F",
           "#BCBD22",
           "#17BECF"
          ],
          "font": {
           "color": "rgb(36,36,36)"
          },
          "geo": {
           "bgcolor": "white",
           "lakecolor": "white",
           "landcolor": "white",
           "showlakes": true,
           "showland": true,
           "subunitcolor": "white"
          },
          "hoverlabel": {
           "align": "left"
          },
          "hovermode": "closest",
          "mapbox": {
           "style": "light"
          },
          "paper_bgcolor": "white",
          "plot_bgcolor": "white",
          "polar": {
           "angularaxis": {
            "gridcolor": "rgb(232,232,232)",
            "linecolor": "rgb(36,36,36)",
            "showgrid": false,
            "showline": true,
            "ticks": "outside"
           },
           "bgcolor": "white",
           "radialaxis": {
            "gridcolor": "rgb(232,232,232)",
            "linecolor": "rgb(36,36,36)",
            "showgrid": false,
            "showline": true,
            "ticks": "outside"
           }
          },
          "scene": {
           "xaxis": {
            "backgroundcolor": "white",
            "gridcolor": "rgb(232,232,232)",
            "gridwidth": 2,
            "linecolor": "rgb(36,36,36)",
            "showbackground": true,
            "showgrid": false,
            "showline": true,
            "ticks": "outside",
            "zeroline": false,
            "zerolinecolor": "rgb(36,36,36)"
           },
           "yaxis": {
            "backgroundcolor": "white",
            "gridcolor": "rgb(232,232,232)",
            "gridwidth": 2,
            "linecolor": "rgb(36,36,36)",
            "showbackground": true,
            "showgrid": false,
            "showline": true,
            "ticks": "outside",
            "zeroline": false,
            "zerolinecolor": "rgb(36,36,36)"
           },
           "zaxis": {
            "backgroundcolor": "white",
            "gridcolor": "rgb(232,232,232)",
            "gridwidth": 2,
            "linecolor": "rgb(36,36,36)",
            "showbackground": true,
            "showgrid": false,
            "showline": true,
            "ticks": "outside",
            "zeroline": false,
            "zerolinecolor": "rgb(36,36,36)"
           }
          },
          "shapedefaults": {
           "fillcolor": "black",
           "line": {
            "width": 0
           },
           "opacity": 0.3
          },
          "ternary": {
           "aaxis": {
            "gridcolor": "rgb(232,232,232)",
            "linecolor": "rgb(36,36,36)",
            "showgrid": false,
            "showline": true,
            "ticks": "outside"
           },
           "baxis": {
            "gridcolor": "rgb(232,232,232)",
            "linecolor": "rgb(36,36,36)",
            "showgrid": false,
            "showline": true,
            "ticks": "outside"
           },
           "bgcolor": "white",
           "caxis": {
            "gridcolor": "rgb(232,232,232)",
            "linecolor": "rgb(36,36,36)",
            "showgrid": false,
            "showline": true,
            "ticks": "outside"
           }
          },
          "title": {
           "x": 0.05
          },
          "xaxis": {
           "automargin": true,
           "gridcolor": "rgb(232,232,232)",
           "linecolor": "rgb(36,36,36)",
           "showgrid": false,
           "showline": true,
           "ticks": "outside",
           "title": {
            "standoff": 15
           },
           "zeroline": false,
           "zerolinecolor": "rgb(36,36,36)"
          },
          "yaxis": {
           "automargin": true,
           "gridcolor": "rgb(232,232,232)",
           "linecolor": "rgb(36,36,36)",
           "showgrid": false,
           "showline": true,
           "ticks": "outside",
           "title": {
            "standoff": 15
           },
           "zeroline": false,
           "zerolinecolor": "rgb(36,36,36)"
          }
         }
        },
        "xaxis": {
         "anchor": "y",
         "domain": [
          0,
          0.94
         ],
         "dtick": "M1",
         "tickangle": -45,
         "tickfont": {
          "family": "Calibri",
          "size": 12
         }
        },
        "yaxis": {
         "anchor": "x",
         "domain": [
          0,
          1
         ],
         "title": {
          "text": "Individual Activity Distance"
         }
        },
        "yaxis2": {
         "anchor": "x",
         "overlaying": "y",
         "side": "right",
         "title": {
          "text": "Total Distance"
         }
        }
       }
      }
     },
     "metadata": {},
     "output_type": "display_data"
    }
   ],
   "source": [
    "Full_fig = make_subplots(specs=[[{\"secondary_y\": True}]])\n",
    "# create two independent figures with px.line each containing data from multiple columns\n",
    "\n",
    "line.update_traces(yaxis=\"y2\")\n",
    "\n",
    "Full_fig.add_traces(line.data + scatter.data)\n",
    "\n",
    "Full_fig.layout.yaxis.title=\"Individual Activity Distance\"\n",
    "Full_fig.layout.yaxis2.title=\"Total Distance\"\n",
    "\n",
    "Full_fig.for_each_trace(lambda t: t.update(line=dict(color=t.marker.color)))\n",
    "\n",
    "Full_fig.update_layout(\n",
    "    margin=dict(l=10, r=10, t=20, b=20),\n",
    "    template = 'simple_white'\n",
    ")\n",
    "\n",
    "Full_fig.update_xaxes(tickangle=-45, \n",
    "                         tickfont=dict(family='Calibri', size=12),\n",
    "                         dtick=\"M1\"\n",
    ")\n",
    "Full_fig.show()\n",
    "\n",
    "\n"
   ]
  }
 ],
 "metadata": {
  "kernelspec": {
   "display_name": "Python 3.9.7 64-bit",
   "language": "python",
   "name": "python3"
  },
  "language_info": {
   "codemirror_mode": {
    "name": "ipython",
    "version": 3
   },
   "file_extension": ".py",
   "mimetype": "text/x-python",
   "name": "python",
   "nbconvert_exporter": "python",
   "pygments_lexer": "ipython3",
   "version": "3.9.7"
  },
  "orig_nbformat": 4,
  "vscode": {
   "interpreter": {
    "hash": "b29ce9f861b7a1532af8656fb1ce7bb37fde84396fe0706b59e655dbf84bcb19"
   }
  }
 },
 "nbformat": 4,
 "nbformat_minor": 2
}
