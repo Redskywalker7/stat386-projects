{
 "cells": [
  {
   "cell_type": "code",
   "execution_count": 67,
   "metadata": {},
   "outputs": [],
   "source": [
    "import pandas as pd\n",
    "import numpy as np\n",
    "import requests\n",
    "import matplotlib.pyplot as plt\n",
    "import matplotlib.image as img\n",
    "import plotly.express as px\n",
    "import plotly.graph_objects as go\n",
    "import plotly.figure_factory as ff\n",
    "from plotly.subplots import make_subplots"
   ]
  },
  {
   "cell_type": "code",
   "execution_count": 87,
   "metadata": {},
   "outputs": [],
   "source": [
    "# Create a Colour Dictionary to use in the visuals\n",
    "\n",
    "colours_dict ={\n",
    "    'bug': '#A6B91A',\n",
    "    'dark': '#705746',\n",
    "    'dragon': '#6F35FC',\n",
    "    'electric': '#F7D02C',\n",
    "    'fairy':'#D685AD',\n",
    "    'fighting': '#C22E28',\n",
    "    'fire':'#EE8130',\n",
    "    'ghost': '#735797',\n",
    "    'grass':'#7AC74C',\n",
    "    'ground':'#E2BF65',\n",
    "    'ice':'#96D9D6',\n",
    "    'normal':'#A8A77A',\n",
    "    'poison':'#A33EA1',\n",
    "    'psychic':'#F95587',\n",
    "    'rock':'#B6A136',\n",
    "    'steel':'#B7B7CE',\n",
    "    'water':'#6390F0'\n",
    "}"
   ]
  },
  {
   "cell_type": "code",
   "execution_count": 3,
   "metadata": {},
   "outputs": [],
   "source": [
    "Name = []\n",
    "Primary_Type = []\n",
    "Weight = []\n",
    "Height = []\n",
    "HP = []\n",
    "Speed = []\n",
    "Attack = []\n",
    "Defense = []\n",
    "Experience = []\n",
    "\n",
    "for x in range(1,252):\n",
    "    url = \"https://pokeapi.co/api/v2/pokemon/\" + str(x)\n",
    "    res = requests.get(url)\n",
    "    Name.append(res.json()['name'])\n",
    "    Primary_Type.append(res.json()['types'][0]['type']['name'])\n",
    "    Weight.append(res.json()['weight'])\n",
    "    Height.append(res.json()['height'])\n",
    "    HP.append(res.json()['stats'][0]['base_stat'])\n",
    "    Speed.append(res.json()['stats'][5]['base_stat'])\n",
    "    Defense.append(res.json()['stats'][2]['base_stat'])\n",
    "    Attack.append(res.json()['stats'][1]['base_stat'])\n",
    "    Experience.append(res.json()['base_experience'])\n",
    "    "
   ]
  },
  {
   "cell_type": "code",
   "execution_count": 41,
   "metadata": {},
   "outputs": [],
   "source": [
    "Poke_Dict = {\n",
    "    'Pokemon': Name,\n",
    "    'Type': Primary_Type,\n",
    "    'Weight': Weight,\n",
    "    'Height': Height,\n",
    "    'Experience':Experience,\n",
    "    'HP': HP,\n",
    "    'Speed': Speed,\n",
    "    'Attack': Attack,\n",
    "    'Defense': Defense\n",
    "}\n",
    "Pokemon_DF = pd.DataFrame(Poke_Dict)\n",
    "Pokemon_DF.index += 1 "
   ]
  },
  {
   "cell_type": "code",
   "execution_count": 65,
   "metadata": {},
   "outputs": [
    {
     "data": {
      "application/vnd.plotly.v1+json": {
       "config": {
        "plotlyServerURL": "https://plot.ly"
       },
       "data": [
        {
         "alignmentgroup": "True",
         "hovertemplate": "<b>%{hovertext}</b><br><br>Type=%{x}<br>HP=%{y}<extra></extra>",
         "hovertext": [
          "normal"
         ],
         "legendgroup": "normal",
         "marker": {
          "color": "#A8A77A",
          "pattern": {
           "shape": ""
          }
         },
         "name": "normal",
         "offsetgroup": "normal",
         "orientation": "v",
         "showlegend": true,
         "textposition": "auto",
         "type": "bar",
         "x": [
          "normal"
         ],
         "xaxis": "x",
         "y": [
          82.14
         ],
         "yaxis": "y"
        },
        {
         "alignmentgroup": "True",
         "hovertemplate": "<b>%{hovertext}</b><br><br>Type=%{x}<br>HP=%{y}<extra></extra>",
         "hovertext": [
          "psychic"
         ],
         "legendgroup": "psychic",
         "marker": {
          "color": "#F95587",
          "pattern": {
           "shape": ""
          }
         },
         "name": "psychic",
         "offsetgroup": "psychic",
         "orientation": "v",
         "showlegend": true,
         "textposition": "auto",
         "type": "bar",
         "x": [
          "psychic"
         ],
         "xaxis": "x",
         "y": [
          75
         ],
         "yaxis": "y"
        },
        {
         "alignmentgroup": "True",
         "hovertemplate": "<b>%{hovertext}</b><br><br>Type=%{x}<br>HP=%{y}<extra></extra>",
         "hovertext": [
          "steel"
         ],
         "legendgroup": "steel",
         "marker": {
          "color": "#B7B7CE",
          "pattern": {
           "shape": ""
          }
         },
         "name": "steel",
         "offsetgroup": "steel",
         "orientation": "v",
         "showlegend": true,
         "textposition": "auto",
         "type": "bar",
         "x": [
          "steel"
         ],
         "xaxis": "x",
         "y": [
          70
         ],
         "yaxis": "y"
        },
        {
         "alignmentgroup": "True",
         "hovertemplate": "<b>%{hovertext}</b><br><br>Type=%{x}<br>HP=%{y}<extra></extra>",
         "hovertext": [
          "water"
         ],
         "legendgroup": "water",
         "marker": {
          "color": "#6390F0",
          "pattern": {
           "shape": ""
          }
         },
         "name": "water",
         "offsetgroup": "water",
         "orientation": "v",
         "showlegend": true,
         "textposition": "auto",
         "type": "bar",
         "x": [
          "water"
         ],
         "xaxis": "x",
         "y": [
          69.83
         ],
         "yaxis": "y"
        },
        {
         "alignmentgroup": "True",
         "hovertemplate": "<b>%{hovertext}</b><br><br>Type=%{x}<br>HP=%{y}<extra></extra>",
         "hovertext": [
          "dark"
         ],
         "legendgroup": "dark",
         "marker": {
          "color": "#705746",
          "pattern": {
           "shape": ""
          }
         },
         "name": "dark",
         "offsetgroup": "dark",
         "orientation": "v",
         "showlegend": true,
         "textposition": "auto",
         "type": "bar",
         "x": [
          "dark"
         ],
         "xaxis": "x",
         "y": [
          66
         ],
         "yaxis": "y"
        }
       ],
       "layout": {
        "barmode": "relative",
        "legend": {
         "title": {
          "text": "Type"
         },
         "tracegroupgap": 0
        },
        "margin": {
         "t": 60
        },
        "showlegend": false,
        "template": {
         "data": {
          "bar": [
           {
            "error_x": {
             "color": "#2a3f5f"
            },
            "error_y": {
             "color": "#2a3f5f"
            },
            "marker": {
             "line": {
              "color": "#E5ECF6",
              "width": 0.5
             },
             "pattern": {
              "fillmode": "overlay",
              "size": 10,
              "solidity": 0.2
             }
            },
            "type": "bar"
           }
          ],
          "barpolar": [
           {
            "marker": {
             "line": {
              "color": "#E5ECF6",
              "width": 0.5
             },
             "pattern": {
              "fillmode": "overlay",
              "size": 10,
              "solidity": 0.2
             }
            },
            "type": "barpolar"
           }
          ],
          "carpet": [
           {
            "aaxis": {
             "endlinecolor": "#2a3f5f",
             "gridcolor": "white",
             "linecolor": "white",
             "minorgridcolor": "white",
             "startlinecolor": "#2a3f5f"
            },
            "baxis": {
             "endlinecolor": "#2a3f5f",
             "gridcolor": "white",
             "linecolor": "white",
             "minorgridcolor": "white",
             "startlinecolor": "#2a3f5f"
            },
            "type": "carpet"
           }
          ],
          "choropleth": [
           {
            "colorbar": {
             "outlinewidth": 0,
             "ticks": ""
            },
            "type": "choropleth"
           }
          ],
          "contour": [
           {
            "colorbar": {
             "outlinewidth": 0,
             "ticks": ""
            },
            "colorscale": [
             [
              0,
              "#0d0887"
             ],
             [
              0.1111111111111111,
              "#46039f"
             ],
             [
              0.2222222222222222,
              "#7201a8"
             ],
             [
              0.3333333333333333,
              "#9c179e"
             ],
             [
              0.4444444444444444,
              "#bd3786"
             ],
             [
              0.5555555555555556,
              "#d8576b"
             ],
             [
              0.6666666666666666,
              "#ed7953"
             ],
             [
              0.7777777777777778,
              "#fb9f3a"
             ],
             [
              0.8888888888888888,
              "#fdca26"
             ],
             [
              1,
              "#f0f921"
             ]
            ],
            "type": "contour"
           }
          ],
          "contourcarpet": [
           {
            "colorbar": {
             "outlinewidth": 0,
             "ticks": ""
            },
            "type": "contourcarpet"
           }
          ],
          "heatmap": [
           {
            "colorbar": {
             "outlinewidth": 0,
             "ticks": ""
            },
            "colorscale": [
             [
              0,
              "#0d0887"
             ],
             [
              0.1111111111111111,
              "#46039f"
             ],
             [
              0.2222222222222222,
              "#7201a8"
             ],
             [
              0.3333333333333333,
              "#9c179e"
             ],
             [
              0.4444444444444444,
              "#bd3786"
             ],
             [
              0.5555555555555556,
              "#d8576b"
             ],
             [
              0.6666666666666666,
              "#ed7953"
             ],
             [
              0.7777777777777778,
              "#fb9f3a"
             ],
             [
              0.8888888888888888,
              "#fdca26"
             ],
             [
              1,
              "#f0f921"
             ]
            ],
            "type": "heatmap"
           }
          ],
          "heatmapgl": [
           {
            "colorbar": {
             "outlinewidth": 0,
             "ticks": ""
            },
            "colorscale": [
             [
              0,
              "#0d0887"
             ],
             [
              0.1111111111111111,
              "#46039f"
             ],
             [
              0.2222222222222222,
              "#7201a8"
             ],
             [
              0.3333333333333333,
              "#9c179e"
             ],
             [
              0.4444444444444444,
              "#bd3786"
             ],
             [
              0.5555555555555556,
              "#d8576b"
             ],
             [
              0.6666666666666666,
              "#ed7953"
             ],
             [
              0.7777777777777778,
              "#fb9f3a"
             ],
             [
              0.8888888888888888,
              "#fdca26"
             ],
             [
              1,
              "#f0f921"
             ]
            ],
            "type": "heatmapgl"
           }
          ],
          "histogram": [
           {
            "marker": {
             "pattern": {
              "fillmode": "overlay",
              "size": 10,
              "solidity": 0.2
             }
            },
            "type": "histogram"
           }
          ],
          "histogram2d": [
           {
            "colorbar": {
             "outlinewidth": 0,
             "ticks": ""
            },
            "colorscale": [
             [
              0,
              "#0d0887"
             ],
             [
              0.1111111111111111,
              "#46039f"
             ],
             [
              0.2222222222222222,
              "#7201a8"
             ],
             [
              0.3333333333333333,
              "#9c179e"
             ],
             [
              0.4444444444444444,
              "#bd3786"
             ],
             [
              0.5555555555555556,
              "#d8576b"
             ],
             [
              0.6666666666666666,
              "#ed7953"
             ],
             [
              0.7777777777777778,
              "#fb9f3a"
             ],
             [
              0.8888888888888888,
              "#fdca26"
             ],
             [
              1,
              "#f0f921"
             ]
            ],
            "type": "histogram2d"
           }
          ],
          "histogram2dcontour": [
           {
            "colorbar": {
             "outlinewidth": 0,
             "ticks": ""
            },
            "colorscale": [
             [
              0,
              "#0d0887"
             ],
             [
              0.1111111111111111,
              "#46039f"
             ],
             [
              0.2222222222222222,
              "#7201a8"
             ],
             [
              0.3333333333333333,
              "#9c179e"
             ],
             [
              0.4444444444444444,
              "#bd3786"
             ],
             [
              0.5555555555555556,
              "#d8576b"
             ],
             [
              0.6666666666666666,
              "#ed7953"
             ],
             [
              0.7777777777777778,
              "#fb9f3a"
             ],
             [
              0.8888888888888888,
              "#fdca26"
             ],
             [
              1,
              "#f0f921"
             ]
            ],
            "type": "histogram2dcontour"
           }
          ],
          "mesh3d": [
           {
            "colorbar": {
             "outlinewidth": 0,
             "ticks": ""
            },
            "type": "mesh3d"
           }
          ],
          "parcoords": [
           {
            "line": {
             "colorbar": {
              "outlinewidth": 0,
              "ticks": ""
             }
            },
            "type": "parcoords"
           }
          ],
          "pie": [
           {
            "automargin": true,
            "type": "pie"
           }
          ],
          "scatter": [
           {
            "marker": {
             "colorbar": {
              "outlinewidth": 0,
              "ticks": ""
             }
            },
            "type": "scatter"
           }
          ],
          "scatter3d": [
           {
            "line": {
             "colorbar": {
              "outlinewidth": 0,
              "ticks": ""
             }
            },
            "marker": {
             "colorbar": {
              "outlinewidth": 0,
              "ticks": ""
             }
            },
            "type": "scatter3d"
           }
          ],
          "scattercarpet": [
           {
            "marker": {
             "colorbar": {
              "outlinewidth": 0,
              "ticks": ""
             }
            },
            "type": "scattercarpet"
           }
          ],
          "scattergeo": [
           {
            "marker": {
             "colorbar": {
              "outlinewidth": 0,
              "ticks": ""
             }
            },
            "type": "scattergeo"
           }
          ],
          "scattergl": [
           {
            "marker": {
             "colorbar": {
              "outlinewidth": 0,
              "ticks": ""
             }
            },
            "type": "scattergl"
           }
          ],
          "scattermapbox": [
           {
            "marker": {
             "colorbar": {
              "outlinewidth": 0,
              "ticks": ""
             }
            },
            "type": "scattermapbox"
           }
          ],
          "scatterpolar": [
           {
            "marker": {
             "colorbar": {
              "outlinewidth": 0,
              "ticks": ""
             }
            },
            "type": "scatterpolar"
           }
          ],
          "scatterpolargl": [
           {
            "marker": {
             "colorbar": {
              "outlinewidth": 0,
              "ticks": ""
             }
            },
            "type": "scatterpolargl"
           }
          ],
          "scatterternary": [
           {
            "marker": {
             "colorbar": {
              "outlinewidth": 0,
              "ticks": ""
             }
            },
            "type": "scatterternary"
           }
          ],
          "surface": [
           {
            "colorbar": {
             "outlinewidth": 0,
             "ticks": ""
            },
            "colorscale": [
             [
              0,
              "#0d0887"
             ],
             [
              0.1111111111111111,
              "#46039f"
             ],
             [
              0.2222222222222222,
              "#7201a8"
             ],
             [
              0.3333333333333333,
              "#9c179e"
             ],
             [
              0.4444444444444444,
              "#bd3786"
             ],
             [
              0.5555555555555556,
              "#d8576b"
             ],
             [
              0.6666666666666666,
              "#ed7953"
             ],
             [
              0.7777777777777778,
              "#fb9f3a"
             ],
             [
              0.8888888888888888,
              "#fdca26"
             ],
             [
              1,
              "#f0f921"
             ]
            ],
            "type": "surface"
           }
          ],
          "table": [
           {
            "cells": {
             "fill": {
              "color": "#EBF0F8"
             },
             "line": {
              "color": "white"
             }
            },
            "header": {
             "fill": {
              "color": "#C8D4E3"
             },
             "line": {
              "color": "white"
             }
            },
            "type": "table"
           }
          ]
         },
         "layout": {
          "annotationdefaults": {
           "arrowcolor": "#2a3f5f",
           "arrowhead": 0,
           "arrowwidth": 1
          },
          "autotypenumbers": "strict",
          "coloraxis": {
           "colorbar": {
            "outlinewidth": 0,
            "ticks": ""
           }
          },
          "colorscale": {
           "diverging": [
            [
             0,
             "#8e0152"
            ],
            [
             0.1,
             "#c51b7d"
            ],
            [
             0.2,
             "#de77ae"
            ],
            [
             0.3,
             "#f1b6da"
            ],
            [
             0.4,
             "#fde0ef"
            ],
            [
             0.5,
             "#f7f7f7"
            ],
            [
             0.6,
             "#e6f5d0"
            ],
            [
             0.7,
             "#b8e186"
            ],
            [
             0.8,
             "#7fbc41"
            ],
            [
             0.9,
             "#4d9221"
            ],
            [
             1,
             "#276419"
            ]
           ],
           "sequential": [
            [
             0,
             "#0d0887"
            ],
            [
             0.1111111111111111,
             "#46039f"
            ],
            [
             0.2222222222222222,
             "#7201a8"
            ],
            [
             0.3333333333333333,
             "#9c179e"
            ],
            [
             0.4444444444444444,
             "#bd3786"
            ],
            [
             0.5555555555555556,
             "#d8576b"
            ],
            [
             0.6666666666666666,
             "#ed7953"
            ],
            [
             0.7777777777777778,
             "#fb9f3a"
            ],
            [
             0.8888888888888888,
             "#fdca26"
            ],
            [
             1,
             "#f0f921"
            ]
           ],
           "sequentialminus": [
            [
             0,
             "#0d0887"
            ],
            [
             0.1111111111111111,
             "#46039f"
            ],
            [
             0.2222222222222222,
             "#7201a8"
            ],
            [
             0.3333333333333333,
             "#9c179e"
            ],
            [
             0.4444444444444444,
             "#bd3786"
            ],
            [
             0.5555555555555556,
             "#d8576b"
            ],
            [
             0.6666666666666666,
             "#ed7953"
            ],
            [
             0.7777777777777778,
             "#fb9f3a"
            ],
            [
             0.8888888888888888,
             "#fdca26"
            ],
            [
             1,
             "#f0f921"
            ]
           ]
          },
          "colorway": [
           "#636efa",
           "#EF553B",
           "#00cc96",
           "#ab63fa",
           "#FFA15A",
           "#19d3f3",
           "#FF6692",
           "#B6E880",
           "#FF97FF",
           "#FECB52"
          ],
          "font": {
           "color": "#2a3f5f"
          },
          "geo": {
           "bgcolor": "white",
           "lakecolor": "white",
           "landcolor": "#E5ECF6",
           "showlakes": true,
           "showland": true,
           "subunitcolor": "white"
          },
          "hoverlabel": {
           "align": "left"
          },
          "hovermode": "closest",
          "mapbox": {
           "style": "light"
          },
          "paper_bgcolor": "white",
          "plot_bgcolor": "#E5ECF6",
          "polar": {
           "angularaxis": {
            "gridcolor": "white",
            "linecolor": "white",
            "ticks": ""
           },
           "bgcolor": "#E5ECF6",
           "radialaxis": {
            "gridcolor": "white",
            "linecolor": "white",
            "ticks": ""
           }
          },
          "scene": {
           "xaxis": {
            "backgroundcolor": "#E5ECF6",
            "gridcolor": "white",
            "gridwidth": 2,
            "linecolor": "white",
            "showbackground": true,
            "ticks": "",
            "zerolinecolor": "white"
           },
           "yaxis": {
            "backgroundcolor": "#E5ECF6",
            "gridcolor": "white",
            "gridwidth": 2,
            "linecolor": "white",
            "showbackground": true,
            "ticks": "",
            "zerolinecolor": "white"
           },
           "zaxis": {
            "backgroundcolor": "#E5ECF6",
            "gridcolor": "white",
            "gridwidth": 2,
            "linecolor": "white",
            "showbackground": true,
            "ticks": "",
            "zerolinecolor": "white"
           }
          },
          "shapedefaults": {
           "line": {
            "color": "#2a3f5f"
           }
          },
          "ternary": {
           "aaxis": {
            "gridcolor": "white",
            "linecolor": "white",
            "ticks": ""
           },
           "baxis": {
            "gridcolor": "white",
            "linecolor": "white",
            "ticks": ""
           },
           "bgcolor": "#E5ECF6",
           "caxis": {
            "gridcolor": "white",
            "linecolor": "white",
            "ticks": ""
           }
          },
          "title": {
           "x": 0.05
          },
          "xaxis": {
           "automargin": true,
           "gridcolor": "white",
           "linecolor": "white",
           "ticks": "",
           "title": {
            "standoff": 15
           },
           "zerolinecolor": "white",
           "zerolinewidth": 2
          },
          "yaxis": {
           "automargin": true,
           "gridcolor": "white",
           "linecolor": "white",
           "ticks": "",
           "title": {
            "standoff": 15
           },
           "zerolinecolor": "white",
           "zerolinewidth": 2
          }
         }
        },
        "title": {
         "text": "Mean HP by Pokemon Type",
         "x": 0.5,
         "xanchor": "center",
         "y": 0.923,
         "yanchor": "top"
        },
        "xaxis": {
         "anchor": "y",
         "categoryarray": [
          "normal",
          "psychic",
          "steel",
          "water",
          "dark"
         ],
         "categoryorder": "array",
         "domain": [
          0,
          1
         ],
         "title": {
          "text": "Type"
         }
        },
        "yaxis": {
         "anchor": "x",
         "domain": [
          0,
          1
         ],
         "title": {
          "text": "HP"
         }
        }
       }
      }
     },
     "metadata": {},
     "output_type": "display_data"
    }
   ],
   "source": [
    "# Bar chart Showing Mean HP by Pokemon Type\n",
    "\n",
    "HP_Means = round(Pokemon_DF.groupby(by = 'Type').mean().reset_index()[['Type','HP']],2)\n",
    "\n",
    "HPBar = px.bar(\n",
    "    HP_Means.sort_values(by = 'HP',ascending = False)[0:5],\n",
    "    x = 'Type',\n",
    "    y = 'HP',\n",
    "    color='Type',\n",
    "    hover_name = 'Type',\n",
    "    color_discrete_map = colours_dict\n",
    ")\n",
    "HPBar.update_layout(\n",
    "    showlegend=False,\n",
    "    title={\n",
    "    'text': 'Mean HP by Pokemon Type',\n",
    "    'y':.923,\n",
    "    'x':0.5,\n",
    "    'xanchor': 'center',\n",
    "    'yanchor': 'top'}\n",
    ")\n",
    "\n",
    "HPBar.show()"
   ]
  },
  {
   "cell_type": "code",
   "execution_count": 42,
   "metadata": {},
   "outputs": [
    {
     "data": {
      "application/vnd.plotly.v1+json": {
       "config": {
        "plotlyServerURL": "https://plot.ly"
       },
       "data": [
        {
         "hovertemplate": "<b>%{hovertext}</b><br><br>Experience=%{x}<br>HP=%{y}<extra></extra>",
         "hovertext": [
          "bulbasaur",
          "ivysaur",
          "venusaur",
          "charmander",
          "charmeleon",
          "charizard",
          "squirtle",
          "wartortle",
          "blastoise",
          "caterpie",
          "metapod",
          "butterfree",
          "weedle",
          "kakuna",
          "beedrill",
          "pidgey",
          "pidgeotto",
          "pidgeot",
          "rattata",
          "raticate",
          "spearow",
          "fearow",
          "ekans",
          "arbok",
          "pikachu",
          "raichu",
          "sandshrew",
          "sandslash",
          "nidoran-f",
          "nidorina",
          "nidoqueen",
          "nidoran-m",
          "nidorino",
          "nidoking",
          "clefairy",
          "clefable",
          "vulpix",
          "ninetales",
          "jigglypuff",
          "wigglytuff",
          "zubat",
          "golbat",
          "oddish",
          "gloom",
          "vileplume",
          "paras",
          "parasect",
          "venonat",
          "venomoth",
          "diglett",
          "dugtrio",
          "meowth",
          "persian",
          "psyduck",
          "golduck",
          "mankey",
          "primeape",
          "growlithe",
          "arcanine",
          "poliwag",
          "poliwhirl",
          "poliwrath",
          "abra",
          "kadabra",
          "alakazam",
          "machop",
          "machoke",
          "machamp",
          "bellsprout",
          "weepinbell",
          "victreebel",
          "tentacool",
          "tentacruel",
          "geodude",
          "graveler",
          "golem",
          "ponyta",
          "rapidash",
          "slowpoke",
          "slowbro",
          "magnemite",
          "magneton",
          "farfetchd",
          "doduo",
          "dodrio",
          "seel",
          "dewgong",
          "grimer",
          "muk",
          "shellder",
          "cloyster",
          "gastly",
          "haunter",
          "gengar",
          "onix",
          "drowzee",
          "hypno",
          "krabby",
          "kingler",
          "voltorb",
          "electrode",
          "exeggcute",
          "exeggutor",
          "cubone",
          "marowak",
          "hitmonlee",
          "hitmonchan",
          "lickitung",
          "koffing",
          "weezing",
          "rhyhorn",
          "rhydon",
          "chansey",
          "tangela",
          "kangaskhan",
          "horsea",
          "seadra",
          "goldeen",
          "seaking",
          "staryu",
          "starmie",
          "mr-mime",
          "scyther",
          "jynx",
          "electabuzz",
          "magmar",
          "pinsir",
          "tauros",
          "magikarp",
          "gyarados",
          "lapras",
          "ditto",
          "eevee",
          "vaporeon",
          "jolteon",
          "flareon",
          "porygon",
          "omanyte",
          "omastar",
          "kabuto",
          "kabutops",
          "aerodactyl",
          "snorlax",
          "articuno",
          "zapdos",
          "moltres",
          "dratini",
          "dragonair",
          "dragonite",
          "mewtwo",
          "mew",
          "chikorita",
          "bayleef",
          "meganium",
          "cyndaquil",
          "quilava",
          "typhlosion",
          "totodile",
          "croconaw",
          "feraligatr",
          "sentret",
          "furret",
          "hoothoot",
          "noctowl",
          "ledyba",
          "ledian",
          "spinarak",
          "ariados",
          "crobat",
          "chinchou",
          "lanturn",
          "pichu",
          "cleffa",
          "igglybuff",
          "togepi",
          "togetic",
          "natu",
          "xatu",
          "mareep",
          "flaaffy",
          "ampharos",
          "bellossom",
          "marill",
          "azumarill",
          "sudowoodo",
          "politoed",
          "hoppip",
          "skiploom",
          "jumpluff",
          "aipom",
          "sunkern",
          "sunflora",
          "yanma",
          "wooper",
          "quagsire",
          "espeon",
          "umbreon",
          "murkrow",
          "slowking",
          "misdreavus",
          "unown",
          "wobbuffet",
          "girafarig",
          "pineco",
          "forretress",
          "dunsparce",
          "gligar",
          "steelix",
          "snubbull",
          "granbull",
          "qwilfish",
          "scizor",
          "shuckle",
          "heracross",
          "sneasel",
          "teddiursa",
          "ursaring",
          "slugma",
          "magcargo",
          "swinub",
          "piloswine",
          "corsola",
          "remoraid",
          "octillery",
          "delibird",
          "mantine",
          "skarmory",
          "houndour",
          "houndoom",
          "kingdra",
          "phanpy",
          "donphan",
          "porygon2",
          "stantler",
          "smeargle",
          "tyrogue",
          "hitmontop",
          "smoochum",
          "elekid",
          "magby",
          "miltank",
          "blissey",
          "raikou",
          "entei",
          "suicune",
          "larvitar",
          "pupitar",
          "tyranitar",
          "lugia",
          "ho-oh",
          "celebi"
         ],
         "legendgroup": "",
         "marker": {
          "color": "#636efa",
          "symbol": "circle"
         },
         "mode": "markers",
         "name": "",
         "orientation": "v",
         "showlegend": false,
         "type": "scatter",
         "x": [
          64,
          142,
          263,
          62,
          142,
          267,
          63,
          142,
          265,
          39,
          72,
          198,
          39,
          72,
          178,
          50,
          122,
          216,
          51,
          145,
          52,
          155,
          58,
          157,
          112,
          243,
          60,
          158,
          55,
          128,
          253,
          55,
          128,
          253,
          113,
          242,
          60,
          177,
          95,
          218,
          49,
          159,
          64,
          138,
          245,
          57,
          142,
          61,
          158,
          53,
          149,
          58,
          154,
          64,
          175,
          61,
          159,
          70,
          194,
          60,
          135,
          255,
          62,
          140,
          250,
          61,
          142,
          253,
          60,
          137,
          221,
          67,
          180,
          60,
          137,
          223,
          82,
          175,
          63,
          172,
          65,
          163,
          132,
          62,
          165,
          65,
          166,
          65,
          175,
          61,
          184,
          62,
          142,
          250,
          77,
          66,
          169,
          65,
          166,
          66,
          172,
          65,
          186,
          64,
          149,
          159,
          159,
          77,
          68,
          172,
          69,
          170,
          395,
          87,
          172,
          59,
          154,
          64,
          158,
          68,
          182,
          161,
          100,
          159,
          172,
          173,
          175,
          172,
          40,
          189,
          187,
          101,
          65,
          184,
          184,
          184,
          79,
          71,
          173,
          71,
          173,
          180,
          189,
          290,
          290,
          290,
          60,
          147,
          300,
          340,
          300,
          64,
          142,
          236,
          62,
          142,
          240,
          63,
          142,
          239,
          43,
          145,
          52,
          158,
          53,
          137,
          50,
          140,
          268,
          66,
          161,
          41,
          44,
          42,
          49,
          142,
          64,
          165,
          56,
          128,
          230,
          245,
          88,
          210,
          144,
          250,
          50,
          119,
          207,
          72,
          36,
          149,
          78,
          42,
          151,
          184,
          184,
          81,
          172,
          87,
          118,
          142,
          159,
          58,
          163,
          145,
          86,
          179,
          60,
          158,
          88,
          175,
          177,
          175,
          86,
          66,
          175,
          50,
          151,
          50,
          158,
          144,
          60,
          168,
          116,
          170,
          163,
          66,
          175,
          270,
          66,
          175,
          180,
          163,
          88,
          42,
          159,
          61,
          72,
          73,
          172,
          635,
          290,
          290,
          290,
          60,
          144,
          300,
          340,
          340,
          300
         ],
         "xaxis": "x",
         "y": [
          45,
          60,
          80,
          39,
          58,
          78,
          44,
          59,
          79,
          45,
          50,
          60,
          40,
          45,
          65,
          40,
          63,
          83,
          30,
          55,
          40,
          65,
          35,
          60,
          35,
          60,
          50,
          75,
          55,
          70,
          90,
          46,
          61,
          81,
          70,
          95,
          38,
          73,
          115,
          140,
          40,
          75,
          45,
          60,
          75,
          35,
          60,
          60,
          70,
          10,
          35,
          40,
          65,
          50,
          80,
          40,
          65,
          55,
          90,
          40,
          65,
          90,
          25,
          40,
          55,
          70,
          80,
          90,
          50,
          65,
          80,
          40,
          80,
          40,
          55,
          80,
          50,
          65,
          90,
          95,
          25,
          50,
          52,
          35,
          60,
          65,
          90,
          80,
          105,
          30,
          50,
          30,
          45,
          60,
          35,
          60,
          85,
          30,
          55,
          40,
          60,
          60,
          95,
          50,
          60,
          50,
          50,
          90,
          40,
          65,
          80,
          105,
          250,
          65,
          105,
          30,
          55,
          45,
          80,
          30,
          60,
          40,
          70,
          65,
          65,
          65,
          65,
          75,
          20,
          95,
          130,
          48,
          55,
          130,
          65,
          65,
          65,
          35,
          70,
          30,
          60,
          80,
          160,
          90,
          90,
          90,
          41,
          61,
          91,
          106,
          100,
          45,
          60,
          80,
          39,
          58,
          78,
          50,
          65,
          85,
          35,
          85,
          60,
          100,
          40,
          55,
          40,
          70,
          85,
          75,
          125,
          20,
          50,
          90,
          35,
          55,
          40,
          65,
          55,
          70,
          90,
          75,
          70,
          100,
          70,
          90,
          35,
          55,
          75,
          55,
          30,
          75,
          65,
          55,
          95,
          65,
          95,
          60,
          95,
          60,
          48,
          190,
          70,
          50,
          75,
          100,
          65,
          75,
          60,
          90,
          65,
          70,
          20,
          80,
          55,
          60,
          90,
          40,
          60,
          50,
          100,
          65,
          35,
          75,
          45,
          85,
          65,
          45,
          75,
          75,
          90,
          90,
          85,
          73,
          55,
          35,
          50,
          45,
          45,
          45,
          95,
          255,
          90,
          115,
          100,
          50,
          70,
          100,
          106,
          106,
          100
         ],
         "yaxis": "y"
        },
        {
         "hovertemplate": "<b>OLS trendline</b><br>HP = 0.261266 * Experience + 30.2405<br>R<sup>2</sup>=0.501212<br><br>Experience=%{x}<br>HP=%{y} <b>(trend)</b><extra></extra>",
         "legendgroup": "",
         "marker": {
          "color": "#636efa",
          "symbol": "circle"
         },
         "mode": "lines",
         "name": "",
         "showlegend": false,
         "type": "scatter",
         "x": [
          36,
          39,
          39,
          40,
          41,
          42,
          42,
          42,
          43,
          44,
          49,
          49,
          50,
          50,
          50,
          50,
          50,
          51,
          52,
          52,
          53,
          53,
          55,
          55,
          56,
          57,
          58,
          58,
          58,
          59,
          60,
          60,
          60,
          60,
          60,
          60,
          60,
          60,
          60,
          61,
          61,
          61,
          61,
          61,
          62,
          62,
          62,
          62,
          62,
          63,
          63,
          63,
          64,
          64,
          64,
          64,
          64,
          64,
          64,
          65,
          65,
          65,
          65,
          65,
          65,
          66,
          66,
          66,
          66,
          66,
          66,
          67,
          68,
          68,
          69,
          70,
          71,
          71,
          72,
          72,
          72,
          72,
          73,
          77,
          77,
          78,
          79,
          81,
          82,
          86,
          86,
          87,
          87,
          88,
          88,
          88,
          95,
          100,
          101,
          112,
          113,
          116,
          118,
          119,
          122,
          128,
          128,
          128,
          132,
          135,
          137,
          137,
          137,
          138,
          140,
          140,
          142,
          142,
          142,
          142,
          142,
          142,
          142,
          142,
          142,
          142,
          142,
          144,
          144,
          144,
          145,
          145,
          145,
          147,
          149,
          149,
          149,
          151,
          151,
          154,
          154,
          155,
          157,
          158,
          158,
          158,
          158,
          158,
          158,
          159,
          159,
          159,
          159,
          159,
          159,
          159,
          161,
          161,
          163,
          163,
          163,
          163,
          165,
          165,
          166,
          166,
          168,
          169,
          170,
          170,
          172,
          172,
          172,
          172,
          172,
          172,
          172,
          172,
          173,
          173,
          173,
          175,
          175,
          175,
          175,
          175,
          175,
          175,
          175,
          175,
          177,
          177,
          178,
          179,
          180,
          180,
          180,
          182,
          184,
          184,
          184,
          184,
          184,
          184,
          186,
          187,
          189,
          189,
          194,
          198,
          207,
          210,
          216,
          218,
          221,
          223,
          230,
          236,
          239,
          240,
          242,
          243,
          245,
          245,
          250,
          250,
          250,
          253,
          253,
          253,
          255,
          263,
          265,
          267,
          268,
          270,
          290,
          290,
          290,
          290,
          290,
          290,
          300,
          300,
          300,
          300,
          340,
          340,
          340,
          395,
          635
         ],
         "xaxis": "x",
         "y": [
          39.646098457746554,
          40.42989777282871,
          40.42989777282871,
          40.69116421118943,
          40.95243064955015,
          41.21369708791087,
          41.21369708791087,
          41.21369708791087,
          41.474963526271594,
          41.736229964632315,
          43.042562156435906,
          43.042562156435906,
          43.30382859479663,
          43.30382859479663,
          43.30382859479663,
          43.30382859479663,
          43.30382859479663,
          43.56509503315735,
          43.82636147151807,
          43.82636147151807,
          44.08762790987879,
          44.08762790987879,
          44.610160786600225,
          44.610160786600225,
          44.87142722496095,
          45.13269366332167,
          45.39396010168239,
          45.39396010168239,
          45.39396010168239,
          45.6552265400431,
          45.916492978403824,
          45.916492978403824,
          45.916492978403824,
          45.916492978403824,
          45.916492978403824,
          45.916492978403824,
          45.916492978403824,
          45.916492978403824,
          45.916492978403824,
          46.177759416764545,
          46.177759416764545,
          46.177759416764545,
          46.177759416764545,
          46.177759416764545,
          46.439025855125266,
          46.439025855125266,
          46.439025855125266,
          46.439025855125266,
          46.439025855125266,
          46.70029229348599,
          46.70029229348599,
          46.70029229348599,
          46.96155873184671,
          46.96155873184671,
          46.96155873184671,
          46.96155873184671,
          46.96155873184671,
          46.96155873184671,
          46.96155873184671,
          47.22282517020743,
          47.22282517020743,
          47.22282517020743,
          47.22282517020743,
          47.22282517020743,
          47.22282517020743,
          47.48409160856814,
          47.48409160856814,
          47.48409160856814,
          47.48409160856814,
          47.48409160856814,
          47.48409160856814,
          47.745358046928864,
          48.00662448528958,
          48.00662448528958,
          48.2678909236503,
          48.52915736201102,
          48.79042380037174,
          48.79042380037174,
          49.05169023873246,
          49.05169023873246,
          49.05169023873246,
          49.05169023873246,
          49.31295667709318,
          50.35802243053606,
          50.35802243053606,
          50.61928886889678,
          50.880555307257495,
          51.40308818397894,
          51.66435462233966,
          52.709420375782535,
          52.709420375782535,
          52.97068681414326,
          52.97068681414326,
          53.23195325250398,
          53.23195325250398,
          53.23195325250398,
          55.06081832102902,
          56.36715051283261,
          56.62841695119333,
          59.50234777316125,
          59.76361421152197,
          60.54741352660413,
          61.06994640332557,
          61.33121284168629,
          62.115012156768444,
          63.68261078693276,
          63.68261078693276,
          63.68261078693276,
          64.72767654037564,
          65.5114758554578,
          66.03400873217925,
          66.03400873217925,
          66.03400873217925,
          66.29527517053995,
          66.8178080472614,
          66.8178080472614,
          67.34034092398284,
          67.34034092398284,
          67.34034092398284,
          67.34034092398284,
          67.34034092398284,
          67.34034092398284,
          67.34034092398284,
          67.34034092398284,
          67.34034092398284,
          67.34034092398284,
          67.34034092398284,
          67.86287380070428,
          67.86287380070428,
          67.86287380070428,
          68.124140239065,
          68.124140239065,
          68.124140239065,
          68.64667311578643,
          69.16920599250787,
          69.16920599250787,
          69.16920599250787,
          69.69173886922931,
          69.69173886922931,
          70.47553818431147,
          70.47553818431147,
          70.7368046226722,
          71.25933749939364,
          71.52060393775434,
          71.52060393775434,
          71.52060393775434,
          71.52060393775434,
          71.52060393775434,
          71.52060393775434,
          71.78187037611508,
          71.78187037611508,
          71.78187037611508,
          71.78187037611508,
          71.78187037611508,
          71.78187037611508,
          71.78187037611508,
          72.30440325283652,
          72.30440325283652,
          72.82693612955795,
          72.82693612955795,
          72.82693612955795,
          72.82693612955795,
          73.34946900627939,
          73.34946900627939,
          73.61073544464011,
          73.61073544464011,
          74.13326832136156,
          74.39453475972226,
          74.655801198083,
          74.655801198083,
          75.17833407480443,
          75.17833407480443,
          75.17833407480443,
          75.17833407480443,
          75.17833407480443,
          75.17833407480443,
          75.17833407480443,
          75.17833407480443,
          75.43960051316515,
          75.43960051316515,
          75.43960051316515,
          75.96213338988659,
          75.96213338988659,
          75.96213338988659,
          75.96213338988659,
          75.96213338988659,
          75.96213338988659,
          75.96213338988659,
          75.96213338988659,
          75.96213338988659,
          76.48466626660803,
          76.48466626660803,
          76.74593270496874,
          77.00719914332947,
          77.26846558169018,
          77.26846558169018,
          77.26846558169018,
          77.79099845841162,
          78.31353133513306,
          78.31353133513306,
          78.31353133513306,
          78.31353133513306,
          78.31353133513306,
          78.31353133513306,
          78.8360642118545,
          79.09733065021521,
          79.61986352693665,
          79.61986352693665,
          80.92619571874026,
          81.97126147218313,
          84.32265941742962,
          85.10645873251178,
          86.6740573626761,
          87.19659023939752,
          87.9803895544797,
          88.50292243120113,
          90.33178749972618,
          91.89938612989049,
          92.68318544497265,
          92.94445188333336,
          93.4669847600548,
          93.72825119841553,
          94.25078407513696,
          94.25078407513696,
          95.55711626694057,
          95.55711626694057,
          95.55711626694057,
          96.34091558202272,
          96.34091558202272,
          96.34091558202272,
          96.86344845874416,
          98.95357996562991,
          99.47611284235136,
          99.9986457190728,
          100.25991215743352,
          100.78244503415496,
          106.00777380136935,
          106.00777380136935,
          106.00777380136935,
          106.00777380136935,
          106.00777380136935,
          106.00777380136935,
          108.62043818497655,
          108.62043818497655,
          108.62043818497655,
          108.62043818497655,
          119.07109571940533,
          119.07109571940533,
          119.07109571940533,
          133.4407498292449,
          196.14469503581762
         ],
         "yaxis": "y"
        }
       ],
       "layout": {
        "legend": {
         "tracegroupgap": 0
        },
        "margin": {
         "t": 60
        },
        "template": {
         "data": {
          "bar": [
           {
            "error_x": {
             "color": "#2a3f5f"
            },
            "error_y": {
             "color": "#2a3f5f"
            },
            "marker": {
             "line": {
              "color": "#E5ECF6",
              "width": 0.5
             },
             "pattern": {
              "fillmode": "overlay",
              "size": 10,
              "solidity": 0.2
             }
            },
            "type": "bar"
           }
          ],
          "barpolar": [
           {
            "marker": {
             "line": {
              "color": "#E5ECF6",
              "width": 0.5
             },
             "pattern": {
              "fillmode": "overlay",
              "size": 10,
              "solidity": 0.2
             }
            },
            "type": "barpolar"
           }
          ],
          "carpet": [
           {
            "aaxis": {
             "endlinecolor": "#2a3f5f",
             "gridcolor": "white",
             "linecolor": "white",
             "minorgridcolor": "white",
             "startlinecolor": "#2a3f5f"
            },
            "baxis": {
             "endlinecolor": "#2a3f5f",
             "gridcolor": "white",
             "linecolor": "white",
             "minorgridcolor": "white",
             "startlinecolor": "#2a3f5f"
            },
            "type": "carpet"
           }
          ],
          "choropleth": [
           {
            "colorbar": {
             "outlinewidth": 0,
             "ticks": ""
            },
            "type": "choropleth"
           }
          ],
          "contour": [
           {
            "colorbar": {
             "outlinewidth": 0,
             "ticks": ""
            },
            "colorscale": [
             [
              0,
              "#0d0887"
             ],
             [
              0.1111111111111111,
              "#46039f"
             ],
             [
              0.2222222222222222,
              "#7201a8"
             ],
             [
              0.3333333333333333,
              "#9c179e"
             ],
             [
              0.4444444444444444,
              "#bd3786"
             ],
             [
              0.5555555555555556,
              "#d8576b"
             ],
             [
              0.6666666666666666,
              "#ed7953"
             ],
             [
              0.7777777777777778,
              "#fb9f3a"
             ],
             [
              0.8888888888888888,
              "#fdca26"
             ],
             [
              1,
              "#f0f921"
             ]
            ],
            "type": "contour"
           }
          ],
          "contourcarpet": [
           {
            "colorbar": {
             "outlinewidth": 0,
             "ticks": ""
            },
            "type": "contourcarpet"
           }
          ],
          "heatmap": [
           {
            "colorbar": {
             "outlinewidth": 0,
             "ticks": ""
            },
            "colorscale": [
             [
              0,
              "#0d0887"
             ],
             [
              0.1111111111111111,
              "#46039f"
             ],
             [
              0.2222222222222222,
              "#7201a8"
             ],
             [
              0.3333333333333333,
              "#9c179e"
             ],
             [
              0.4444444444444444,
              "#bd3786"
             ],
             [
              0.5555555555555556,
              "#d8576b"
             ],
             [
              0.6666666666666666,
              "#ed7953"
             ],
             [
              0.7777777777777778,
              "#fb9f3a"
             ],
             [
              0.8888888888888888,
              "#fdca26"
             ],
             [
              1,
              "#f0f921"
             ]
            ],
            "type": "heatmap"
           }
          ],
          "heatmapgl": [
           {
            "colorbar": {
             "outlinewidth": 0,
             "ticks": ""
            },
            "colorscale": [
             [
              0,
              "#0d0887"
             ],
             [
              0.1111111111111111,
              "#46039f"
             ],
             [
              0.2222222222222222,
              "#7201a8"
             ],
             [
              0.3333333333333333,
              "#9c179e"
             ],
             [
              0.4444444444444444,
              "#bd3786"
             ],
             [
              0.5555555555555556,
              "#d8576b"
             ],
             [
              0.6666666666666666,
              "#ed7953"
             ],
             [
              0.7777777777777778,
              "#fb9f3a"
             ],
             [
              0.8888888888888888,
              "#fdca26"
             ],
             [
              1,
              "#f0f921"
             ]
            ],
            "type": "heatmapgl"
           }
          ],
          "histogram": [
           {
            "marker": {
             "pattern": {
              "fillmode": "overlay",
              "size": 10,
              "solidity": 0.2
             }
            },
            "type": "histogram"
           }
          ],
          "histogram2d": [
           {
            "colorbar": {
             "outlinewidth": 0,
             "ticks": ""
            },
            "colorscale": [
             [
              0,
              "#0d0887"
             ],
             [
              0.1111111111111111,
              "#46039f"
             ],
             [
              0.2222222222222222,
              "#7201a8"
             ],
             [
              0.3333333333333333,
              "#9c179e"
             ],
             [
              0.4444444444444444,
              "#bd3786"
             ],
             [
              0.5555555555555556,
              "#d8576b"
             ],
             [
              0.6666666666666666,
              "#ed7953"
             ],
             [
              0.7777777777777778,
              "#fb9f3a"
             ],
             [
              0.8888888888888888,
              "#fdca26"
             ],
             [
              1,
              "#f0f921"
             ]
            ],
            "type": "histogram2d"
           }
          ],
          "histogram2dcontour": [
           {
            "colorbar": {
             "outlinewidth": 0,
             "ticks": ""
            },
            "colorscale": [
             [
              0,
              "#0d0887"
             ],
             [
              0.1111111111111111,
              "#46039f"
             ],
             [
              0.2222222222222222,
              "#7201a8"
             ],
             [
              0.3333333333333333,
              "#9c179e"
             ],
             [
              0.4444444444444444,
              "#bd3786"
             ],
             [
              0.5555555555555556,
              "#d8576b"
             ],
             [
              0.6666666666666666,
              "#ed7953"
             ],
             [
              0.7777777777777778,
              "#fb9f3a"
             ],
             [
              0.8888888888888888,
              "#fdca26"
             ],
             [
              1,
              "#f0f921"
             ]
            ],
            "type": "histogram2dcontour"
           }
          ],
          "mesh3d": [
           {
            "colorbar": {
             "outlinewidth": 0,
             "ticks": ""
            },
            "type": "mesh3d"
           }
          ],
          "parcoords": [
           {
            "line": {
             "colorbar": {
              "outlinewidth": 0,
              "ticks": ""
             }
            },
            "type": "parcoords"
           }
          ],
          "pie": [
           {
            "automargin": true,
            "type": "pie"
           }
          ],
          "scatter": [
           {
            "marker": {
             "colorbar": {
              "outlinewidth": 0,
              "ticks": ""
             }
            },
            "type": "scatter"
           }
          ],
          "scatter3d": [
           {
            "line": {
             "colorbar": {
              "outlinewidth": 0,
              "ticks": ""
             }
            },
            "marker": {
             "colorbar": {
              "outlinewidth": 0,
              "ticks": ""
             }
            },
            "type": "scatter3d"
           }
          ],
          "scattercarpet": [
           {
            "marker": {
             "colorbar": {
              "outlinewidth": 0,
              "ticks": ""
             }
            },
            "type": "scattercarpet"
           }
          ],
          "scattergeo": [
           {
            "marker": {
             "colorbar": {
              "outlinewidth": 0,
              "ticks": ""
             }
            },
            "type": "scattergeo"
           }
          ],
          "scattergl": [
           {
            "marker": {
             "colorbar": {
              "outlinewidth": 0,
              "ticks": ""
             }
            },
            "type": "scattergl"
           }
          ],
          "scattermapbox": [
           {
            "marker": {
             "colorbar": {
              "outlinewidth": 0,
              "ticks": ""
             }
            },
            "type": "scattermapbox"
           }
          ],
          "scatterpolar": [
           {
            "marker": {
             "colorbar": {
              "outlinewidth": 0,
              "ticks": ""
             }
            },
            "type": "scatterpolar"
           }
          ],
          "scatterpolargl": [
           {
            "marker": {
             "colorbar": {
              "outlinewidth": 0,
              "ticks": ""
             }
            },
            "type": "scatterpolargl"
           }
          ],
          "scatterternary": [
           {
            "marker": {
             "colorbar": {
              "outlinewidth": 0,
              "ticks": ""
             }
            },
            "type": "scatterternary"
           }
          ],
          "surface": [
           {
            "colorbar": {
             "outlinewidth": 0,
             "ticks": ""
            },
            "colorscale": [
             [
              0,
              "#0d0887"
             ],
             [
              0.1111111111111111,
              "#46039f"
             ],
             [
              0.2222222222222222,
              "#7201a8"
             ],
             [
              0.3333333333333333,
              "#9c179e"
             ],
             [
              0.4444444444444444,
              "#bd3786"
             ],
             [
              0.5555555555555556,
              "#d8576b"
             ],
             [
              0.6666666666666666,
              "#ed7953"
             ],
             [
              0.7777777777777778,
              "#fb9f3a"
             ],
             [
              0.8888888888888888,
              "#fdca26"
             ],
             [
              1,
              "#f0f921"
             ]
            ],
            "type": "surface"
           }
          ],
          "table": [
           {
            "cells": {
             "fill": {
              "color": "#EBF0F8"
             },
             "line": {
              "color": "white"
             }
            },
            "header": {
             "fill": {
              "color": "#C8D4E3"
             },
             "line": {
              "color": "white"
             }
            },
            "type": "table"
           }
          ]
         },
         "layout": {
          "annotationdefaults": {
           "arrowcolor": "#2a3f5f",
           "arrowhead": 0,
           "arrowwidth": 1
          },
          "autotypenumbers": "strict",
          "coloraxis": {
           "colorbar": {
            "outlinewidth": 0,
            "ticks": ""
           }
          },
          "colorscale": {
           "diverging": [
            [
             0,
             "#8e0152"
            ],
            [
             0.1,
             "#c51b7d"
            ],
            [
             0.2,
             "#de77ae"
            ],
            [
             0.3,
             "#f1b6da"
            ],
            [
             0.4,
             "#fde0ef"
            ],
            [
             0.5,
             "#f7f7f7"
            ],
            [
             0.6,
             "#e6f5d0"
            ],
            [
             0.7,
             "#b8e186"
            ],
            [
             0.8,
             "#7fbc41"
            ],
            [
             0.9,
             "#4d9221"
            ],
            [
             1,
             "#276419"
            ]
           ],
           "sequential": [
            [
             0,
             "#0d0887"
            ],
            [
             0.1111111111111111,
             "#46039f"
            ],
            [
             0.2222222222222222,
             "#7201a8"
            ],
            [
             0.3333333333333333,
             "#9c179e"
            ],
            [
             0.4444444444444444,
             "#bd3786"
            ],
            [
             0.5555555555555556,
             "#d8576b"
            ],
            [
             0.6666666666666666,
             "#ed7953"
            ],
            [
             0.7777777777777778,
             "#fb9f3a"
            ],
            [
             0.8888888888888888,
             "#fdca26"
            ],
            [
             1,
             "#f0f921"
            ]
           ],
           "sequentialminus": [
            [
             0,
             "#0d0887"
            ],
            [
             0.1111111111111111,
             "#46039f"
            ],
            [
             0.2222222222222222,
             "#7201a8"
            ],
            [
             0.3333333333333333,
             "#9c179e"
            ],
            [
             0.4444444444444444,
             "#bd3786"
            ],
            [
             0.5555555555555556,
             "#d8576b"
            ],
            [
             0.6666666666666666,
             "#ed7953"
            ],
            [
             0.7777777777777778,
             "#fb9f3a"
            ],
            [
             0.8888888888888888,
             "#fdca26"
            ],
            [
             1,
             "#f0f921"
            ]
           ]
          },
          "colorway": [
           "#636efa",
           "#EF553B",
           "#00cc96",
           "#ab63fa",
           "#FFA15A",
           "#19d3f3",
           "#FF6692",
           "#B6E880",
           "#FF97FF",
           "#FECB52"
          ],
          "font": {
           "color": "#2a3f5f"
          },
          "geo": {
           "bgcolor": "white",
           "lakecolor": "white",
           "landcolor": "#E5ECF6",
           "showlakes": true,
           "showland": true,
           "subunitcolor": "white"
          },
          "hoverlabel": {
           "align": "left"
          },
          "hovermode": "closest",
          "mapbox": {
           "style": "light"
          },
          "paper_bgcolor": "white",
          "plot_bgcolor": "#E5ECF6",
          "polar": {
           "angularaxis": {
            "gridcolor": "white",
            "linecolor": "white",
            "ticks": ""
           },
           "bgcolor": "#E5ECF6",
           "radialaxis": {
            "gridcolor": "white",
            "linecolor": "white",
            "ticks": ""
           }
          },
          "scene": {
           "xaxis": {
            "backgroundcolor": "#E5ECF6",
            "gridcolor": "white",
            "gridwidth": 2,
            "linecolor": "white",
            "showbackground": true,
            "ticks": "",
            "zerolinecolor": "white"
           },
           "yaxis": {
            "backgroundcolor": "#E5ECF6",
            "gridcolor": "white",
            "gridwidth": 2,
            "linecolor": "white",
            "showbackground": true,
            "ticks": "",
            "zerolinecolor": "white"
           },
           "zaxis": {
            "backgroundcolor": "#E5ECF6",
            "gridcolor": "white",
            "gridwidth": 2,
            "linecolor": "white",
            "showbackground": true,
            "ticks": "",
            "zerolinecolor": "white"
           }
          },
          "shapedefaults": {
           "line": {
            "color": "#2a3f5f"
           }
          },
          "ternary": {
           "aaxis": {
            "gridcolor": "white",
            "linecolor": "white",
            "ticks": ""
           },
           "baxis": {
            "gridcolor": "white",
            "linecolor": "white",
            "ticks": ""
           },
           "bgcolor": "#E5ECF6",
           "caxis": {
            "gridcolor": "white",
            "linecolor": "white",
            "ticks": ""
           }
          },
          "title": {
           "x": 0.05
          },
          "xaxis": {
           "automargin": true,
           "gridcolor": "white",
           "linecolor": "white",
           "ticks": "",
           "title": {
            "standoff": 15
           },
           "zerolinecolor": "white",
           "zerolinewidth": 2
          },
          "yaxis": {
           "automargin": true,
           "gridcolor": "white",
           "linecolor": "white",
           "ticks": "",
           "title": {
            "standoff": 15
           },
           "zerolinecolor": "white",
           "zerolinewidth": 2
          }
         }
        },
        "xaxis": {
         "anchor": "y",
         "domain": [
          0,
          1
         ],
         "title": {
          "text": "Experience"
         }
        },
        "yaxis": {
         "anchor": "x",
         "domain": [
          0,
          1
         ],
         "title": {
          "text": "HP"
         }
        }
       }
      }
     },
     "metadata": {},
     "output_type": "display_data"
    }
   ],
   "source": [
    "\n",
    "scatter = px.scatter(\n",
    "    Pokemon_DF,\n",
    "    x = 'Experience',\n",
    "    y = 'HP',\n",
    "    trendline= \"ols\",\n",
    "    hover_name = 'Pokemon'\n",
    ")\n",
    "\n",
    "scatter.show()"
   ]
  },
  {
   "cell_type": "code",
   "execution_count": 40,
   "metadata": {},
   "outputs": [
    {
     "data": {
      "application/vnd.plotly.v1+json": {
       "config": {
        "plotlyServerURL": "https://plot.ly"
       },
       "data": [
        {
         "colorscale": [
          [
           0,
           "#440154"
          ],
          [
           0.1111111111111111,
           "#482878"
          ],
          [
           0.2222222222222222,
           "#3e4989"
          ],
          [
           0.3333333333333333,
           "#31688e"
          ],
          [
           0.4444444444444444,
           "#26828e"
          ],
          [
           0.5555555555555556,
           "#1f9e89"
          ],
          [
           0.6666666666666666,
           "#35b779"
          ],
          [
           0.7777777777777778,
           "#6ece58"
          ],
          [
           0.8888888888888888,
           "#b5de2b"
          ],
          [
           1,
           "#fde725"
          ]
         ],
         "hoverinfo": "z",
         "reversescale": false,
         "showscale": false,
         "type": "heatmap",
         "x": [
          "Weight",
          "Height",
          "Experience",
          "HP",
          "Speed",
          "Attack",
          "Defense"
         ],
         "y": [
          "Weight",
          "Height",
          "Experience",
          "HP",
          "Speed",
          "Attack",
          "Defense"
         ],
         "z": [
          [
           1,
           0.6910140223977408,
           0.44535099004865947,
           0.3944595106418806,
           0.11608641660244315,
           0.4574289459895164,
           0.474933337018347
          ],
          [
           0.6910140223977408,
           1,
           0.38150495465726425,
           0.27133904623415994,
           0.20064943034247917,
           0.33459695475708756,
           0.4397123360883375
          ],
          [
           0.44535099004865947,
           0.38150495465726425,
           1,
           0.7079636079843795,
           0.4015843792877956,
           0.43733895814282747,
           0.3642062229056235
          ],
          [
           0.3944595106418806,
           0.27133904623415994,
           0.7079636079843795,
           1,
           0.02572082392253359,
           0.24569990965098565,
           0.12255046831702018
          ],
          [
           0.11608641660244315,
           0.20064943034247917,
           0.4015843792877956,
           0.02572082392253359,
           1,
           0.27738008835618283,
           -0.032161459649959
          ],
          [
           0.4574289459895164,
           0.33459695475708756,
           0.43733895814282747,
           0.24569990965098565,
           0.27738008835618283,
           1,
           0.4431744801815855
          ],
          [
           0.474933337018347,
           0.4397123360883375,
           0.3642062229056235,
           0.12255046831702018,
           -0.032161459649959,
           0.4431744801815855,
           1
          ]
         ]
        }
       ],
       "layout": {
        "annotations": [
         {
          "font": {
           "color": "#000000"
          },
          "showarrow": false,
          "text": "1.0",
          "x": "Weight",
          "xref": "x",
          "y": "Weight",
          "yref": "y"
         },
         {
          "font": {
           "color": "#000000"
          },
          "showarrow": false,
          "text": "0.69",
          "x": "Height",
          "xref": "x",
          "y": "Weight",
          "yref": "y"
         },
         {
          "font": {
           "color": "#FFFFFF"
          },
          "showarrow": false,
          "text": "0.45",
          "x": "Experience",
          "xref": "x",
          "y": "Weight",
          "yref": "y"
         },
         {
          "font": {
           "color": "#FFFFFF"
          },
          "showarrow": false,
          "text": "0.39",
          "x": "HP",
          "xref": "x",
          "y": "Weight",
          "yref": "y"
         },
         {
          "font": {
           "color": "#FFFFFF"
          },
          "showarrow": false,
          "text": "0.12",
          "x": "Speed",
          "xref": "x",
          "y": "Weight",
          "yref": "y"
         },
         {
          "font": {
           "color": "#FFFFFF"
          },
          "showarrow": false,
          "text": "0.46",
          "x": "Attack",
          "xref": "x",
          "y": "Weight",
          "yref": "y"
         },
         {
          "font": {
           "color": "#FFFFFF"
          },
          "showarrow": false,
          "text": "0.47",
          "x": "Defense",
          "xref": "x",
          "y": "Weight",
          "yref": "y"
         },
         {
          "font": {
           "color": "#000000"
          },
          "showarrow": false,
          "text": "0.69",
          "x": "Weight",
          "xref": "x",
          "y": "Height",
          "yref": "y"
         },
         {
          "font": {
           "color": "#000000"
          },
          "showarrow": false,
          "text": "1.0",
          "x": "Height",
          "xref": "x",
          "y": "Height",
          "yref": "y"
         },
         {
          "font": {
           "color": "#FFFFFF"
          },
          "showarrow": false,
          "text": "0.38",
          "x": "Experience",
          "xref": "x",
          "y": "Height",
          "yref": "y"
         },
         {
          "font": {
           "color": "#FFFFFF"
          },
          "showarrow": false,
          "text": "0.27",
          "x": "HP",
          "xref": "x",
          "y": "Height",
          "yref": "y"
         },
         {
          "font": {
           "color": "#FFFFFF"
          },
          "showarrow": false,
          "text": "0.2",
          "x": "Speed",
          "xref": "x",
          "y": "Height",
          "yref": "y"
         },
         {
          "font": {
           "color": "#FFFFFF"
          },
          "showarrow": false,
          "text": "0.33",
          "x": "Attack",
          "xref": "x",
          "y": "Height",
          "yref": "y"
         },
         {
          "font": {
           "color": "#FFFFFF"
          },
          "showarrow": false,
          "text": "0.44",
          "x": "Defense",
          "xref": "x",
          "y": "Height",
          "yref": "y"
         },
         {
          "font": {
           "color": "#FFFFFF"
          },
          "showarrow": false,
          "text": "0.45",
          "x": "Weight",
          "xref": "x",
          "y": "Experience",
          "yref": "y"
         },
         {
          "font": {
           "color": "#FFFFFF"
          },
          "showarrow": false,
          "text": "0.38",
          "x": "Height",
          "xref": "x",
          "y": "Experience",
          "yref": "y"
         },
         {
          "font": {
           "color": "#000000"
          },
          "showarrow": false,
          "text": "1.0",
          "x": "Experience",
          "xref": "x",
          "y": "Experience",
          "yref": "y"
         },
         {
          "font": {
           "color": "#000000"
          },
          "showarrow": false,
          "text": "0.71",
          "x": "HP",
          "xref": "x",
          "y": "Experience",
          "yref": "y"
         },
         {
          "font": {
           "color": "#FFFFFF"
          },
          "showarrow": false,
          "text": "0.4",
          "x": "Speed",
          "xref": "x",
          "y": "Experience",
          "yref": "y"
         },
         {
          "font": {
           "color": "#FFFFFF"
          },
          "showarrow": false,
          "text": "0.44",
          "x": "Attack",
          "xref": "x",
          "y": "Experience",
          "yref": "y"
         },
         {
          "font": {
           "color": "#FFFFFF"
          },
          "showarrow": false,
          "text": "0.36",
          "x": "Defense",
          "xref": "x",
          "y": "Experience",
          "yref": "y"
         },
         {
          "font": {
           "color": "#FFFFFF"
          },
          "showarrow": false,
          "text": "0.39",
          "x": "Weight",
          "xref": "x",
          "y": "HP",
          "yref": "y"
         },
         {
          "font": {
           "color": "#FFFFFF"
          },
          "showarrow": false,
          "text": "0.27",
          "x": "Height",
          "xref": "x",
          "y": "HP",
          "yref": "y"
         },
         {
          "font": {
           "color": "#000000"
          },
          "showarrow": false,
          "text": "0.71",
          "x": "Experience",
          "xref": "x",
          "y": "HP",
          "yref": "y"
         },
         {
          "font": {
           "color": "#000000"
          },
          "showarrow": false,
          "text": "1.0",
          "x": "HP",
          "xref": "x",
          "y": "HP",
          "yref": "y"
         },
         {
          "font": {
           "color": "#FFFFFF"
          },
          "showarrow": false,
          "text": "0.03",
          "x": "Speed",
          "xref": "x",
          "y": "HP",
          "yref": "y"
         },
         {
          "font": {
           "color": "#FFFFFF"
          },
          "showarrow": false,
          "text": "0.25",
          "x": "Attack",
          "xref": "x",
          "y": "HP",
          "yref": "y"
         },
         {
          "font": {
           "color": "#FFFFFF"
          },
          "showarrow": false,
          "text": "0.12",
          "x": "Defense",
          "xref": "x",
          "y": "HP",
          "yref": "y"
         },
         {
          "font": {
           "color": "#FFFFFF"
          },
          "showarrow": false,
          "text": "0.12",
          "x": "Weight",
          "xref": "x",
          "y": "Speed",
          "yref": "y"
         },
         {
          "font": {
           "color": "#FFFFFF"
          },
          "showarrow": false,
          "text": "0.2",
          "x": "Height",
          "xref": "x",
          "y": "Speed",
          "yref": "y"
         },
         {
          "font": {
           "color": "#FFFFFF"
          },
          "showarrow": false,
          "text": "0.4",
          "x": "Experience",
          "xref": "x",
          "y": "Speed",
          "yref": "y"
         },
         {
          "font": {
           "color": "#FFFFFF"
          },
          "showarrow": false,
          "text": "0.03",
          "x": "HP",
          "xref": "x",
          "y": "Speed",
          "yref": "y"
         },
         {
          "font": {
           "color": "#000000"
          },
          "showarrow": false,
          "text": "1.0",
          "x": "Speed",
          "xref": "x",
          "y": "Speed",
          "yref": "y"
         },
         {
          "font": {
           "color": "#FFFFFF"
          },
          "showarrow": false,
          "text": "0.28",
          "x": "Attack",
          "xref": "x",
          "y": "Speed",
          "yref": "y"
         },
         {
          "font": {
           "color": "#FFFFFF"
          },
          "showarrow": false,
          "text": "-0.03",
          "x": "Defense",
          "xref": "x",
          "y": "Speed",
          "yref": "y"
         },
         {
          "font": {
           "color": "#FFFFFF"
          },
          "showarrow": false,
          "text": "0.46",
          "x": "Weight",
          "xref": "x",
          "y": "Attack",
          "yref": "y"
         },
         {
          "font": {
           "color": "#FFFFFF"
          },
          "showarrow": false,
          "text": "0.33",
          "x": "Height",
          "xref": "x",
          "y": "Attack",
          "yref": "y"
         },
         {
          "font": {
           "color": "#FFFFFF"
          },
          "showarrow": false,
          "text": "0.44",
          "x": "Experience",
          "xref": "x",
          "y": "Attack",
          "yref": "y"
         },
         {
          "font": {
           "color": "#FFFFFF"
          },
          "showarrow": false,
          "text": "0.25",
          "x": "HP",
          "xref": "x",
          "y": "Attack",
          "yref": "y"
         },
         {
          "font": {
           "color": "#FFFFFF"
          },
          "showarrow": false,
          "text": "0.28",
          "x": "Speed",
          "xref": "x",
          "y": "Attack",
          "yref": "y"
         },
         {
          "font": {
           "color": "#000000"
          },
          "showarrow": false,
          "text": "1.0",
          "x": "Attack",
          "xref": "x",
          "y": "Attack",
          "yref": "y"
         },
         {
          "font": {
           "color": "#FFFFFF"
          },
          "showarrow": false,
          "text": "0.44",
          "x": "Defense",
          "xref": "x",
          "y": "Attack",
          "yref": "y"
         },
         {
          "font": {
           "color": "#FFFFFF"
          },
          "showarrow": false,
          "text": "0.47",
          "x": "Weight",
          "xref": "x",
          "y": "Defense",
          "yref": "y"
         },
         {
          "font": {
           "color": "#FFFFFF"
          },
          "showarrow": false,
          "text": "0.44",
          "x": "Height",
          "xref": "x",
          "y": "Defense",
          "yref": "y"
         },
         {
          "font": {
           "color": "#FFFFFF"
          },
          "showarrow": false,
          "text": "0.36",
          "x": "Experience",
          "xref": "x",
          "y": "Defense",
          "yref": "y"
         },
         {
          "font": {
           "color": "#FFFFFF"
          },
          "showarrow": false,
          "text": "0.12",
          "x": "HP",
          "xref": "x",
          "y": "Defense",
          "yref": "y"
         },
         {
          "font": {
           "color": "#FFFFFF"
          },
          "showarrow": false,
          "text": "-0.03",
          "x": "Speed",
          "xref": "x",
          "y": "Defense",
          "yref": "y"
         },
         {
          "font": {
           "color": "#FFFFFF"
          },
          "showarrow": false,
          "text": "0.44",
          "x": "Attack",
          "xref": "x",
          "y": "Defense",
          "yref": "y"
         },
         {
          "font": {
           "color": "#000000"
          },
          "showarrow": false,
          "text": "1.0",
          "x": "Defense",
          "xref": "x",
          "y": "Defense",
          "yref": "y"
         }
        ],
        "template": {
         "data": {
          "bar": [
           {
            "error_x": {
             "color": "#2a3f5f"
            },
            "error_y": {
             "color": "#2a3f5f"
            },
            "marker": {
             "line": {
              "color": "#E5ECF6",
              "width": 0.5
             },
             "pattern": {
              "fillmode": "overlay",
              "size": 10,
              "solidity": 0.2
             }
            },
            "type": "bar"
           }
          ],
          "barpolar": [
           {
            "marker": {
             "line": {
              "color": "#E5ECF6",
              "width": 0.5
             },
             "pattern": {
              "fillmode": "overlay",
              "size": 10,
              "solidity": 0.2
             }
            },
            "type": "barpolar"
           }
          ],
          "carpet": [
           {
            "aaxis": {
             "endlinecolor": "#2a3f5f",
             "gridcolor": "white",
             "linecolor": "white",
             "minorgridcolor": "white",
             "startlinecolor": "#2a3f5f"
            },
            "baxis": {
             "endlinecolor": "#2a3f5f",
             "gridcolor": "white",
             "linecolor": "white",
             "minorgridcolor": "white",
             "startlinecolor": "#2a3f5f"
            },
            "type": "carpet"
           }
          ],
          "choropleth": [
           {
            "colorbar": {
             "outlinewidth": 0,
             "ticks": ""
            },
            "type": "choropleth"
           }
          ],
          "contour": [
           {
            "colorbar": {
             "outlinewidth": 0,
             "ticks": ""
            },
            "colorscale": [
             [
              0,
              "#0d0887"
             ],
             [
              0.1111111111111111,
              "#46039f"
             ],
             [
              0.2222222222222222,
              "#7201a8"
             ],
             [
              0.3333333333333333,
              "#9c179e"
             ],
             [
              0.4444444444444444,
              "#bd3786"
             ],
             [
              0.5555555555555556,
              "#d8576b"
             ],
             [
              0.6666666666666666,
              "#ed7953"
             ],
             [
              0.7777777777777778,
              "#fb9f3a"
             ],
             [
              0.8888888888888888,
              "#fdca26"
             ],
             [
              1,
              "#f0f921"
             ]
            ],
            "type": "contour"
           }
          ],
          "contourcarpet": [
           {
            "colorbar": {
             "outlinewidth": 0,
             "ticks": ""
            },
            "type": "contourcarpet"
           }
          ],
          "heatmap": [
           {
            "colorbar": {
             "outlinewidth": 0,
             "ticks": ""
            },
            "colorscale": [
             [
              0,
              "#0d0887"
             ],
             [
              0.1111111111111111,
              "#46039f"
             ],
             [
              0.2222222222222222,
              "#7201a8"
             ],
             [
              0.3333333333333333,
              "#9c179e"
             ],
             [
              0.4444444444444444,
              "#bd3786"
             ],
             [
              0.5555555555555556,
              "#d8576b"
             ],
             [
              0.6666666666666666,
              "#ed7953"
             ],
             [
              0.7777777777777778,
              "#fb9f3a"
             ],
             [
              0.8888888888888888,
              "#fdca26"
             ],
             [
              1,
              "#f0f921"
             ]
            ],
            "type": "heatmap"
           }
          ],
          "heatmapgl": [
           {
            "colorbar": {
             "outlinewidth": 0,
             "ticks": ""
            },
            "colorscale": [
             [
              0,
              "#0d0887"
             ],
             [
              0.1111111111111111,
              "#46039f"
             ],
             [
              0.2222222222222222,
              "#7201a8"
             ],
             [
              0.3333333333333333,
              "#9c179e"
             ],
             [
              0.4444444444444444,
              "#bd3786"
             ],
             [
              0.5555555555555556,
              "#d8576b"
             ],
             [
              0.6666666666666666,
              "#ed7953"
             ],
             [
              0.7777777777777778,
              "#fb9f3a"
             ],
             [
              0.8888888888888888,
              "#fdca26"
             ],
             [
              1,
              "#f0f921"
             ]
            ],
            "type": "heatmapgl"
           }
          ],
          "histogram": [
           {
            "marker": {
             "pattern": {
              "fillmode": "overlay",
              "size": 10,
              "solidity": 0.2
             }
            },
            "type": "histogram"
           }
          ],
          "histogram2d": [
           {
            "colorbar": {
             "outlinewidth": 0,
             "ticks": ""
            },
            "colorscale": [
             [
              0,
              "#0d0887"
             ],
             [
              0.1111111111111111,
              "#46039f"
             ],
             [
              0.2222222222222222,
              "#7201a8"
             ],
             [
              0.3333333333333333,
              "#9c179e"
             ],
             [
              0.4444444444444444,
              "#bd3786"
             ],
             [
              0.5555555555555556,
              "#d8576b"
             ],
             [
              0.6666666666666666,
              "#ed7953"
             ],
             [
              0.7777777777777778,
              "#fb9f3a"
             ],
             [
              0.8888888888888888,
              "#fdca26"
             ],
             [
              1,
              "#f0f921"
             ]
            ],
            "type": "histogram2d"
           }
          ],
          "histogram2dcontour": [
           {
            "colorbar": {
             "outlinewidth": 0,
             "ticks": ""
            },
            "colorscale": [
             [
              0,
              "#0d0887"
             ],
             [
              0.1111111111111111,
              "#46039f"
             ],
             [
              0.2222222222222222,
              "#7201a8"
             ],
             [
              0.3333333333333333,
              "#9c179e"
             ],
             [
              0.4444444444444444,
              "#bd3786"
             ],
             [
              0.5555555555555556,
              "#d8576b"
             ],
             [
              0.6666666666666666,
              "#ed7953"
             ],
             [
              0.7777777777777778,
              "#fb9f3a"
             ],
             [
              0.8888888888888888,
              "#fdca26"
             ],
             [
              1,
              "#f0f921"
             ]
            ],
            "type": "histogram2dcontour"
           }
          ],
          "mesh3d": [
           {
            "colorbar": {
             "outlinewidth": 0,
             "ticks": ""
            },
            "type": "mesh3d"
           }
          ],
          "parcoords": [
           {
            "line": {
             "colorbar": {
              "outlinewidth": 0,
              "ticks": ""
             }
            },
            "type": "parcoords"
           }
          ],
          "pie": [
           {
            "automargin": true,
            "type": "pie"
           }
          ],
          "scatter": [
           {
            "marker": {
             "colorbar": {
              "outlinewidth": 0,
              "ticks": ""
             }
            },
            "type": "scatter"
           }
          ],
          "scatter3d": [
           {
            "line": {
             "colorbar": {
              "outlinewidth": 0,
              "ticks": ""
             }
            },
            "marker": {
             "colorbar": {
              "outlinewidth": 0,
              "ticks": ""
             }
            },
            "type": "scatter3d"
           }
          ],
          "scattercarpet": [
           {
            "marker": {
             "colorbar": {
              "outlinewidth": 0,
              "ticks": ""
             }
            },
            "type": "scattercarpet"
           }
          ],
          "scattergeo": [
           {
            "marker": {
             "colorbar": {
              "outlinewidth": 0,
              "ticks": ""
             }
            },
            "type": "scattergeo"
           }
          ],
          "scattergl": [
           {
            "marker": {
             "colorbar": {
              "outlinewidth": 0,
              "ticks": ""
             }
            },
            "type": "scattergl"
           }
          ],
          "scattermapbox": [
           {
            "marker": {
             "colorbar": {
              "outlinewidth": 0,
              "ticks": ""
             }
            },
            "type": "scattermapbox"
           }
          ],
          "scatterpolar": [
           {
            "marker": {
             "colorbar": {
              "outlinewidth": 0,
              "ticks": ""
             }
            },
            "type": "scatterpolar"
           }
          ],
          "scatterpolargl": [
           {
            "marker": {
             "colorbar": {
              "outlinewidth": 0,
              "ticks": ""
             }
            },
            "type": "scatterpolargl"
           }
          ],
          "scatterternary": [
           {
            "marker": {
             "colorbar": {
              "outlinewidth": 0,
              "ticks": ""
             }
            },
            "type": "scatterternary"
           }
          ],
          "surface": [
           {
            "colorbar": {
             "outlinewidth": 0,
             "ticks": ""
            },
            "colorscale": [
             [
              0,
              "#0d0887"
             ],
             [
              0.1111111111111111,
              "#46039f"
             ],
             [
              0.2222222222222222,
              "#7201a8"
             ],
             [
              0.3333333333333333,
              "#9c179e"
             ],
             [
              0.4444444444444444,
              "#bd3786"
             ],
             [
              0.5555555555555556,
              "#d8576b"
             ],
             [
              0.6666666666666666,
              "#ed7953"
             ],
             [
              0.7777777777777778,
              "#fb9f3a"
             ],
             [
              0.8888888888888888,
              "#fdca26"
             ],
             [
              1,
              "#f0f921"
             ]
            ],
            "type": "surface"
           }
          ],
          "table": [
           {
            "cells": {
             "fill": {
              "color": "#EBF0F8"
             },
             "line": {
              "color": "white"
             }
            },
            "header": {
             "fill": {
              "color": "#C8D4E3"
             },
             "line": {
              "color": "white"
             }
            },
            "type": "table"
           }
          ]
         },
         "layout": {
          "annotationdefaults": {
           "arrowcolor": "#2a3f5f",
           "arrowhead": 0,
           "arrowwidth": 1
          },
          "autotypenumbers": "strict",
          "coloraxis": {
           "colorbar": {
            "outlinewidth": 0,
            "ticks": ""
           }
          },
          "colorscale": {
           "diverging": [
            [
             0,
             "#8e0152"
            ],
            [
             0.1,
             "#c51b7d"
            ],
            [
             0.2,
             "#de77ae"
            ],
            [
             0.3,
             "#f1b6da"
            ],
            [
             0.4,
             "#fde0ef"
            ],
            [
             0.5,
             "#f7f7f7"
            ],
            [
             0.6,
             "#e6f5d0"
            ],
            [
             0.7,
             "#b8e186"
            ],
            [
             0.8,
             "#7fbc41"
            ],
            [
             0.9,
             "#4d9221"
            ],
            [
             1,
             "#276419"
            ]
           ],
           "sequential": [
            [
             0,
             "#0d0887"
            ],
            [
             0.1111111111111111,
             "#46039f"
            ],
            [
             0.2222222222222222,
             "#7201a8"
            ],
            [
             0.3333333333333333,
             "#9c179e"
            ],
            [
             0.4444444444444444,
             "#bd3786"
            ],
            [
             0.5555555555555556,
             "#d8576b"
            ],
            [
             0.6666666666666666,
             "#ed7953"
            ],
            [
             0.7777777777777778,
             "#fb9f3a"
            ],
            [
             0.8888888888888888,
             "#fdca26"
            ],
            [
             1,
             "#f0f921"
            ]
           ],
           "sequentialminus": [
            [
             0,
             "#0d0887"
            ],
            [
             0.1111111111111111,
             "#46039f"
            ],
            [
             0.2222222222222222,
             "#7201a8"
            ],
            [
             0.3333333333333333,
             "#9c179e"
            ],
            [
             0.4444444444444444,
             "#bd3786"
            ],
            [
             0.5555555555555556,
             "#d8576b"
            ],
            [
             0.6666666666666666,
             "#ed7953"
            ],
            [
             0.7777777777777778,
             "#fb9f3a"
            ],
            [
             0.8888888888888888,
             "#fdca26"
            ],
            [
             1,
             "#f0f921"
            ]
           ]
          },
          "colorway": [
           "#636efa",
           "#EF553B",
           "#00cc96",
           "#ab63fa",
           "#FFA15A",
           "#19d3f3",
           "#FF6692",
           "#B6E880",
           "#FF97FF",
           "#FECB52"
          ],
          "font": {
           "color": "#2a3f5f"
          },
          "geo": {
           "bgcolor": "white",
           "lakecolor": "white",
           "landcolor": "#E5ECF6",
           "showlakes": true,
           "showland": true,
           "subunitcolor": "white"
          },
          "hoverlabel": {
           "align": "left"
          },
          "hovermode": "closest",
          "mapbox": {
           "style": "light"
          },
          "paper_bgcolor": "white",
          "plot_bgcolor": "#E5ECF6",
          "polar": {
           "angularaxis": {
            "gridcolor": "white",
            "linecolor": "white",
            "ticks": ""
           },
           "bgcolor": "#E5ECF6",
           "radialaxis": {
            "gridcolor": "white",
            "linecolor": "white",
            "ticks": ""
           }
          },
          "scene": {
           "xaxis": {
            "backgroundcolor": "#E5ECF6",
            "gridcolor": "white",
            "gridwidth": 2,
            "linecolor": "white",
            "showbackground": true,
            "ticks": "",
            "zerolinecolor": "white"
           },
           "yaxis": {
            "backgroundcolor": "#E5ECF6",
            "gridcolor": "white",
            "gridwidth": 2,
            "linecolor": "white",
            "showbackground": true,
            "ticks": "",
            "zerolinecolor": "white"
           },
           "zaxis": {
            "backgroundcolor": "#E5ECF6",
            "gridcolor": "white",
            "gridwidth": 2,
            "linecolor": "white",
            "showbackground": true,
            "ticks": "",
            "zerolinecolor": "white"
           }
          },
          "shapedefaults": {
           "line": {
            "color": "#2a3f5f"
           }
          },
          "ternary": {
           "aaxis": {
            "gridcolor": "white",
            "linecolor": "white",
            "ticks": ""
           },
           "baxis": {
            "gridcolor": "white",
            "linecolor": "white",
            "ticks": ""
           },
           "bgcolor": "#E5ECF6",
           "caxis": {
            "gridcolor": "white",
            "linecolor": "white",
            "ticks": ""
           }
          },
          "title": {
           "x": 0.05
          },
          "xaxis": {
           "automargin": true,
           "gridcolor": "white",
           "linecolor": "white",
           "ticks": "",
           "title": {
            "standoff": 15
           },
           "zerolinecolor": "white",
           "zerolinewidth": 2
          },
          "yaxis": {
           "automargin": true,
           "gridcolor": "white",
           "linecolor": "white",
           "ticks": "",
           "title": {
            "standoff": 15
           },
           "zerolinecolor": "white",
           "zerolinewidth": 2
          }
         }
        },
        "title": {
         "text": "Pokemon Attribute Correlation Matrix",
         "x": 0.5,
         "xanchor": "center",
         "y": 0.9,
         "yanchor": "top"
        },
        "xaxis": {
         "dtick": 1,
         "gridcolor": "rgb(0, 0, 0)",
         "side": "top",
         "ticks": ""
        },
        "yaxis": {
         "dtick": 1,
         "ticks": "",
         "ticksuffix": "  "
        }
       }
      }
     },
     "metadata": {},
     "output_type": "display_data"
    }
   ],
   "source": [
    "# Correlation Matrix to see which variables affect eachother.\n",
    "\n",
    "Pokemon_Corr = Pokemon_DF.corr()\n",
    "x = list(Pokemon_Corr.columns)\n",
    "y = list(Pokemon_Corr.index)\n",
    "z = np.array(Pokemon_Corr)\n",
    "\n",
    "fig = ff.create_annotated_heatmap(\n",
    "    z,\n",
    "    x = x,\n",
    "    y = y,\n",
    "    annotation_text = np.around(z, decimals=2),\n",
    "    hoverinfo='z',\n",
    "    colorscale='Viridis'\n",
    ")\n",
    "fig.update_layout(\n",
    "    title={\n",
    "    'text': 'Pokemon Attribute Correlation Matrix',\n",
    "    'y':.9,\n",
    "    'x':0.5,\n",
    "    'xanchor': 'center',\n",
    "    'yanchor': 'top'}\n",
    ")\n",
    "fig.show()"
   ]
  },
  {
   "cell_type": "code",
   "execution_count": 19,
   "metadata": {},
   "outputs": [
    {
     "data": {
      "text/html": [
       "<div>\n",
       "<style scoped>\n",
       "    .dataframe tbody tr th:only-of-type {\n",
       "        vertical-align: middle;\n",
       "    }\n",
       "\n",
       "    .dataframe tbody tr th {\n",
       "        vertical-align: top;\n",
       "    }\n",
       "\n",
       "    .dataframe thead th {\n",
       "        text-align: right;\n",
       "    }\n",
       "</style>\n",
       "<table border=\"1\" class=\"dataframe\">\n",
       "  <thead>\n",
       "    <tr style=\"text-align: right;\">\n",
       "      <th></th>\n",
       "      <th>Weight</th>\n",
       "      <th>Height</th>\n",
       "      <th>Experience</th>\n",
       "      <th>HP</th>\n",
       "      <th>Speed</th>\n",
       "      <th>Attack</th>\n",
       "      <th>Defense</th>\n",
       "    </tr>\n",
       "  </thead>\n",
       "  <tbody>\n",
       "    <tr>\n",
       "      <th>Weight</th>\n",
       "      <td>1.000000</td>\n",
       "      <td>0.691014</td>\n",
       "      <td>0.445351</td>\n",
       "      <td>0.394460</td>\n",
       "      <td>0.116086</td>\n",
       "      <td>0.457429</td>\n",
       "      <td>0.474933</td>\n",
       "    </tr>\n",
       "    <tr>\n",
       "      <th>Height</th>\n",
       "      <td>0.691014</td>\n",
       "      <td>1.000000</td>\n",
       "      <td>0.381505</td>\n",
       "      <td>0.271339</td>\n",
       "      <td>0.200649</td>\n",
       "      <td>0.334597</td>\n",
       "      <td>0.439712</td>\n",
       "    </tr>\n",
       "    <tr>\n",
       "      <th>Experience</th>\n",
       "      <td>0.445351</td>\n",
       "      <td>0.381505</td>\n",
       "      <td>1.000000</td>\n",
       "      <td>0.707964</td>\n",
       "      <td>0.401584</td>\n",
       "      <td>0.437339</td>\n",
       "      <td>0.364206</td>\n",
       "    </tr>\n",
       "    <tr>\n",
       "      <th>HP</th>\n",
       "      <td>0.394460</td>\n",
       "      <td>0.271339</td>\n",
       "      <td>0.707964</td>\n",
       "      <td>1.000000</td>\n",
       "      <td>0.025721</td>\n",
       "      <td>0.245700</td>\n",
       "      <td>0.122550</td>\n",
       "    </tr>\n",
       "    <tr>\n",
       "      <th>Speed</th>\n",
       "      <td>0.116086</td>\n",
       "      <td>0.200649</td>\n",
       "      <td>0.401584</td>\n",
       "      <td>0.025721</td>\n",
       "      <td>1.000000</td>\n",
       "      <td>0.277380</td>\n",
       "      <td>-0.032161</td>\n",
       "    </tr>\n",
       "    <tr>\n",
       "      <th>Attack</th>\n",
       "      <td>0.457429</td>\n",
       "      <td>0.334597</td>\n",
       "      <td>0.437339</td>\n",
       "      <td>0.245700</td>\n",
       "      <td>0.277380</td>\n",
       "      <td>1.000000</td>\n",
       "      <td>0.443174</td>\n",
       "    </tr>\n",
       "    <tr>\n",
       "      <th>Defense</th>\n",
       "      <td>0.474933</td>\n",
       "      <td>0.439712</td>\n",
       "      <td>0.364206</td>\n",
       "      <td>0.122550</td>\n",
       "      <td>-0.032161</td>\n",
       "      <td>0.443174</td>\n",
       "      <td>1.000000</td>\n",
       "    </tr>\n",
       "  </tbody>\n",
       "</table>\n",
       "</div>"
      ],
      "text/plain": [
       "              Weight    Height  Experience        HP     Speed    Attack  \\\n",
       "Weight      1.000000  0.691014    0.445351  0.394460  0.116086  0.457429   \n",
       "Height      0.691014  1.000000    0.381505  0.271339  0.200649  0.334597   \n",
       "Experience  0.445351  0.381505    1.000000  0.707964  0.401584  0.437339   \n",
       "HP          0.394460  0.271339    0.707964  1.000000  0.025721  0.245700   \n",
       "Speed       0.116086  0.200649    0.401584  0.025721  1.000000  0.277380   \n",
       "Attack      0.457429  0.334597    0.437339  0.245700  0.277380  1.000000   \n",
       "Defense     0.474933  0.439712    0.364206  0.122550 -0.032161  0.443174   \n",
       "\n",
       "             Defense  \n",
       "Weight      0.474933  \n",
       "Height      0.439712  \n",
       "Experience  0.364206  \n",
       "HP          0.122550  \n",
       "Speed      -0.032161  \n",
       "Attack      0.443174  \n",
       "Defense     1.000000  "
      ]
     },
     "execution_count": 19,
     "metadata": {},
     "output_type": "execute_result"
    }
   ],
   "source": [
    "Pokemon_Corr = Pokemon_DF.corr()"
   ]
  },
  {
   "cell_type": "code",
   "execution_count": 43,
   "metadata": {},
   "outputs": [
    {
     "data": {
      "application/vnd.plotly.v1+json": {
       "config": {
        "plotlyServerURL": "https://plot.ly"
       },
       "data": [
        {
         "hovertemplate": "<b>%{hovertext}</b><br><br>Experience=%{x}<br>HP=%{y}<extra></extra>",
         "hovertext": [
          "ho-oh",
          "lugia",
          "mewtwo",
          "celebi",
          "mew",
          "tyranitar",
          "dragonite",
          "suicune",
          "entei",
          "raikou",
          "moltres",
          "zapdos",
          "articuno",
          "kingdra",
          "crobat",
          "charizard",
          "blastoise",
          "venusaur",
          "poliwrath",
          "nidoking",
          "machamp",
          "nidoqueen",
          "alakazam",
          "gengar",
          "politoed",
          "vileplume",
          "bellossom",
          "raichu",
          "clefable",
          "typhlosion",
          "feraligatr",
          "meganium",
          "ampharos",
          "golem",
          "victreebel",
          "wigglytuff",
          "pidgeot",
          "azumarill",
          "jumpluff",
          "butterfree",
          "arcanine",
          "snorlax",
          "gyarados",
          "lapras",
          "exeggutor",
          "jolteon",
          "flareon",
          "vaporeon",
          "cloyster",
          "umbreon",
          "espeon",
          "starmie",
          "porygon2",
          "tentacruel",
          "aerodactyl",
          "steelix",
          "beedrill",
          "ninetales",
          "shuckle",
          "pinsir",
          "houndoom",
          "donphan",
          "ursaring",
          "heracross",
          "scizor",
          "muk",
          "rapidash",
          "golduck",
          "omastar",
          "kabutops",
          "magmar",
          "miltank",
          "slowking",
          "weezing",
          "electabuzz",
          "tauros",
          "electrode",
          "kangaskhan",
          "slowbro",
          "mantine",
          "rhydon",
          "hypno",
          "octillery",
          "kingler",
          "dewgong",
          "dodrio",
          "xatu",
          "skarmory",
          "stantler",
          "forretress",
          "magneton",
          "mr-mime",
          "lanturn",
          "jynx",
          "golbat",
          "primeape",
          "hitmontop",
          "hitmonchan",
          "hitmonlee",
          "girafarig",
          "seaking",
          "piloswine",
          "venomoth",
          "granbull",
          "noctowl",
          "sandslash",
          "arbok",
          "fearow",
          "persian",
          "seadra",
          "quagsire",
          "magcargo",
          "dugtrio",
          "sunflora",
          "marowak",
          "dragonair",
          "dunsparce",
          "raticate",
          "furret",
          "sudowoodo",
          "corsola",
          "pupitar",
          "charmeleon",
          "bayleef",
          "wobbuffet",
          "haunter",
          "machoke",
          "quilava",
          "wartortle",
          "ivysaur",
          "croconaw",
          "togetic",
          "parasect",
          "kadabra",
          "ariados",
          "gloom",
          "weepinbell",
          "ledian",
          "graveler",
          "poliwhirl",
          "farfetchd",
          "flaaffy",
          "nidorino",
          "nidorina",
          "pidgeotto",
          "skiploom",
          "unown",
          "delibird",
          "clefairy",
          "pikachu",
          "ditto",
          "scyther",
          "jigglypuff",
          "marill",
          "smeargle",
          "qwilfish",
          "misdreavus",
          "tangela",
          "gligar",
          "sneasel",
          "ponyta",
          "murkrow",
          "porygon",
          "yanma",
          "lickitung",
          "onix",
          "magby",
          "kakuna",
          "aipom",
          "metapod",
          "elekid",
          "omanyte",
          "kabuto",
          "growlithe",
          "rhyhorn",
          "koffing",
          "staryu",
          "tentacool",
          "teddiursa",
          "houndour",
          "phanpy",
          "chinchou",
          "voltorb",
          "drowzee",
          "exeggcute",
          "krabby",
          "grimer",
          "seel",
          "magnemite",
          "eevee",
          "bulbasaur",
          "chikorita",
          "oddish",
          "psyduck",
          "natu",
          "goldeen",
          "cubone",
          "squirtle",
          "slowpoke",
          "totodile",
          "gastly",
          "cyndaquil",
          "doduo",
          "charmander",
          "abra",
          "shellder",
          "venonat",
          "machop",
          "mankey",
          "smoochum",
          "larvitar",
          "remoraid",
          "geodude",
          "dratini",
          "bellsprout",
          "snubbull",
          "sandshrew",
          "poliwag",
          "vulpix",
          "horsea",
          "meowth",
          "pineco",
          "ekans",
          "paras",
          "mareep",
          "nidoran-f",
          "nidoran-m",
          "ledyba",
          "diglett",
          "spearow",
          "hoothoot",
          "rattata",
          "spinarak",
          "slugma",
          "pidgey",
          "swinub",
          "hoppip",
          "zubat",
          "togepi",
          "cleffa",
          "sentret",
          "igglybuff",
          "wooper",
          "tyrogue",
          "pichu",
          "magikarp",
          "weedle"
         ],
         "legendgroup": "",
         "marker": {
          "color": "#636efa",
          "symbol": "circle"
         },
         "mode": "markers",
         "name": "",
         "orientation": "v",
         "showlegend": false,
         "type": "scatter",
         "x": [
          340,
          340,
          340,
          300,
          300,
          300,
          300,
          290,
          290,
          290,
          290,
          290,
          290,
          270,
          268,
          267,
          265,
          263,
          255,
          253,
          253,
          253,
          250,
          250,
          250,
          245,
          245,
          243,
          242,
          240,
          239,
          236,
          230,
          223,
          221,
          218,
          216,
          210,
          207,
          198,
          194,
          189,
          189,
          187,
          186,
          184,
          184,
          184,
          184,
          184,
          184,
          182,
          180,
          180,
          180,
          179,
          178,
          177,
          177,
          175,
          175,
          175,
          175,
          175,
          175,
          175,
          175,
          175,
          173,
          173,
          173,
          172,
          172,
          172,
          172,
          172,
          172,
          172,
          172,
          170,
          170,
          169,
          168,
          166,
          166,
          165,
          165,
          163,
          163,
          163,
          163,
          161,
          161,
          159,
          159,
          159,
          159,
          159,
          159,
          159,
          158,
          158,
          158,
          158,
          158,
          158,
          157,
          155,
          154,
          154,
          151,
          151,
          149,
          149,
          149,
          147,
          145,
          145,
          145,
          144,
          144,
          144,
          142,
          142,
          142,
          142,
          142,
          142,
          142,
          142,
          142,
          142,
          142,
          140,
          140,
          138,
          137,
          137,
          137,
          135,
          132,
          128,
          128,
          128,
          122,
          119,
          118,
          116,
          113,
          112,
          101,
          100,
          95,
          88,
          88,
          88,
          87,
          87,
          86,
          86,
          82,
          81,
          79,
          78,
          77,
          77,
          73,
          72,
          72,
          72,
          72,
          71,
          71,
          70,
          69,
          68,
          68,
          67,
          66,
          66,
          66,
          66,
          66,
          66,
          65,
          65,
          65,
          65,
          65,
          65,
          64,
          64,
          64,
          64,
          64,
          64,
          64,
          63,
          63,
          63,
          62,
          62,
          62,
          62,
          62,
          61,
          61,
          61,
          61,
          61,
          60,
          60,
          60,
          60,
          60,
          60,
          60,
          60,
          60,
          59,
          58,
          58,
          58,
          57,
          56,
          55,
          55,
          53,
          53,
          52,
          52,
          51,
          50,
          50,
          50,
          50,
          50,
          49,
          49,
          44,
          43,
          42,
          42,
          42,
          41,
          40,
          39
         ],
         "xaxis": "x",
         "y": [
          106,
          106,
          106,
          100,
          100,
          100,
          91,
          100,
          115,
          90,
          90,
          90,
          90,
          75,
          85,
          78,
          79,
          80,
          90,
          81,
          90,
          90,
          55,
          60,
          90,
          75,
          75,
          60,
          95,
          78,
          85,
          80,
          90,
          80,
          80,
          140,
          83,
          100,
          75,
          60,
          90,
          160,
          95,
          130,
          95,
          65,
          65,
          130,
          50,
          95,
          65,
          60,
          85,
          80,
          80,
          75,
          65,
          73,
          20,
          65,
          75,
          90,
          90,
          80,
          70,
          105,
          65,
          80,
          70,
          60,
          65,
          95,
          95,
          65,
          65,
          75,
          60,
          105,
          95,
          85,
          105,
          85,
          75,
          55,
          90,
          60,
          65,
          65,
          73,
          75,
          50,
          40,
          125,
          65,
          75,
          65,
          50,
          50,
          50,
          70,
          80,
          100,
          70,
          90,
          100,
          75,
          60,
          65,
          65,
          55,
          95,
          60,
          35,
          75,
          60,
          61,
          100,
          55,
          85,
          70,
          65,
          70,
          58,
          60,
          190,
          45,
          80,
          58,
          59,
          60,
          65,
          55,
          60,
          40,
          70,
          60,
          65,
          55,
          55,
          65,
          52,
          70,
          61,
          70,
          63,
          55,
          48,
          45,
          70,
          35,
          48,
          70,
          115,
          70,
          55,
          65,
          60,
          65,
          65,
          55,
          50,
          60,
          65,
          65,
          90,
          35,
          45,
          45,
          55,
          50,
          45,
          35,
          30,
          55,
          80,
          40,
          30,
          40,
          60,
          45,
          90,
          75,
          40,
          60,
          60,
          30,
          80,
          65,
          25,
          55,
          45,
          45,
          45,
          50,
          40,
          45,
          50,
          44,
          90,
          50,
          30,
          39,
          35,
          39,
          25,
          30,
          60,
          70,
          40,
          45,
          50,
          35,
          40,
          41,
          50,
          60,
          50,
          40,
          38,
          30,
          40,
          50,
          35,
          35,
          55,
          55,
          46,
          40,
          10,
          40,
          60,
          30,
          40,
          40,
          40,
          50,
          35,
          40,
          35,
          50,
          35,
          90,
          55,
          35,
          20,
          20,
          40
         ],
         "yaxis": "y"
        },
        {
         "hovertemplate": "<b>OLS trendline</b><br>HP = 0.215249 * Experience + 35.908<br>R<sup>2</sup>=0.398725<br><br>Experience=%{x}<br>HP=%{y} <b>(trend)</b><extra></extra>",
         "legendgroup": "",
         "marker": {
          "color": "#636efa",
          "symbol": "circle"
         },
         "mode": "lines",
         "name": "",
         "showlegend": false,
         "type": "scatter",
         "x": [
          39,
          40,
          41,
          42,
          42,
          42,
          43,
          44,
          49,
          49,
          50,
          50,
          50,
          50,
          50,
          51,
          52,
          52,
          53,
          53,
          55,
          55,
          56,
          57,
          58,
          58,
          58,
          59,
          60,
          60,
          60,
          60,
          60,
          60,
          60,
          60,
          60,
          61,
          61,
          61,
          61,
          61,
          62,
          62,
          62,
          62,
          62,
          63,
          63,
          63,
          64,
          64,
          64,
          64,
          64,
          64,
          64,
          65,
          65,
          65,
          65,
          65,
          65,
          66,
          66,
          66,
          66,
          66,
          66,
          67,
          68,
          68,
          69,
          70,
          71,
          71,
          72,
          72,
          72,
          72,
          73,
          77,
          77,
          78,
          79,
          81,
          82,
          86,
          86,
          87,
          87,
          88,
          88,
          88,
          95,
          100,
          101,
          112,
          113,
          116,
          118,
          119,
          122,
          128,
          128,
          128,
          132,
          135,
          137,
          137,
          137,
          138,
          140,
          140,
          142,
          142,
          142,
          142,
          142,
          142,
          142,
          142,
          142,
          142,
          142,
          144,
          144,
          144,
          145,
          145,
          145,
          147,
          149,
          149,
          149,
          151,
          151,
          154,
          154,
          155,
          157,
          158,
          158,
          158,
          158,
          158,
          158,
          159,
          159,
          159,
          159,
          159,
          159,
          159,
          161,
          161,
          163,
          163,
          163,
          163,
          165,
          165,
          166,
          166,
          168,
          169,
          170,
          170,
          172,
          172,
          172,
          172,
          172,
          172,
          172,
          172,
          173,
          173,
          173,
          175,
          175,
          175,
          175,
          175,
          175,
          175,
          175,
          175,
          177,
          177,
          178,
          179,
          180,
          180,
          180,
          182,
          184,
          184,
          184,
          184,
          184,
          184,
          186,
          187,
          189,
          189,
          194,
          198,
          207,
          210,
          216,
          218,
          221,
          223,
          230,
          236,
          239,
          240,
          242,
          243,
          245,
          245,
          250,
          250,
          250,
          253,
          253,
          253,
          255,
          263,
          265,
          267,
          268,
          270,
          290,
          290,
          290,
          290,
          290,
          290,
          300,
          300,
          300,
          300,
          340,
          340,
          340
         ],
         "xaxis": "x",
         "y": [
          44.30271467144433,
          44.517963537308724,
          44.73321240317313,
          44.94846126903752,
          44.94846126903752,
          44.94846126903752,
          45.16371013490192,
          45.378959000766315,
          46.45520333008831,
          46.45520333008831,
          46.670452195952706,
          46.670452195952706,
          46.670452195952706,
          46.670452195952706,
          46.670452195952706,
          46.88570106181711,
          47.100949927681505,
          47.100949927681505,
          47.3161987935459,
          47.3161987935459,
          47.7466965252747,
          47.7466965252747,
          47.961945391139096,
          48.17719425700349,
          48.392443122867896,
          48.392443122867896,
          48.392443122867896,
          48.60769198873229,
          48.822940854596695,
          48.822940854596695,
          48.822940854596695,
          48.822940854596695,
          48.822940854596695,
          48.822940854596695,
          48.822940854596695,
          48.822940854596695,
          48.822940854596695,
          49.03818972046109,
          49.03818972046109,
          49.03818972046109,
          49.03818972046109,
          49.03818972046109,
          49.25343858632549,
          49.25343858632549,
          49.25343858632549,
          49.25343858632549,
          49.25343858632549,
          49.46868745218988,
          49.46868745218988,
          49.46868745218988,
          49.683936318054286,
          49.683936318054286,
          49.683936318054286,
          49.683936318054286,
          49.683936318054286,
          49.683936318054286,
          49.683936318054286,
          49.89918518391868,
          49.89918518391868,
          49.89918518391868,
          49.89918518391868,
          49.89918518391868,
          49.89918518391868,
          50.11443404978308,
          50.11443404978308,
          50.11443404978308,
          50.11443404978308,
          50.11443404978308,
          50.11443404978308,
          50.32968291564748,
          50.54493178151188,
          50.54493178151188,
          50.760180647376274,
          50.97542951324067,
          51.19067837910507,
          51.19067837910507,
          51.40592724496947,
          51.40592724496947,
          51.40592724496947,
          51.40592724496947,
          51.62117611083387,
          52.48217157429146,
          52.48217157429146,
          52.69742044015586,
          52.91266930602026,
          53.343167037749055,
          53.55841590361345,
          54.41941136707105,
          54.41941136707105,
          54.634660232935445,
          54.634660232935445,
          54.84990909879984,
          54.84990909879984,
          54.84990909879984,
          56.35665115985063,
          57.43289548917262,
          57.64814435503702,
          60.015881879545404,
          60.2311307454098,
          60.876877343002995,
          61.307375074731794,
          61.52262394059619,
          62.16837053818938,
          63.45986373337577,
          63.45986373337577,
          63.45986373337577,
          64.32085919683337,
          64.96660579442656,
          65.39710352615536,
          65.39710352615536,
          65.39710352615536,
          65.61235239201976,
          66.04285012374855,
          66.04285012374855,
          66.47334785547736,
          66.47334785547736,
          66.47334785547736,
          66.47334785547736,
          66.47334785547736,
          66.47334785547736,
          66.47334785547736,
          66.47334785547736,
          66.47334785547736,
          66.47334785547736,
          66.47334785547736,
          66.90384558720615,
          66.90384558720615,
          66.90384558720615,
          67.11909445307055,
          67.11909445307055,
          67.11909445307055,
          67.54959218479934,
          67.98008991652813,
          67.98008991652813,
          67.98008991652813,
          68.41058764825694,
          68.41058764825694,
          69.05633424585014,
          69.05633424585014,
          69.27158311171453,
          69.70208084344333,
          69.91732970930772,
          69.91732970930772,
          69.91732970930772,
          69.91732970930772,
          69.91732970930772,
          69.91732970930772,
          70.13257857517212,
          70.13257857517212,
          70.13257857517212,
          70.13257857517212,
          70.13257857517212,
          70.13257857517212,
          70.13257857517212,
          70.56307630690091,
          70.56307630690091,
          70.9935740386297,
          70.9935740386297,
          70.9935740386297,
          70.9935740386297,
          71.42407177035851,
          71.42407177035851,
          71.6393206362229,
          71.6393206362229,
          72.06981836795171,
          72.28506723381611,
          72.5003160996805,
          72.5003160996805,
          72.9308138314093,
          72.9308138314093,
          72.9308138314093,
          72.9308138314093,
          72.9308138314093,
          72.9308138314093,
          72.9308138314093,
          72.9308138314093,
          73.14606269727369,
          73.14606269727369,
          73.14606269727369,
          73.57656042900248,
          73.57656042900248,
          73.57656042900248,
          73.57656042900248,
          73.57656042900248,
          73.57656042900248,
          73.57656042900248,
          73.57656042900248,
          73.57656042900248,
          74.00705816073129,
          74.00705816073129,
          74.22230702659569,
          74.43755589246008,
          74.65280475832449,
          74.65280475832449,
          74.65280475832449,
          75.08330249005328,
          75.51380022178208,
          75.51380022178208,
          75.51380022178208,
          75.51380022178208,
          75.51380022178208,
          75.51380022178208,
          75.94429795351087,
          76.15954681937527,
          76.59004455110406,
          76.59004455110406,
          77.66628888042607,
          78.52728434388365,
          80.46452413666324,
          81.11027073425643,
          82.40176392944282,
          82.83226166117161,
          83.47800825876482,
          83.90850599049361,
          85.4152480515444,
          86.70674124673079,
          87.35248784432397,
          87.56773671018837,
          87.99823444191718,
          88.21348330778157,
          88.64398103951038,
          88.64398103951038,
          89.72022536883236,
          89.72022536883236,
          89.72022536883236,
          90.36597196642555,
          90.36597196642555,
          90.36597196642555,
          90.79646969815435,
          92.51846062506954,
          92.94895835679833,
          93.37945608852712,
          93.59470495439153,
          94.02520268612032,
          98.33018000340829,
          98.33018000340829,
          98.33018000340829,
          98.33018000340829,
          98.33018000340829,
          98.33018000340829,
          100.48266866205228,
          100.48266866205228,
          100.48266866205228,
          100.48266866205228,
          109.0926232966282,
          109.0926232966282,
          109.0926232966282
         ],
         "yaxis": "y"
        }
       ],
       "layout": {
        "legend": {
         "tracegroupgap": 0
        },
        "margin": {
         "t": 60
        },
        "template": {
         "data": {
          "bar": [
           {
            "error_x": {
             "color": "#2a3f5f"
            },
            "error_y": {
             "color": "#2a3f5f"
            },
            "marker": {
             "line": {
              "color": "#E5ECF6",
              "width": 0.5
             },
             "pattern": {
              "fillmode": "overlay",
              "size": 10,
              "solidity": 0.2
             }
            },
            "type": "bar"
           }
          ],
          "barpolar": [
           {
            "marker": {
             "line": {
              "color": "#E5ECF6",
              "width": 0.5
             },
             "pattern": {
              "fillmode": "overlay",
              "size": 10,
              "solidity": 0.2
             }
            },
            "type": "barpolar"
           }
          ],
          "carpet": [
           {
            "aaxis": {
             "endlinecolor": "#2a3f5f",
             "gridcolor": "white",
             "linecolor": "white",
             "minorgridcolor": "white",
             "startlinecolor": "#2a3f5f"
            },
            "baxis": {
             "endlinecolor": "#2a3f5f",
             "gridcolor": "white",
             "linecolor": "white",
             "minorgridcolor": "white",
             "startlinecolor": "#2a3f5f"
            },
            "type": "carpet"
           }
          ],
          "choropleth": [
           {
            "colorbar": {
             "outlinewidth": 0,
             "ticks": ""
            },
            "type": "choropleth"
           }
          ],
          "contour": [
           {
            "colorbar": {
             "outlinewidth": 0,
             "ticks": ""
            },
            "colorscale": [
             [
              0,
              "#0d0887"
             ],
             [
              0.1111111111111111,
              "#46039f"
             ],
             [
              0.2222222222222222,
              "#7201a8"
             ],
             [
              0.3333333333333333,
              "#9c179e"
             ],
             [
              0.4444444444444444,
              "#bd3786"
             ],
             [
              0.5555555555555556,
              "#d8576b"
             ],
             [
              0.6666666666666666,
              "#ed7953"
             ],
             [
              0.7777777777777778,
              "#fb9f3a"
             ],
             [
              0.8888888888888888,
              "#fdca26"
             ],
             [
              1,
              "#f0f921"
             ]
            ],
            "type": "contour"
           }
          ],
          "contourcarpet": [
           {
            "colorbar": {
             "outlinewidth": 0,
             "ticks": ""
            },
            "type": "contourcarpet"
           }
          ],
          "heatmap": [
           {
            "colorbar": {
             "outlinewidth": 0,
             "ticks": ""
            },
            "colorscale": [
             [
              0,
              "#0d0887"
             ],
             [
              0.1111111111111111,
              "#46039f"
             ],
             [
              0.2222222222222222,
              "#7201a8"
             ],
             [
              0.3333333333333333,
              "#9c179e"
             ],
             [
              0.4444444444444444,
              "#bd3786"
             ],
             [
              0.5555555555555556,
              "#d8576b"
             ],
             [
              0.6666666666666666,
              "#ed7953"
             ],
             [
              0.7777777777777778,
              "#fb9f3a"
             ],
             [
              0.8888888888888888,
              "#fdca26"
             ],
             [
              1,
              "#f0f921"
             ]
            ],
            "type": "heatmap"
           }
          ],
          "heatmapgl": [
           {
            "colorbar": {
             "outlinewidth": 0,
             "ticks": ""
            },
            "colorscale": [
             [
              0,
              "#0d0887"
             ],
             [
              0.1111111111111111,
              "#46039f"
             ],
             [
              0.2222222222222222,
              "#7201a8"
             ],
             [
              0.3333333333333333,
              "#9c179e"
             ],
             [
              0.4444444444444444,
              "#bd3786"
             ],
             [
              0.5555555555555556,
              "#d8576b"
             ],
             [
              0.6666666666666666,
              "#ed7953"
             ],
             [
              0.7777777777777778,
              "#fb9f3a"
             ],
             [
              0.8888888888888888,
              "#fdca26"
             ],
             [
              1,
              "#f0f921"
             ]
            ],
            "type": "heatmapgl"
           }
          ],
          "histogram": [
           {
            "marker": {
             "pattern": {
              "fillmode": "overlay",
              "size": 10,
              "solidity": 0.2
             }
            },
            "type": "histogram"
           }
          ],
          "histogram2d": [
           {
            "colorbar": {
             "outlinewidth": 0,
             "ticks": ""
            },
            "colorscale": [
             [
              0,
              "#0d0887"
             ],
             [
              0.1111111111111111,
              "#46039f"
             ],
             [
              0.2222222222222222,
              "#7201a8"
             ],
             [
              0.3333333333333333,
              "#9c179e"
             ],
             [
              0.4444444444444444,
              "#bd3786"
             ],
             [
              0.5555555555555556,
              "#d8576b"
             ],
             [
              0.6666666666666666,
              "#ed7953"
             ],
             [
              0.7777777777777778,
              "#fb9f3a"
             ],
             [
              0.8888888888888888,
              "#fdca26"
             ],
             [
              1,
              "#f0f921"
             ]
            ],
            "type": "histogram2d"
           }
          ],
          "histogram2dcontour": [
           {
            "colorbar": {
             "outlinewidth": 0,
             "ticks": ""
            },
            "colorscale": [
             [
              0,
              "#0d0887"
             ],
             [
              0.1111111111111111,
              "#46039f"
             ],
             [
              0.2222222222222222,
              "#7201a8"
             ],
             [
              0.3333333333333333,
              "#9c179e"
             ],
             [
              0.4444444444444444,
              "#bd3786"
             ],
             [
              0.5555555555555556,
              "#d8576b"
             ],
             [
              0.6666666666666666,
              "#ed7953"
             ],
             [
              0.7777777777777778,
              "#fb9f3a"
             ],
             [
              0.8888888888888888,
              "#fdca26"
             ],
             [
              1,
              "#f0f921"
             ]
            ],
            "type": "histogram2dcontour"
           }
          ],
          "mesh3d": [
           {
            "colorbar": {
             "outlinewidth": 0,
             "ticks": ""
            },
            "type": "mesh3d"
           }
          ],
          "parcoords": [
           {
            "line": {
             "colorbar": {
              "outlinewidth": 0,
              "ticks": ""
             }
            },
            "type": "parcoords"
           }
          ],
          "pie": [
           {
            "automargin": true,
            "type": "pie"
           }
          ],
          "scatter": [
           {
            "marker": {
             "colorbar": {
              "outlinewidth": 0,
              "ticks": ""
             }
            },
            "type": "scatter"
           }
          ],
          "scatter3d": [
           {
            "line": {
             "colorbar": {
              "outlinewidth": 0,
              "ticks": ""
             }
            },
            "marker": {
             "colorbar": {
              "outlinewidth": 0,
              "ticks": ""
             }
            },
            "type": "scatter3d"
           }
          ],
          "scattercarpet": [
           {
            "marker": {
             "colorbar": {
              "outlinewidth": 0,
              "ticks": ""
             }
            },
            "type": "scattercarpet"
           }
          ],
          "scattergeo": [
           {
            "marker": {
             "colorbar": {
              "outlinewidth": 0,
              "ticks": ""
             }
            },
            "type": "scattergeo"
           }
          ],
          "scattergl": [
           {
            "marker": {
             "colorbar": {
              "outlinewidth": 0,
              "ticks": ""
             }
            },
            "type": "scattergl"
           }
          ],
          "scattermapbox": [
           {
            "marker": {
             "colorbar": {
              "outlinewidth": 0,
              "ticks": ""
             }
            },
            "type": "scattermapbox"
           }
          ],
          "scatterpolar": [
           {
            "marker": {
             "colorbar": {
              "outlinewidth": 0,
              "ticks": ""
             }
            },
            "type": "scatterpolar"
           }
          ],
          "scatterpolargl": [
           {
            "marker": {
             "colorbar": {
              "outlinewidth": 0,
              "ticks": ""
             }
            },
            "type": "scatterpolargl"
           }
          ],
          "scatterternary": [
           {
            "marker": {
             "colorbar": {
              "outlinewidth": 0,
              "ticks": ""
             }
            },
            "type": "scatterternary"
           }
          ],
          "surface": [
           {
            "colorbar": {
             "outlinewidth": 0,
             "ticks": ""
            },
            "colorscale": [
             [
              0,
              "#0d0887"
             ],
             [
              0.1111111111111111,
              "#46039f"
             ],
             [
              0.2222222222222222,
              "#7201a8"
             ],
             [
              0.3333333333333333,
              "#9c179e"
             ],
             [
              0.4444444444444444,
              "#bd3786"
             ],
             [
              0.5555555555555556,
              "#d8576b"
             ],
             [
              0.6666666666666666,
              "#ed7953"
             ],
             [
              0.7777777777777778,
              "#fb9f3a"
             ],
             [
              0.8888888888888888,
              "#fdca26"
             ],
             [
              1,
              "#f0f921"
             ]
            ],
            "type": "surface"
           }
          ],
          "table": [
           {
            "cells": {
             "fill": {
              "color": "#EBF0F8"
             },
             "line": {
              "color": "white"
             }
            },
            "header": {
             "fill": {
              "color": "#C8D4E3"
             },
             "line": {
              "color": "white"
             }
            },
            "type": "table"
           }
          ]
         },
         "layout": {
          "annotationdefaults": {
           "arrowcolor": "#2a3f5f",
           "arrowhead": 0,
           "arrowwidth": 1
          },
          "autotypenumbers": "strict",
          "coloraxis": {
           "colorbar": {
            "outlinewidth": 0,
            "ticks": ""
           }
          },
          "colorscale": {
           "diverging": [
            [
             0,
             "#8e0152"
            ],
            [
             0.1,
             "#c51b7d"
            ],
            [
             0.2,
             "#de77ae"
            ],
            [
             0.3,
             "#f1b6da"
            ],
            [
             0.4,
             "#fde0ef"
            ],
            [
             0.5,
             "#f7f7f7"
            ],
            [
             0.6,
             "#e6f5d0"
            ],
            [
             0.7,
             "#b8e186"
            ],
            [
             0.8,
             "#7fbc41"
            ],
            [
             0.9,
             "#4d9221"
            ],
            [
             1,
             "#276419"
            ]
           ],
           "sequential": [
            [
             0,
             "#0d0887"
            ],
            [
             0.1111111111111111,
             "#46039f"
            ],
            [
             0.2222222222222222,
             "#7201a8"
            ],
            [
             0.3333333333333333,
             "#9c179e"
            ],
            [
             0.4444444444444444,
             "#bd3786"
            ],
            [
             0.5555555555555556,
             "#d8576b"
            ],
            [
             0.6666666666666666,
             "#ed7953"
            ],
            [
             0.7777777777777778,
             "#fb9f3a"
            ],
            [
             0.8888888888888888,
             "#fdca26"
            ],
            [
             1,
             "#f0f921"
            ]
           ],
           "sequentialminus": [
            [
             0,
             "#0d0887"
            ],
            [
             0.1111111111111111,
             "#46039f"
            ],
            [
             0.2222222222222222,
             "#7201a8"
            ],
            [
             0.3333333333333333,
             "#9c179e"
            ],
            [
             0.4444444444444444,
             "#bd3786"
            ],
            [
             0.5555555555555556,
             "#d8576b"
            ],
            [
             0.6666666666666666,
             "#ed7953"
            ],
            [
             0.7777777777777778,
             "#fb9f3a"
            ],
            [
             0.8888888888888888,
             "#fdca26"
            ],
            [
             1,
             "#f0f921"
            ]
           ]
          },
          "colorway": [
           "#636efa",
           "#EF553B",
           "#00cc96",
           "#ab63fa",
           "#FFA15A",
           "#19d3f3",
           "#FF6692",
           "#B6E880",
           "#FF97FF",
           "#FECB52"
          ],
          "font": {
           "color": "#2a3f5f"
          },
          "geo": {
           "bgcolor": "white",
           "lakecolor": "white",
           "landcolor": "#E5ECF6",
           "showlakes": true,
           "showland": true,
           "subunitcolor": "white"
          },
          "hoverlabel": {
           "align": "left"
          },
          "hovermode": "closest",
          "mapbox": {
           "style": "light"
          },
          "paper_bgcolor": "white",
          "plot_bgcolor": "#E5ECF6",
          "polar": {
           "angularaxis": {
            "gridcolor": "white",
            "linecolor": "white",
            "ticks": ""
           },
           "bgcolor": "#E5ECF6",
           "radialaxis": {
            "gridcolor": "white",
            "linecolor": "white",
            "ticks": ""
           }
          },
          "scene": {
           "xaxis": {
            "backgroundcolor": "#E5ECF6",
            "gridcolor": "white",
            "gridwidth": 2,
            "linecolor": "white",
            "showbackground": true,
            "ticks": "",
            "zerolinecolor": "white"
           },
           "yaxis": {
            "backgroundcolor": "#E5ECF6",
            "gridcolor": "white",
            "gridwidth": 2,
            "linecolor": "white",
            "showbackground": true,
            "ticks": "",
            "zerolinecolor": "white"
           },
           "zaxis": {
            "backgroundcolor": "#E5ECF6",
            "gridcolor": "white",
            "gridwidth": 2,
            "linecolor": "white",
            "showbackground": true,
            "ticks": "",
            "zerolinecolor": "white"
           }
          },
          "shapedefaults": {
           "line": {
            "color": "#2a3f5f"
           }
          },
          "ternary": {
           "aaxis": {
            "gridcolor": "white",
            "linecolor": "white",
            "ticks": ""
           },
           "baxis": {
            "gridcolor": "white",
            "linecolor": "white",
            "ticks": ""
           },
           "bgcolor": "#E5ECF6",
           "caxis": {
            "gridcolor": "white",
            "linecolor": "white",
            "ticks": ""
           }
          },
          "title": {
           "x": 0.05
          },
          "xaxis": {
           "automargin": true,
           "gridcolor": "white",
           "linecolor": "white",
           "ticks": "",
           "title": {
            "standoff": 15
           },
           "zerolinecolor": "white",
           "zerolinewidth": 2
          },
          "yaxis": {
           "automargin": true,
           "gridcolor": "white",
           "linecolor": "white",
           "ticks": "",
           "title": {
            "standoff": 15
           },
           "zerolinecolor": "white",
           "zerolinewidth": 2
          }
         }
        },
        "xaxis": {
         "anchor": "y",
         "domain": [
          0,
          1
         ],
         "title": {
          "text": "Experience"
         }
        },
        "yaxis": {
         "anchor": "x",
         "domain": [
          0,
          1
         ],
         "title": {
          "text": "HP"
         }
        }
       }
      }
     },
     "metadata": {},
     "output_type": "display_data"
    }
   ],
   "source": [
    "\n",
    "scatter = px.scatter(\n",
    "    Pokemon_DF.sort_values(by = 'Experience',ascending = False)[2:len(Pokemon_DF)-2],\n",
    "    x = 'Experience',\n",
    "    y = 'HP',\n",
    "    trendline= \"ols\",\n",
    "    hover_name = 'Pokemon'\n",
    ")\n",
    "\n",
    "scatter.show()"
   ]
  },
  {
   "cell_type": "code",
   "execution_count": 56,
   "metadata": {},
   "outputs": [
    {
     "data": {
      "text/html": [
       "<div>\n",
       "<style scoped>\n",
       "    .dataframe tbody tr th:only-of-type {\n",
       "        vertical-align: middle;\n",
       "    }\n",
       "\n",
       "    .dataframe tbody tr th {\n",
       "        vertical-align: top;\n",
       "    }\n",
       "\n",
       "    .dataframe thead th {\n",
       "        text-align: right;\n",
       "    }\n",
       "</style>\n",
       "<table border=\"1\" class=\"dataframe\">\n",
       "  <thead>\n",
       "    <tr style=\"text-align: right;\">\n",
       "      <th></th>\n",
       "      <th>Pokemon</th>\n",
       "      <th>Type</th>\n",
       "      <th>Attack</th>\n",
       "    </tr>\n",
       "  </thead>\n",
       "  <tbody>\n",
       "    <tr>\n",
       "      <th>248</th>\n",
       "      <td>tyranitar</td>\n",
       "      <td>rock</td>\n",
       "      <td>134</td>\n",
       "    </tr>\n",
       "    <tr>\n",
       "      <th>149</th>\n",
       "      <td>dragonite</td>\n",
       "      <td>dragon</td>\n",
       "      <td>134</td>\n",
       "    </tr>\n",
       "    <tr>\n",
       "      <th>136</th>\n",
       "      <td>flareon</td>\n",
       "      <td>fire</td>\n",
       "      <td>130</td>\n",
       "    </tr>\n",
       "    <tr>\n",
       "      <th>250</th>\n",
       "      <td>ho-oh</td>\n",
       "      <td>fire</td>\n",
       "      <td>130</td>\n",
       "    </tr>\n",
       "    <tr>\n",
       "      <th>68</th>\n",
       "      <td>machamp</td>\n",
       "      <td>fighting</td>\n",
       "      <td>130</td>\n",
       "    </tr>\n",
       "  </tbody>\n",
       "</table>\n",
       "</div>"
      ],
      "text/plain": [
       "       Pokemon      Type  Attack\n",
       "248  tyranitar      rock     134\n",
       "149  dragonite    dragon     134\n",
       "136    flareon      fire     130\n",
       "250      ho-oh      fire     130\n",
       "68     machamp  fighting     130"
      ]
     },
     "execution_count": 56,
     "metadata": {},
     "output_type": "execute_result"
    }
   ],
   "source": [
    "Pokemon_DF.sort_values(by = 'Attack',ascending = False)[0:5][['Pokemon','Type','Attack']]"
   ]
  },
  {
   "cell_type": "code",
   "execution_count": 49,
   "metadata": {},
   "outputs": [],
   "source": [
    "Pokemon_DF['attack_Exp_Ratio'] = Pokemon_DF['Attack']/Pokemon_DF['Experience']"
   ]
  },
  {
   "cell_type": "code",
   "execution_count": 52,
   "metadata": {},
   "outputs": [
    {
     "data": {
      "text/html": [
       "<div>\n",
       "<style scoped>\n",
       "    .dataframe tbody tr th:only-of-type {\n",
       "        vertical-align: middle;\n",
       "    }\n",
       "\n",
       "    .dataframe tbody tr th {\n",
       "        vertical-align: top;\n",
       "    }\n",
       "\n",
       "    .dataframe thead th {\n",
       "        text-align: right;\n",
       "    }\n",
       "</style>\n",
       "<table border=\"1\" class=\"dataframe\">\n",
       "  <thead>\n",
       "    <tr style=\"text-align: right;\">\n",
       "      <th></th>\n",
       "      <th>Pokemon</th>\n",
       "      <th>Type</th>\n",
       "      <th>Weight</th>\n",
       "      <th>Height</th>\n",
       "      <th>Experience</th>\n",
       "      <th>HP</th>\n",
       "      <th>Speed</th>\n",
       "      <th>Attack</th>\n",
       "      <th>Defense</th>\n",
       "      <th>attack_Exp_Ratio</th>\n",
       "    </tr>\n",
       "  </thead>\n",
       "  <tbody>\n",
       "    <tr>\n",
       "      <th>98</th>\n",
       "      <td>krabby</td>\n",
       "      <td>water</td>\n",
       "      <td>65</td>\n",
       "      <td>4</td>\n",
       "      <td>65</td>\n",
       "      <td>30</td>\n",
       "      <td>50</td>\n",
       "      <td>105</td>\n",
       "      <td>90</td>\n",
       "      <td>1.615385</td>\n",
       "    </tr>\n",
       "    <tr>\n",
       "      <th>84</th>\n",
       "      <td>doduo</td>\n",
       "      <td>normal</td>\n",
       "      <td>392</td>\n",
       "      <td>14</td>\n",
       "      <td>62</td>\n",
       "      <td>35</td>\n",
       "      <td>75</td>\n",
       "      <td>85</td>\n",
       "      <td>45</td>\n",
       "      <td>1.370968</td>\n",
       "    </tr>\n",
       "    <tr>\n",
       "      <th>209</th>\n",
       "      <td>snubbull</td>\n",
       "      <td>fairy</td>\n",
       "      <td>78</td>\n",
       "      <td>6</td>\n",
       "      <td>60</td>\n",
       "      <td>60</td>\n",
       "      <td>30</td>\n",
       "      <td>80</td>\n",
       "      <td>50</td>\n",
       "      <td>1.333333</td>\n",
       "    </tr>\n",
       "    <tr>\n",
       "      <th>74</th>\n",
       "      <td>geodude</td>\n",
       "      <td>rock</td>\n",
       "      <td>200</td>\n",
       "      <td>4</td>\n",
       "      <td>60</td>\n",
       "      <td>40</td>\n",
       "      <td>20</td>\n",
       "      <td>80</td>\n",
       "      <td>100</td>\n",
       "      <td>1.333333</td>\n",
       "    </tr>\n",
       "    <tr>\n",
       "      <th>56</th>\n",
       "      <td>mankey</td>\n",
       "      <td>fighting</td>\n",
       "      <td>280</td>\n",
       "      <td>5</td>\n",
       "      <td>61</td>\n",
       "      <td>40</td>\n",
       "      <td>70</td>\n",
       "      <td>80</td>\n",
       "      <td>35</td>\n",
       "      <td>1.311475</td>\n",
       "    </tr>\n",
       "    <tr>\n",
       "      <th>...</th>\n",
       "      <td>...</td>\n",
       "      <td>...</td>\n",
       "      <td>...</td>\n",
       "      <td>...</td>\n",
       "      <td>...</td>\n",
       "      <td>...</td>\n",
       "      <td>...</td>\n",
       "      <td>...</td>\n",
       "      <td>...</td>\n",
       "      <td>...</td>\n",
       "    </tr>\n",
       "    <tr>\n",
       "      <th>12</th>\n",
       "      <td>butterfree</td>\n",
       "      <td>bug</td>\n",
       "      <td>320</td>\n",
       "      <td>11</td>\n",
       "      <td>198</td>\n",
       "      <td>60</td>\n",
       "      <td>70</td>\n",
       "      <td>45</td>\n",
       "      <td>50</td>\n",
       "      <td>0.227273</td>\n",
       "    </tr>\n",
       "    <tr>\n",
       "      <th>65</th>\n",
       "      <td>alakazam</td>\n",
       "      <td>psychic</td>\n",
       "      <td>480</td>\n",
       "      <td>15</td>\n",
       "      <td>250</td>\n",
       "      <td>55</td>\n",
       "      <td>120</td>\n",
       "      <td>50</td>\n",
       "      <td>45</td>\n",
       "      <td>0.200000</td>\n",
       "    </tr>\n",
       "    <tr>\n",
       "      <th>213</th>\n",
       "      <td>shuckle</td>\n",
       "      <td>bug</td>\n",
       "      <td>205</td>\n",
       "      <td>6</td>\n",
       "      <td>177</td>\n",
       "      <td>20</td>\n",
       "      <td>5</td>\n",
       "      <td>10</td>\n",
       "      <td>230</td>\n",
       "      <td>0.056497</td>\n",
       "    </tr>\n",
       "    <tr>\n",
       "      <th>242</th>\n",
       "      <td>blissey</td>\n",
       "      <td>normal</td>\n",
       "      <td>468</td>\n",
       "      <td>15</td>\n",
       "      <td>635</td>\n",
       "      <td>255</td>\n",
       "      <td>55</td>\n",
       "      <td>10</td>\n",
       "      <td>10</td>\n",
       "      <td>0.015748</td>\n",
       "    </tr>\n",
       "    <tr>\n",
       "      <th>113</th>\n",
       "      <td>chansey</td>\n",
       "      <td>normal</td>\n",
       "      <td>346</td>\n",
       "      <td>11</td>\n",
       "      <td>395</td>\n",
       "      <td>250</td>\n",
       "      <td>50</td>\n",
       "      <td>5</td>\n",
       "      <td>5</td>\n",
       "      <td>0.012658</td>\n",
       "    </tr>\n",
       "  </tbody>\n",
       "</table>\n",
       "<p>251 rows × 10 columns</p>\n",
       "</div>"
      ],
      "text/plain": [
       "        Pokemon      Type  Weight  Height  Experience   HP  Speed  Attack  \\\n",
       "98       krabby     water      65       4          65   30     50     105   \n",
       "84        doduo    normal     392      14          62   35     75      85   \n",
       "209    snubbull     fairy      78       6          60   60     30      80   \n",
       "74      geodude      rock     200       4          60   40     20      80   \n",
       "56       mankey  fighting     280       5          61   40     70      80   \n",
       "..          ...       ...     ...     ...         ...  ...    ...     ...   \n",
       "12   butterfree       bug     320      11         198   60     70      45   \n",
       "65     alakazam   psychic     480      15         250   55    120      50   \n",
       "213     shuckle       bug     205       6         177   20      5      10   \n",
       "242     blissey    normal     468      15         635  255     55      10   \n",
       "113     chansey    normal     346      11         395  250     50       5   \n",
       "\n",
       "     Defense  attack_Exp_Ratio  \n",
       "98        90          1.615385  \n",
       "84        45          1.370968  \n",
       "209       50          1.333333  \n",
       "74       100          1.333333  \n",
       "56        35          1.311475  \n",
       "..       ...               ...  \n",
       "12        50          0.227273  \n",
       "65        45          0.200000  \n",
       "213      230          0.056497  \n",
       "242       10          0.015748  \n",
       "113        5          0.012658  \n",
       "\n",
       "[251 rows x 10 columns]"
      ]
     },
     "execution_count": 52,
     "metadata": {},
     "output_type": "execute_result"
    }
   ],
   "source": [
    "Pokemon_DF.sort_values(by = 'attack_Exp_Ratio', ascending = False)"
   ]
  },
  {
   "cell_type": "code",
   "execution_count": 96,
   "metadata": {},
   "outputs": [
    {
     "data": {
      "application/vnd.plotly.v1+json": {
       "config": {
        "plotlyServerURL": "https://plot.ly"
       },
       "data": [
        {
         "alignmentgroup": "True",
         "hovertemplate": "<b>%{hovertext}</b><br><br>Type=%{x}<br>Defense=%{y}<extra></extra>",
         "hovertext": [
          "steel"
         ],
         "legendgroup": "steel",
         "marker": {
          "color": "#B7B7CE",
          "pattern": {
           "shape": ""
          }
         },
         "name": "steel",
         "offsetgroup": "steel",
         "orientation": "v",
         "showlegend": true,
         "textposition": "auto",
         "type": "bar",
         "x": [
          "steel"
         ],
         "xaxis": "x",
         "y": [
          170
         ],
         "yaxis": "y"
        },
        {
         "alignmentgroup": "True",
         "hovertemplate": "<b>%{hovertext}</b><br><br>Type=%{x}<br>Defense=%{y}<extra></extra>",
         "hovertext": [
          "rock"
         ],
         "legendgroup": "rock",
         "marker": {
          "color": "#B6A136",
          "pattern": {
           "shape": ""
          }
         },
         "name": "rock",
         "offsetgroup": "rock",
         "orientation": "v",
         "showlegend": true,
         "textposition": "auto",
         "type": "bar",
         "x": [
          "rock"
         ],
         "xaxis": "x",
         "y": [
          102.69
         ],
         "yaxis": "y"
        },
        {
         "alignmentgroup": "True",
         "hovertemplate": "<b>%{hovertext}</b><br><br>Type=%{x}<br>Defense=%{y}<extra></extra>",
         "hovertext": [
          "ground"
         ],
         "legendgroup": "ground",
         "marker": {
          "color": "#E2BF65",
          "pattern": {
           "shape": ""
          }
         },
         "name": "ground",
         "offsetgroup": "ground",
         "orientation": "v",
         "showlegend": true,
         "textposition": "auto",
         "type": "bar",
         "x": [
          "ground"
         ],
         "xaxis": "x",
         "y": [
          88.64
         ],
         "yaxis": "y"
        },
        {
         "alignmentgroup": "True",
         "hovertemplate": "<b>%{hovertext}</b><br><br>Type=%{x}<br>Defense=%{y}<extra></extra>",
         "hovertext": [
          "water"
         ],
         "legendgroup": "water",
         "marker": {
          "color": "#6390F0",
          "pattern": {
           "shape": ""
          }
         },
         "name": "water",
         "offsetgroup": "water",
         "orientation": "v",
         "showlegend": true,
         "textposition": "auto",
         "type": "bar",
         "x": [
          "water"
         ],
         "xaxis": "x",
         "y": [
          75.98
         ],
         "yaxis": "y"
        },
        {
         "alignmentgroup": "True",
         "hovertemplate": "<b>%{hovertext}</b><br><br>Type=%{x}<br>Defense=%{y}<extra></extra>",
         "hovertext": [
          "bug"
         ],
         "legendgroup": "bug",
         "marker": {
          "color": "#A6B91A",
          "pattern": {
           "shape": ""
          }
         },
         "name": "bug",
         "offsetgroup": "bug",
         "orientation": "v",
         "showlegend": true,
         "textposition": "auto",
         "type": "bar",
         "x": [
          "bug"
         ],
         "xaxis": "x",
         "y": [
          70.68
         ],
         "yaxis": "y"
        }
       ],
       "layout": {
        "barmode": "relative",
        "legend": {
         "title": {
          "text": "Type"
         },
         "tracegroupgap": 0
        },
        "margin": {
         "t": 60
        },
        "showlegend": false,
        "template": {
         "data": {
          "bar": [
           {
            "error_x": {
             "color": "#2a3f5f"
            },
            "error_y": {
             "color": "#2a3f5f"
            },
            "marker": {
             "line": {
              "color": "#E5ECF6",
              "width": 0.5
             },
             "pattern": {
              "fillmode": "overlay",
              "size": 10,
              "solidity": 0.2
             }
            },
            "type": "bar"
           }
          ],
          "barpolar": [
           {
            "marker": {
             "line": {
              "color": "#E5ECF6",
              "width": 0.5
             },
             "pattern": {
              "fillmode": "overlay",
              "size": 10,
              "solidity": 0.2
             }
            },
            "type": "barpolar"
           }
          ],
          "carpet": [
           {
            "aaxis": {
             "endlinecolor": "#2a3f5f",
             "gridcolor": "white",
             "linecolor": "white",
             "minorgridcolor": "white",
             "startlinecolor": "#2a3f5f"
            },
            "baxis": {
             "endlinecolor": "#2a3f5f",
             "gridcolor": "white",
             "linecolor": "white",
             "minorgridcolor": "white",
             "startlinecolor": "#2a3f5f"
            },
            "type": "carpet"
           }
          ],
          "choropleth": [
           {
            "colorbar": {
             "outlinewidth": 0,
             "ticks": ""
            },
            "type": "choropleth"
           }
          ],
          "contour": [
           {
            "colorbar": {
             "outlinewidth": 0,
             "ticks": ""
            },
            "colorscale": [
             [
              0,
              "#0d0887"
             ],
             [
              0.1111111111111111,
              "#46039f"
             ],
             [
              0.2222222222222222,
              "#7201a8"
             ],
             [
              0.3333333333333333,
              "#9c179e"
             ],
             [
              0.4444444444444444,
              "#bd3786"
             ],
             [
              0.5555555555555556,
              "#d8576b"
             ],
             [
              0.6666666666666666,
              "#ed7953"
             ],
             [
              0.7777777777777778,
              "#fb9f3a"
             ],
             [
              0.8888888888888888,
              "#fdca26"
             ],
             [
              1,
              "#f0f921"
             ]
            ],
            "type": "contour"
           }
          ],
          "contourcarpet": [
           {
            "colorbar": {
             "outlinewidth": 0,
             "ticks": ""
            },
            "type": "contourcarpet"
           }
          ],
          "heatmap": [
           {
            "colorbar": {
             "outlinewidth": 0,
             "ticks": ""
            },
            "colorscale": [
             [
              0,
              "#0d0887"
             ],
             [
              0.1111111111111111,
              "#46039f"
             ],
             [
              0.2222222222222222,
              "#7201a8"
             ],
             [
              0.3333333333333333,
              "#9c179e"
             ],
             [
              0.4444444444444444,
              "#bd3786"
             ],
             [
              0.5555555555555556,
              "#d8576b"
             ],
             [
              0.6666666666666666,
              "#ed7953"
             ],
             [
              0.7777777777777778,
              "#fb9f3a"
             ],
             [
              0.8888888888888888,
              "#fdca26"
             ],
             [
              1,
              "#f0f921"
             ]
            ],
            "type": "heatmap"
           }
          ],
          "heatmapgl": [
           {
            "colorbar": {
             "outlinewidth": 0,
             "ticks": ""
            },
            "colorscale": [
             [
              0,
              "#0d0887"
             ],
             [
              0.1111111111111111,
              "#46039f"
             ],
             [
              0.2222222222222222,
              "#7201a8"
             ],
             [
              0.3333333333333333,
              "#9c179e"
             ],
             [
              0.4444444444444444,
              "#bd3786"
             ],
             [
              0.5555555555555556,
              "#d8576b"
             ],
             [
              0.6666666666666666,
              "#ed7953"
             ],
             [
              0.7777777777777778,
              "#fb9f3a"
             ],
             [
              0.8888888888888888,
              "#fdca26"
             ],
             [
              1,
              "#f0f921"
             ]
            ],
            "type": "heatmapgl"
           }
          ],
          "histogram": [
           {
            "marker": {
             "pattern": {
              "fillmode": "overlay",
              "size": 10,
              "solidity": 0.2
             }
            },
            "type": "histogram"
           }
          ],
          "histogram2d": [
           {
            "colorbar": {
             "outlinewidth": 0,
             "ticks": ""
            },
            "colorscale": [
             [
              0,
              "#0d0887"
             ],
             [
              0.1111111111111111,
              "#46039f"
             ],
             [
              0.2222222222222222,
              "#7201a8"
             ],
             [
              0.3333333333333333,
              "#9c179e"
             ],
             [
              0.4444444444444444,
              "#bd3786"
             ],
             [
              0.5555555555555556,
              "#d8576b"
             ],
             [
              0.6666666666666666,
              "#ed7953"
             ],
             [
              0.7777777777777778,
              "#fb9f3a"
             ],
             [
              0.8888888888888888,
              "#fdca26"
             ],
             [
              1,
              "#f0f921"
             ]
            ],
            "type": "histogram2d"
           }
          ],
          "histogram2dcontour": [
           {
            "colorbar": {
             "outlinewidth": 0,
             "ticks": ""
            },
            "colorscale": [
             [
              0,
              "#0d0887"
             ],
             [
              0.1111111111111111,
              "#46039f"
             ],
             [
              0.2222222222222222,
              "#7201a8"
             ],
             [
              0.3333333333333333,
              "#9c179e"
             ],
             [
              0.4444444444444444,
              "#bd3786"
             ],
             [
              0.5555555555555556,
              "#d8576b"
             ],
             [
              0.6666666666666666,
              "#ed7953"
             ],
             [
              0.7777777777777778,
              "#fb9f3a"
             ],
             [
              0.8888888888888888,
              "#fdca26"
             ],
             [
              1,
              "#f0f921"
             ]
            ],
            "type": "histogram2dcontour"
           }
          ],
          "mesh3d": [
           {
            "colorbar": {
             "outlinewidth": 0,
             "ticks": ""
            },
            "type": "mesh3d"
           }
          ],
          "parcoords": [
           {
            "line": {
             "colorbar": {
              "outlinewidth": 0,
              "ticks": ""
             }
            },
            "type": "parcoords"
           }
          ],
          "pie": [
           {
            "automargin": true,
            "type": "pie"
           }
          ],
          "scatter": [
           {
            "marker": {
             "colorbar": {
              "outlinewidth": 0,
              "ticks": ""
             }
            },
            "type": "scatter"
           }
          ],
          "scatter3d": [
           {
            "line": {
             "colorbar": {
              "outlinewidth": 0,
              "ticks": ""
             }
            },
            "marker": {
             "colorbar": {
              "outlinewidth": 0,
              "ticks": ""
             }
            },
            "type": "scatter3d"
           }
          ],
          "scattercarpet": [
           {
            "marker": {
             "colorbar": {
              "outlinewidth": 0,
              "ticks": ""
             }
            },
            "type": "scattercarpet"
           }
          ],
          "scattergeo": [
           {
            "marker": {
             "colorbar": {
              "outlinewidth": 0,
              "ticks": ""
             }
            },
            "type": "scattergeo"
           }
          ],
          "scattergl": [
           {
            "marker": {
             "colorbar": {
              "outlinewidth": 0,
              "ticks": ""
             }
            },
            "type": "scattergl"
           }
          ],
          "scattermapbox": [
           {
            "marker": {
             "colorbar": {
              "outlinewidth": 0,
              "ticks": ""
             }
            },
            "type": "scattermapbox"
           }
          ],
          "scatterpolar": [
           {
            "marker": {
             "colorbar": {
              "outlinewidth": 0,
              "ticks": ""
             }
            },
            "type": "scatterpolar"
           }
          ],
          "scatterpolargl": [
           {
            "marker": {
             "colorbar": {
              "outlinewidth": 0,
              "ticks": ""
             }
            },
            "type": "scatterpolargl"
           }
          ],
          "scatterternary": [
           {
            "marker": {
             "colorbar": {
              "outlinewidth": 0,
              "ticks": ""
             }
            },
            "type": "scatterternary"
           }
          ],
          "surface": [
           {
            "colorbar": {
             "outlinewidth": 0,
             "ticks": ""
            },
            "colorscale": [
             [
              0,
              "#0d0887"
             ],
             [
              0.1111111111111111,
              "#46039f"
             ],
             [
              0.2222222222222222,
              "#7201a8"
             ],
             [
              0.3333333333333333,
              "#9c179e"
             ],
             [
              0.4444444444444444,
              "#bd3786"
             ],
             [
              0.5555555555555556,
              "#d8576b"
             ],
             [
              0.6666666666666666,
              "#ed7953"
             ],
             [
              0.7777777777777778,
              "#fb9f3a"
             ],
             [
              0.8888888888888888,
              "#fdca26"
             ],
             [
              1,
              "#f0f921"
             ]
            ],
            "type": "surface"
           }
          ],
          "table": [
           {
            "cells": {
             "fill": {
              "color": "#EBF0F8"
             },
             "line": {
              "color": "white"
             }
            },
            "header": {
             "fill": {
              "color": "#C8D4E3"
             },
             "line": {
              "color": "white"
             }
            },
            "type": "table"
           }
          ]
         },
         "layout": {
          "annotationdefaults": {
           "arrowcolor": "#2a3f5f",
           "arrowhead": 0,
           "arrowwidth": 1
          },
          "autotypenumbers": "strict",
          "coloraxis": {
           "colorbar": {
            "outlinewidth": 0,
            "ticks": ""
           }
          },
          "colorscale": {
           "diverging": [
            [
             0,
             "#8e0152"
            ],
            [
             0.1,
             "#c51b7d"
            ],
            [
             0.2,
             "#de77ae"
            ],
            [
             0.3,
             "#f1b6da"
            ],
            [
             0.4,
             "#fde0ef"
            ],
            [
             0.5,
             "#f7f7f7"
            ],
            [
             0.6,
             "#e6f5d0"
            ],
            [
             0.7,
             "#b8e186"
            ],
            [
             0.8,
             "#7fbc41"
            ],
            [
             0.9,
             "#4d9221"
            ],
            [
             1,
             "#276419"
            ]
           ],
           "sequential": [
            [
             0,
             "#0d0887"
            ],
            [
             0.1111111111111111,
             "#46039f"
            ],
            [
             0.2222222222222222,
             "#7201a8"
            ],
            [
             0.3333333333333333,
             "#9c179e"
            ],
            [
             0.4444444444444444,
             "#bd3786"
            ],
            [
             0.5555555555555556,
             "#d8576b"
            ],
            [
             0.6666666666666666,
             "#ed7953"
            ],
            [
             0.7777777777777778,
             "#fb9f3a"
            ],
            [
             0.8888888888888888,
             "#fdca26"
            ],
            [
             1,
             "#f0f921"
            ]
           ],
           "sequentialminus": [
            [
             0,
             "#0d0887"
            ],
            [
             0.1111111111111111,
             "#46039f"
            ],
            [
             0.2222222222222222,
             "#7201a8"
            ],
            [
             0.3333333333333333,
             "#9c179e"
            ],
            [
             0.4444444444444444,
             "#bd3786"
            ],
            [
             0.5555555555555556,
             "#d8576b"
            ],
            [
             0.6666666666666666,
             "#ed7953"
            ],
            [
             0.7777777777777778,
             "#fb9f3a"
            ],
            [
             0.8888888888888888,
             "#fdca26"
            ],
            [
             1,
             "#f0f921"
            ]
           ]
          },
          "colorway": [
           "#636efa",
           "#EF553B",
           "#00cc96",
           "#ab63fa",
           "#FFA15A",
           "#19d3f3",
           "#FF6692",
           "#B6E880",
           "#FF97FF",
           "#FECB52"
          ],
          "font": {
           "color": "#2a3f5f"
          },
          "geo": {
           "bgcolor": "white",
           "lakecolor": "white",
           "landcolor": "#E5ECF6",
           "showlakes": true,
           "showland": true,
           "subunitcolor": "white"
          },
          "hoverlabel": {
           "align": "left"
          },
          "hovermode": "closest",
          "mapbox": {
           "style": "light"
          },
          "paper_bgcolor": "white",
          "plot_bgcolor": "#E5ECF6",
          "polar": {
           "angularaxis": {
            "gridcolor": "white",
            "linecolor": "white",
            "ticks": ""
           },
           "bgcolor": "#E5ECF6",
           "radialaxis": {
            "gridcolor": "white",
            "linecolor": "white",
            "ticks": ""
           }
          },
          "scene": {
           "xaxis": {
            "backgroundcolor": "#E5ECF6",
            "gridcolor": "white",
            "gridwidth": 2,
            "linecolor": "white",
            "showbackground": true,
            "ticks": "",
            "zerolinecolor": "white"
           },
           "yaxis": {
            "backgroundcolor": "#E5ECF6",
            "gridcolor": "white",
            "gridwidth": 2,
            "linecolor": "white",
            "showbackground": true,
            "ticks": "",
            "zerolinecolor": "white"
           },
           "zaxis": {
            "backgroundcolor": "#E5ECF6",
            "gridcolor": "white",
            "gridwidth": 2,
            "linecolor": "white",
            "showbackground": true,
            "ticks": "",
            "zerolinecolor": "white"
           }
          },
          "shapedefaults": {
           "line": {
            "color": "#2a3f5f"
           }
          },
          "ternary": {
           "aaxis": {
            "gridcolor": "white",
            "linecolor": "white",
            "ticks": ""
           },
           "baxis": {
            "gridcolor": "white",
            "linecolor": "white",
            "ticks": ""
           },
           "bgcolor": "#E5ECF6",
           "caxis": {
            "gridcolor": "white",
            "linecolor": "white",
            "ticks": ""
           }
          },
          "title": {
           "x": 0.05
          },
          "xaxis": {
           "automargin": true,
           "gridcolor": "white",
           "linecolor": "white",
           "ticks": "",
           "title": {
            "standoff": 15
           },
           "zerolinecolor": "white",
           "zerolinewidth": 2
          },
          "yaxis": {
           "automargin": true,
           "gridcolor": "white",
           "linecolor": "white",
           "ticks": "",
           "title": {
            "standoff": 15
           },
           "zerolinecolor": "white",
           "zerolinewidth": 2
          }
         }
        },
        "title": {
         "text": "Mean HP by Pokemon Type",
         "x": 0.5,
         "xanchor": "center",
         "y": 0.955,
         "yanchor": "top"
        },
        "xaxis": {
         "anchor": "y",
         "categoryarray": [
          "steel",
          "rock",
          "ground",
          "water",
          "bug"
         ],
         "categoryorder": "array",
         "domain": [
          0,
          1
         ],
         "title": {
          "text": "Type"
         }
        },
        "yaxis": {
         "anchor": "x",
         "domain": [
          0,
          1
         ],
         "title": {
          "text": "Defense"
         }
        }
       }
      }
     },
     "metadata": {},
     "output_type": "display_data"
    }
   ],
   "source": [
    "# Bar chart Showing Mean HP by Pokemon Type\n",
    "\n",
    "Defense_Means = round(Pokemon_DF.groupby(by = 'Type').mean().reset_index()[['Type','Defense']],2)\n",
    "\n",
    "DefenseBar = px.bar(\n",
    "    Defense_Means.sort_values(by = 'Defense',ascending = False)[0:5],\n",
    "    x = 'Type',\n",
    "    y = 'Defense',\n",
    "    color='Type',\n",
    "    hover_name = 'Type',\n",
    "    color_discrete_map = colours_dict\n",
    ")\n",
    "DefenseBar.update_layout(\n",
    "    showlegend=False,\n",
    "    title={\n",
    "    'text': 'Mean HP by Pokemon Type',\n",
    "    'y':.955,\n",
    "    'x':0.5,\n",
    "    'xanchor': 'center',\n",
    "    'yanchor': 'top'}\n",
    ")\n",
    "\n",
    "DefenseBar.show()"
   ]
  },
  {
   "cell_type": "code",
   "execution_count": 69,
   "metadata": {},
   "outputs": [
    {
     "ename": "ValueError",
     "evalue": "\n    Invalid element(s) received for the 'data' property of \n        Invalid elements include: [Figure({\n    'data': [{'alignmentgroup': 'True',\n              'hovertemplate': '<b>%{hovertext}</b><br><br>Type=%{x}<br>HP=%{y}<extra></extra>',\n              'hovertext': array(['normal'], dtype=object),\n              'legendgroup': 'normal',\n              'marker': {'color': '#A8A77A', 'pattern': {'shape': ''}},\n              'name': 'normal',\n              'offsetgroup': 'normal',\n              'orientation': 'v',\n              'showlegend': True,\n              'textposition': 'auto',\n              'type': 'bar',\n              'x': array(['normal'], dtype=object),\n              'xaxis': 'x',\n              'y': array([82.14]),\n              'yaxis': 'y'},\n             {'alignmentgroup': 'True',\n              'hovertemplate': '<b>%{hovertext}</b><br><br>Type=%{x}<br>HP=%{y}<extra></extra>',\n              'hovertext': array(['psychic'], dtype=object),\n              'legendgroup': 'psychic',\n              'marker': {'color': '#F95587', 'pattern': {'shape': ''}},\n              'name': 'psychic',\n              'offsetgroup': 'psychic',\n              'orientation': 'v',\n              'showlegend': True,\n              'textposition': 'auto',\n              'type': 'bar',\n              'x': array(['psychic'], dtype=object),\n              'xaxis': 'x',\n              'y': array([75.]),\n              'yaxis': 'y'},\n             {'alignmentgroup': 'True',\n              'hovertemplate': '<b>%{hovertext}</b><br><br>Type=%{x}<br>HP=%{y}<extra></extra>',\n              'hovertext': array(['steel'], dtype=object),\n              'legendgroup': 'steel',\n              'marker': {'color': '#B7B7CE', 'pattern': {'shape': ''}},\n              'name': 'steel',\n              'offsetgroup': 'steel',\n              'orientation': 'v',\n              'showlegend': True,\n              'textposition': 'auto',\n              'type': 'bar',\n              'x': array(['steel'], dtype=object),\n              'xaxis': 'x',\n              'y': array([70.]),\n              'yaxis': 'y'},\n             {'alignmentgroup': 'True',\n              'hovertemplate': '<b>%{hovertext}</b><br><br>Type=%{x}<br>HP=%{y}<extra></extra>',\n              'hovertext': array(['water'], dtype=object),\n              'legendgroup': 'water',\n              'marker': {'color': '#6390F0', 'pattern': {'shape': ''}},\n              'name': 'water',\n              'offsetgroup': 'water',\n              'orientation': 'v',\n              'showlegend': True,\n              'textposition': 'auto',\n              'type': 'bar',\n              'x': array(['water'], dtype=object),\n              'xaxis': 'x',\n              'y': array([69.83]),\n              'yaxis': 'y'},\n             {'alignmentgroup': 'True',\n              'hovertemplate': '<b>%{hovertext}</b><br><br>Type=%{x}<br>HP=%{y}<extra></extra>',\n              'hovertext': array(['dark'], dtype=object),\n              'legendgroup': 'dark',\n              'marker': {'color': '#705746', 'pattern': {'shape': ''}},\n              'name': 'dark',\n              'offsetgroup': 'dark',\n              'orientation': 'v',\n              'showlegend': True,\n              'textposition': 'auto',\n              'type': 'bar',\n              'x': array(['dark'], dtype=object),\n              'xaxis': 'x',\n              'y': array([66.]),\n              'yaxis': 'y'}],\n    'layout': {'barmode': 'relative',\n               'legend': {'title': {'text': 'Type'}, 'tracegroupgap': 0},\n               'margin': {'t': 60},\n               'showlegend': False,\n               'template': '...',\n               'title': {'text': 'Mean HP by Pokemon Type', 'x': 0.5, 'xanchor': 'center', 'y': 0.923, 'yanchor': 'top'},\n               'xaxis': {'anchor': 'y',\n                         'categoryarray': [normal, psychic, steel, water, dark],\n                         'categoryorder': 'array',\n                         'domain': [0.0, 1.0],\n                         'title': {'text': 'Type'}},\n               'yaxis': {'anchor': 'x', 'domain': [0.0, 1.0], 'title': {'text': 'HP'}}}\n})]\n\n    The 'data' property is a tuple of trace instances\n    that may be specified as:\n      - A list or tuple of trace instances\n        (e.g. [Scatter(...), Bar(...)])\n      - A single trace instance\n        (e.g. Scatter(...), Bar(...), etc.)\n      - A list or tuple of dicts of string/value properties where:\n        - The 'type' property specifies the trace type\n            One of: ['bar', 'barpolar', 'box', 'candlestick',\n                     'carpet', 'choropleth', 'choroplethmapbox',\n                     'cone', 'contour', 'contourcarpet',\n                     'densitymapbox', 'funnel', 'funnelarea',\n                     'heatmap', 'heatmapgl', 'histogram',\n                     'histogram2d', 'histogram2dcontour', 'icicle',\n                     'image', 'indicator', 'isosurface', 'mesh3d',\n                     'ohlc', 'parcats', 'parcoords', 'pie',\n                     'pointcloud', 'sankey', 'scatter',\n                     'scatter3d', 'scattercarpet', 'scattergeo',\n                     'scattergl', 'scattermapbox', 'scatterpolar',\n                     'scatterpolargl', 'scattersmith',\n                     'scatterternary', 'splom', 'streamtube',\n                     'sunburst', 'surface', 'table', 'treemap',\n                     'violin', 'volume', 'waterfall']\n\n        - All remaining properties are passed to the constructor of\n          the specified trace type\n\n        (e.g. [{'type': 'scatter', ...}, {'type': 'bar, ...}])",
     "output_type": "error",
     "traceback": [
      "\u001b[1;31m---------------------------------------------------------------------------\u001b[0m",
      "\u001b[1;31mValueError\u001b[0m                                Traceback (most recent call last)",
      "\u001b[1;32m~\\AppData\\Local\\Temp/ipykernel_9148/382187586.py\u001b[0m in \u001b[0;36m<module>\u001b[1;34m\u001b[0m\n\u001b[0;32m      1\u001b[0m \u001b[0msub_plots\u001b[0m \u001b[1;33m=\u001b[0m \u001b[0mmake_subplots\u001b[0m\u001b[1;33m(\u001b[0m\u001b[0mrows\u001b[0m \u001b[1;33m=\u001b[0m \u001b[1;36m1\u001b[0m\u001b[1;33m,\u001b[0m \u001b[0mcols\u001b[0m \u001b[1;33m=\u001b[0m \u001b[1;36m2\u001b[0m\u001b[1;33m)\u001b[0m\u001b[1;33m\u001b[0m\u001b[1;33m\u001b[0m\u001b[0m\n\u001b[1;32m----> 2\u001b[1;33m \u001b[0msub_plots\u001b[0m\u001b[1;33m.\u001b[0m\u001b[0madd_trace\u001b[0m\u001b[1;33m(\u001b[0m\u001b[0mHPBar\u001b[0m\u001b[1;33m,\u001b[0m\u001b[0mrow\u001b[0m\u001b[1;33m=\u001b[0m\u001b[1;36m1\u001b[0m\u001b[1;33m,\u001b[0m \u001b[0mcol\u001b[0m\u001b[1;33m=\u001b[0m\u001b[1;36m1\u001b[0m\u001b[1;33m)\u001b[0m\u001b[1;33m\u001b[0m\u001b[1;33m\u001b[0m\u001b[0m\n\u001b[0m\u001b[0;32m      3\u001b[0m \u001b[0msub_plots\u001b[0m\u001b[1;33m.\u001b[0m\u001b[0madd_trace\u001b[0m\u001b[1;33m(\u001b[0m\u001b[0mDefenseBar\u001b[0m\u001b[1;33m,\u001b[0m\u001b[0mrow\u001b[0m\u001b[1;33m=\u001b[0m\u001b[1;36m1\u001b[0m\u001b[1;33m,\u001b[0m \u001b[0mcol\u001b[0m\u001b[1;33m=\u001b[0m\u001b[1;36m1\u001b[0m\u001b[1;33m)\u001b[0m\u001b[1;33m\u001b[0m\u001b[1;33m\u001b[0m\u001b[0m\n",
      "\u001b[1;32mc:\\Users\\mcdlu\\AppData\\Local\\Programs\\Python\\Python39\\lib\\site-packages\\plotly\\basedatatypes.py\u001b[0m in \u001b[0;36madd_trace\u001b[1;34m(self, trace, row, col, secondary_y, exclude_empty_subplots)\u001b[0m\n\u001b[0;32m   2097\u001b[0m             \u001b[1;32mreturn\u001b[0m \u001b[0mself\u001b[0m\u001b[1;33m\u001b[0m\u001b[1;33m\u001b[0m\u001b[0m\n\u001b[0;32m   2098\u001b[0m \u001b[1;33m\u001b[0m\u001b[0m\n\u001b[1;32m-> 2099\u001b[1;33m         return self.add_traces(\n\u001b[0m\u001b[0;32m   2100\u001b[0m             \u001b[0mdata\u001b[0m\u001b[1;33m=\u001b[0m\u001b[1;33m[\u001b[0m\u001b[0mtrace\u001b[0m\u001b[1;33m]\u001b[0m\u001b[1;33m,\u001b[0m\u001b[1;33m\u001b[0m\u001b[1;33m\u001b[0m\u001b[0m\n\u001b[0;32m   2101\u001b[0m             \u001b[0mrows\u001b[0m\u001b[1;33m=\u001b[0m\u001b[1;33m[\u001b[0m\u001b[0mrow\u001b[0m\u001b[1;33m]\u001b[0m \u001b[1;32mif\u001b[0m \u001b[0mrow\u001b[0m \u001b[1;32mis\u001b[0m \u001b[1;32mnot\u001b[0m \u001b[1;32mNone\u001b[0m \u001b[1;32melse\u001b[0m \u001b[1;32mNone\u001b[0m\u001b[1;33m,\u001b[0m\u001b[1;33m\u001b[0m\u001b[1;33m\u001b[0m\u001b[0m\n",
      "\u001b[1;32mc:\\Users\\mcdlu\\AppData\\Local\\Programs\\Python\\Python39\\lib\\site-packages\\plotly\\basedatatypes.py\u001b[0m in \u001b[0;36madd_traces\u001b[1;34m(self, data, rows, cols, secondary_ys, exclude_empty_subplots)\u001b[0m\n\u001b[0;32m   2181\u001b[0m \u001b[1;33m\u001b[0m\u001b[0m\n\u001b[0;32m   2182\u001b[0m         \u001b[1;31m# Validate traces\u001b[0m\u001b[1;33m\u001b[0m\u001b[1;33m\u001b[0m\u001b[0m\n\u001b[1;32m-> 2183\u001b[1;33m         \u001b[0mdata\u001b[0m \u001b[1;33m=\u001b[0m \u001b[0mself\u001b[0m\u001b[1;33m.\u001b[0m\u001b[0m_data_validator\u001b[0m\u001b[1;33m.\u001b[0m\u001b[0mvalidate_coerce\u001b[0m\u001b[1;33m(\u001b[0m\u001b[0mdata\u001b[0m\u001b[1;33m)\u001b[0m\u001b[1;33m\u001b[0m\u001b[1;33m\u001b[0m\u001b[0m\n\u001b[0m\u001b[0;32m   2184\u001b[0m \u001b[1;33m\u001b[0m\u001b[0m\n\u001b[0;32m   2185\u001b[0m         \u001b[1;31m# Set trace indexes\u001b[0m\u001b[1;33m\u001b[0m\u001b[1;33m\u001b[0m\u001b[0m\n",
      "\u001b[1;32mc:\\Users\\mcdlu\\AppData\\Local\\Programs\\Python\\Python39\\lib\\site-packages\\_plotly_utils\\basevalidators.py\u001b[0m in \u001b[0;36mvalidate_coerce\u001b[1;34m(self, v, skip_invalid, _validate)\u001b[0m\n\u001b[0;32m   2692\u001b[0m \u001b[1;33m\u001b[0m\u001b[0m\n\u001b[0;32m   2693\u001b[0m             \u001b[1;32mif\u001b[0m \u001b[0minvalid_els\u001b[0m\u001b[1;33m:\u001b[0m\u001b[1;33m\u001b[0m\u001b[1;33m\u001b[0m\u001b[0m\n\u001b[1;32m-> 2694\u001b[1;33m                 \u001b[0mself\u001b[0m\u001b[1;33m.\u001b[0m\u001b[0mraise_invalid_elements\u001b[0m\u001b[1;33m(\u001b[0m\u001b[0minvalid_els\u001b[0m\u001b[1;33m)\u001b[0m\u001b[1;33m\u001b[0m\u001b[1;33m\u001b[0m\u001b[0m\n\u001b[0m\u001b[0;32m   2695\u001b[0m \u001b[1;33m\u001b[0m\u001b[0m\n\u001b[0;32m   2696\u001b[0m             \u001b[0mv\u001b[0m \u001b[1;33m=\u001b[0m \u001b[0mto_scalar_or_list\u001b[0m\u001b[1;33m(\u001b[0m\u001b[0mres\u001b[0m\u001b[1;33m)\u001b[0m\u001b[1;33m\u001b[0m\u001b[1;33m\u001b[0m\u001b[0m\n",
      "\u001b[1;32mc:\\Users\\mcdlu\\AppData\\Local\\Programs\\Python\\Python39\\lib\\site-packages\\_plotly_utils\\basevalidators.py\u001b[0m in \u001b[0;36mraise_invalid_elements\u001b[1;34m(self, invalid_els)\u001b[0m\n\u001b[0;32m    303\u001b[0m     \u001b[1;32mdef\u001b[0m \u001b[0mraise_invalid_elements\u001b[0m\u001b[1;33m(\u001b[0m\u001b[0mself\u001b[0m\u001b[1;33m,\u001b[0m \u001b[0minvalid_els\u001b[0m\u001b[1;33m)\u001b[0m\u001b[1;33m:\u001b[0m\u001b[1;33m\u001b[0m\u001b[1;33m\u001b[0m\u001b[0m\n\u001b[0;32m    304\u001b[0m         \u001b[1;32mif\u001b[0m \u001b[0minvalid_els\u001b[0m\u001b[1;33m:\u001b[0m\u001b[1;33m\u001b[0m\u001b[1;33m\u001b[0m\u001b[0m\n\u001b[1;32m--> 305\u001b[1;33m             raise ValueError(\n\u001b[0m\u001b[0;32m    306\u001b[0m                 \"\"\"\n\u001b[0;32m    307\u001b[0m     \u001b[0mInvalid\u001b[0m \u001b[0melement\u001b[0m\u001b[1;33m(\u001b[0m\u001b[0ms\u001b[0m\u001b[1;33m)\u001b[0m \u001b[0mreceived\u001b[0m \u001b[1;32mfor\u001b[0m \u001b[0mthe\u001b[0m \u001b[1;34m'{name}'\u001b[0m \u001b[0mproperty\u001b[0m \u001b[0mof\u001b[0m \u001b[1;33m{\u001b[0m\u001b[0mpname\u001b[0m\u001b[1;33m}\u001b[0m\u001b[1;33m\u001b[0m\u001b[1;33m\u001b[0m\u001b[0m\n",
      "\u001b[1;31mValueError\u001b[0m: \n    Invalid element(s) received for the 'data' property of \n        Invalid elements include: [Figure({\n    'data': [{'alignmentgroup': 'True',\n              'hovertemplate': '<b>%{hovertext}</b><br><br>Type=%{x}<br>HP=%{y}<extra></extra>',\n              'hovertext': array(['normal'], dtype=object),\n              'legendgroup': 'normal',\n              'marker': {'color': '#A8A77A', 'pattern': {'shape': ''}},\n              'name': 'normal',\n              'offsetgroup': 'normal',\n              'orientation': 'v',\n              'showlegend': True,\n              'textposition': 'auto',\n              'type': 'bar',\n              'x': array(['normal'], dtype=object),\n              'xaxis': 'x',\n              'y': array([82.14]),\n              'yaxis': 'y'},\n             {'alignmentgroup': 'True',\n              'hovertemplate': '<b>%{hovertext}</b><br><br>Type=%{x}<br>HP=%{y}<extra></extra>',\n              'hovertext': array(['psychic'], dtype=object),\n              'legendgroup': 'psychic',\n              'marker': {'color': '#F95587', 'pattern': {'shape': ''}},\n              'name': 'psychic',\n              'offsetgroup': 'psychic',\n              'orientation': 'v',\n              'showlegend': True,\n              'textposition': 'auto',\n              'type': 'bar',\n              'x': array(['psychic'], dtype=object),\n              'xaxis': 'x',\n              'y': array([75.]),\n              'yaxis': 'y'},\n             {'alignmentgroup': 'True',\n              'hovertemplate': '<b>%{hovertext}</b><br><br>Type=%{x}<br>HP=%{y}<extra></extra>',\n              'hovertext': array(['steel'], dtype=object),\n              'legendgroup': 'steel',\n              'marker': {'color': '#B7B7CE', 'pattern': {'shape': ''}},\n              'name': 'steel',\n              'offsetgroup': 'steel',\n              'orientation': 'v',\n              'showlegend': True,\n              'textposition': 'auto',\n              'type': 'bar',\n              'x': array(['steel'], dtype=object),\n              'xaxis': 'x',\n              'y': array([70.]),\n              'yaxis': 'y'},\n             {'alignmentgroup': 'True',\n              'hovertemplate': '<b>%{hovertext}</b><br><br>Type=%{x}<br>HP=%{y}<extra></extra>',\n              'hovertext': array(['water'], dtype=object),\n              'legendgroup': 'water',\n              'marker': {'color': '#6390F0', 'pattern': {'shape': ''}},\n              'name': 'water',\n              'offsetgroup': 'water',\n              'orientation': 'v',\n              'showlegend': True,\n              'textposition': 'auto',\n              'type': 'bar',\n              'x': array(['water'], dtype=object),\n              'xaxis': 'x',\n              'y': array([69.83]),\n              'yaxis': 'y'},\n             {'alignmentgroup': 'True',\n              'hovertemplate': '<b>%{hovertext}</b><br><br>Type=%{x}<br>HP=%{y}<extra></extra>',\n              'hovertext': array(['dark'], dtype=object),\n              'legendgroup': 'dark',\n              'marker': {'color': '#705746', 'pattern': {'shape': ''}},\n              'name': 'dark',\n              'offsetgroup': 'dark',\n              'orientation': 'v',\n              'showlegend': True,\n              'textposition': 'auto',\n              'type': 'bar',\n              'x': array(['dark'], dtype=object),\n              'xaxis': 'x',\n              'y': array([66.]),\n              'yaxis': 'y'}],\n    'layout': {'barmode': 'relative',\n               'legend': {'title': {'text': 'Type'}, 'tracegroupgap': 0},\n               'margin': {'t': 60},\n               'showlegend': False,\n               'template': '...',\n               'title': {'text': 'Mean HP by Pokemon Type', 'x': 0.5, 'xanchor': 'center', 'y': 0.923, 'yanchor': 'top'},\n               'xaxis': {'anchor': 'y',\n                         'categoryarray': [normal, psychic, steel, water, dark],\n                         'categoryorder': 'array',\n                         'domain': [0.0, 1.0],\n                         'title': {'text': 'Type'}},\n               'yaxis': {'anchor': 'x', 'domain': [0.0, 1.0], 'title': {'text': 'HP'}}}\n})]\n\n    The 'data' property is a tuple of trace instances\n    that may be specified as:\n      - A list or tuple of trace instances\n        (e.g. [Scatter(...), Bar(...)])\n      - A single trace instance\n        (e.g. Scatter(...), Bar(...), etc.)\n      - A list or tuple of dicts of string/value properties where:\n        - The 'type' property specifies the trace type\n            One of: ['bar', 'barpolar', 'box', 'candlestick',\n                     'carpet', 'choropleth', 'choroplethmapbox',\n                     'cone', 'contour', 'contourcarpet',\n                     'densitymapbox', 'funnel', 'funnelarea',\n                     'heatmap', 'heatmapgl', 'histogram',\n                     'histogram2d', 'histogram2dcontour', 'icicle',\n                     'image', 'indicator', 'isosurface', 'mesh3d',\n                     'ohlc', 'parcats', 'parcoords', 'pie',\n                     'pointcloud', 'sankey', 'scatter',\n                     'scatter3d', 'scattercarpet', 'scattergeo',\n                     'scattergl', 'scattermapbox', 'scatterpolar',\n                     'scatterpolargl', 'scattersmith',\n                     'scatterternary', 'splom', 'streamtube',\n                     'sunburst', 'surface', 'table', 'treemap',\n                     'violin', 'volume', 'waterfall']\n\n        - All remaining properties are passed to the constructor of\n          the specified trace type\n\n        (e.g. [{'type': 'scatter', ...}, {'type': 'bar, ...}])"
     ]
    }
   ],
   "source": [
    "sub_plots = make_subplots(rows = 1, cols = 2)\n",
    "sub_plots.add_trace(HPBar,row=1, col=1)\n",
    "sub_plots.add_trace(DefenseBar,row=1, col=1)"
   ]
  },
  {
   "cell_type": "code",
   "execution_count": 95,
   "metadata": {},
   "outputs": [
    {
     "data": {
      "application/vnd.plotly.v1+json": {
       "config": {
        "plotlyServerURL": "https://plot.ly"
       },
       "data": [
        {
         "alignmentgroup": "True",
         "hovertemplate": "<b>%{hovertext}</b><br><br>Type=%{x}<br>Pokemon=%{y}<extra></extra>",
         "hovertext": [
          "water"
         ],
         "legendgroup": "water",
         "marker": {
          "color": "#6390F0",
          "pattern": {
           "shape": ""
          }
         },
         "name": "water",
         "offsetgroup": "water",
         "orientation": "v",
         "showlegend": true,
         "textposition": "auto",
         "type": "bar",
         "x": [
          "water"
         ],
         "xaxis": "x",
         "y": [
          46
         ],
         "yaxis": "y"
        },
        {
         "alignmentgroup": "True",
         "hovertemplate": "<b>%{hovertext}</b><br><br>Type=%{x}<br>Pokemon=%{y}<extra></extra>",
         "hovertext": [
          "normal"
         ],
         "legendgroup": "normal",
         "marker": {
          "color": "#A8A77A",
          "pattern": {
           "shape": ""
          }
         },
         "name": "normal",
         "offsetgroup": "normal",
         "orientation": "v",
         "showlegend": true,
         "textposition": "auto",
         "type": "bar",
         "x": [
          "normal"
         ],
         "xaxis": "x",
         "y": [
          37
         ],
         "yaxis": "y"
        },
        {
         "alignmentgroup": "True",
         "hovertemplate": "<b>%{hovertext}</b><br><br>Type=%{x}<br>Pokemon=%{y}<extra></extra>",
         "hovertext": [
          "bug"
         ],
         "legendgroup": "bug",
         "marker": {
          "color": "#A6B91A",
          "pattern": {
           "shape": ""
          }
         },
         "name": "bug",
         "offsetgroup": "bug",
         "orientation": "v",
         "showlegend": true,
         "textposition": "auto",
         "type": "bar",
         "x": [
          "bug"
         ],
         "xaxis": "x",
         "y": [
          22
         ],
         "yaxis": "y"
        },
        {
         "alignmentgroup": "True",
         "hovertemplate": "<b>%{hovertext}</b><br><br>Type=%{x}<br>Pokemon=%{y}<extra></extra>",
         "hovertext": [
          "grass"
         ],
         "legendgroup": "grass",
         "marker": {
          "color": "#7AC74C",
          "pattern": {
           "shape": ""
          }
         },
         "name": "grass",
         "offsetgroup": "grass",
         "orientation": "v",
         "showlegend": true,
         "textposition": "auto",
         "type": "bar",
         "x": [
          "grass"
         ],
         "xaxis": "x",
         "y": [
          21
         ],
         "yaxis": "y"
        },
        {
         "alignmentgroup": "True",
         "hovertemplate": "<b>%{hovertext}</b><br><br>Type=%{x}<br>Pokemon=%{y}<extra></extra>",
         "hovertext": [
          "fire"
         ],
         "legendgroup": "fire",
         "marker": {
          "color": "#EE8130",
          "pattern": {
           "shape": ""
          }
         },
         "name": "fire",
         "offsetgroup": "fire",
         "orientation": "v",
         "showlegend": true,
         "textposition": "auto",
         "type": "bar",
         "x": [
          "fire"
         ],
         "xaxis": "x",
         "y": [
          20
         ],
         "yaxis": "y"
        },
        {
         "alignmentgroup": "True",
         "hovertemplate": "<b>%{hovertext}</b><br><br>Type=%{x}<br>Pokemon=%{y}<extra></extra>",
         "hovertext": [
          "electric"
         ],
         "legendgroup": "electric",
         "marker": {
          "color": "#F7D02C",
          "pattern": {
           "shape": ""
          }
         },
         "name": "electric",
         "offsetgroup": "electric",
         "orientation": "v",
         "showlegend": true,
         "textposition": "auto",
         "type": "bar",
         "x": [
          "electric"
         ],
         "xaxis": "x",
         "y": [
          15
         ],
         "yaxis": "y"
        },
        {
         "alignmentgroup": "True",
         "hovertemplate": "<b>%{hovertext}</b><br><br>Type=%{x}<br>Pokemon=%{y}<extra></extra>",
         "hovertext": [
          "poison"
         ],
         "legendgroup": "poison",
         "marker": {
          "color": "#A33EA1",
          "pattern": {
           "shape": ""
          }
         },
         "name": "poison",
         "offsetgroup": "poison",
         "orientation": "v",
         "showlegend": true,
         "textposition": "auto",
         "type": "bar",
         "x": [
          "poison"
         ],
         "xaxis": "x",
         "y": [
          15
         ],
         "yaxis": "y"
        },
        {
         "alignmentgroup": "True",
         "hovertemplate": "<b>%{hovertext}</b><br><br>Type=%{x}<br>Pokemon=%{y}<extra></extra>",
         "hovertext": [
          "psychic"
         ],
         "legendgroup": "psychic",
         "marker": {
          "color": "#F95587",
          "pattern": {
           "shape": ""
          }
         },
         "name": "psychic",
         "offsetgroup": "psychic",
         "orientation": "v",
         "showlegend": true,
         "textposition": "auto",
         "type": "bar",
         "x": [
          "psychic"
         ],
         "xaxis": "x",
         "y": [
          15
         ],
         "yaxis": "y"
        },
        {
         "alignmentgroup": "True",
         "hovertemplate": "<b>%{hovertext}</b><br><br>Type=%{x}<br>Pokemon=%{y}<extra></extra>",
         "hovertext": [
          "rock"
         ],
         "legendgroup": "rock",
         "marker": {
          "color": "#B6A136",
          "pattern": {
           "shape": ""
          }
         },
         "name": "rock",
         "offsetgroup": "rock",
         "orientation": "v",
         "showlegend": true,
         "textposition": "auto",
         "type": "bar",
         "x": [
          "rock"
         ],
         "xaxis": "x",
         "y": [
          13
         ],
         "yaxis": "y"
        },
        {
         "alignmentgroup": "True",
         "hovertemplate": "<b>%{hovertext}</b><br><br>Type=%{x}<br>Pokemon=%{y}<extra></extra>",
         "hovertext": [
          "ground"
         ],
         "legendgroup": "ground",
         "marker": {
          "color": "#E2BF65",
          "pattern": {
           "shape": ""
          }
         },
         "name": "ground",
         "offsetgroup": "ground",
         "orientation": "v",
         "showlegend": true,
         "textposition": "auto",
         "type": "bar",
         "x": [
          "ground"
         ],
         "xaxis": "x",
         "y": [
          11
         ],
         "yaxis": "y"
        },
        {
         "alignmentgroup": "True",
         "hovertemplate": "<b>%{hovertext}</b><br><br>Type=%{x}<br>Pokemon=%{y}<extra></extra>",
         "hovertext": [
          "fighting"
         ],
         "legendgroup": "fighting",
         "marker": {
          "color": "#C22E28",
          "pattern": {
           "shape": ""
          }
         },
         "name": "fighting",
         "offsetgroup": "fighting",
         "orientation": "v",
         "showlegend": true,
         "textposition": "auto",
         "type": "bar",
         "x": [
          "fighting"
         ],
         "xaxis": "x",
         "y": [
          9
         ],
         "yaxis": "y"
        },
        {
         "alignmentgroup": "True",
         "hovertemplate": "<b>%{hovertext}</b><br><br>Type=%{x}<br>Pokemon=%{y}<extra></extra>",
         "hovertext": [
          "fairy"
         ],
         "legendgroup": "fairy",
         "marker": {
          "color": "#D685AD",
          "pattern": {
           "shape": ""
          }
         },
         "name": "fairy",
         "offsetgroup": "fairy",
         "orientation": "v",
         "showlegend": true,
         "textposition": "auto",
         "type": "bar",
         "x": [
          "fairy"
         ],
         "xaxis": "x",
         "y": [
          7
         ],
         "yaxis": "y"
        },
        {
         "alignmentgroup": "True",
         "hovertemplate": "<b>%{hovertext}</b><br><br>Type=%{x}<br>Pokemon=%{y}<extra></extra>",
         "hovertext": [
          "ice"
         ],
         "legendgroup": "ice",
         "marker": {
          "color": "#96D9D6",
          "pattern": {
           "shape": ""
          }
         },
         "name": "ice",
         "offsetgroup": "ice",
         "orientation": "v",
         "showlegend": true,
         "textposition": "auto",
         "type": "bar",
         "x": [
          "ice"
         ],
         "xaxis": "x",
         "y": [
          6
         ],
         "yaxis": "y"
        },
        {
         "alignmentgroup": "True",
         "hovertemplate": "<b>%{hovertext}</b><br><br>Type=%{x}<br>Pokemon=%{y}<extra></extra>",
         "hovertext": [
          "dark"
         ],
         "legendgroup": "dark",
         "marker": {
          "color": "#705746",
          "pattern": {
           "shape": ""
          }
         },
         "name": "dark",
         "offsetgroup": "dark",
         "orientation": "v",
         "showlegend": true,
         "textposition": "auto",
         "type": "bar",
         "x": [
          "dark"
         ],
         "xaxis": "x",
         "y": [
          5
         ],
         "yaxis": "y"
        },
        {
         "alignmentgroup": "True",
         "hovertemplate": "<b>%{hovertext}</b><br><br>Type=%{x}<br>Pokemon=%{y}<extra></extra>",
         "hovertext": [
          "ghost"
         ],
         "legendgroup": "ghost",
         "marker": {
          "color": "#735797",
          "pattern": {
           "shape": ""
          }
         },
         "name": "ghost",
         "offsetgroup": "ghost",
         "orientation": "v",
         "showlegend": true,
         "textposition": "auto",
         "type": "bar",
         "x": [
          "ghost"
         ],
         "xaxis": "x",
         "y": [
          4
         ],
         "yaxis": "y"
        },
        {
         "alignmentgroup": "True",
         "hovertemplate": "<b>%{hovertext}</b><br><br>Type=%{x}<br>Pokemon=%{y}<extra></extra>",
         "hovertext": [
          "dragon"
         ],
         "legendgroup": "dragon",
         "marker": {
          "color": "#6F35FC",
          "pattern": {
           "shape": ""
          }
         },
         "name": "dragon",
         "offsetgroup": "dragon",
         "orientation": "v",
         "showlegend": true,
         "textposition": "auto",
         "type": "bar",
         "x": [
          "dragon"
         ],
         "xaxis": "x",
         "y": [
          3
         ],
         "yaxis": "y"
        },
        {
         "alignmentgroup": "True",
         "hovertemplate": "<b>%{hovertext}</b><br><br>Type=%{x}<br>Pokemon=%{y}<extra></extra>",
         "hovertext": [
          "steel"
         ],
         "legendgroup": "steel",
         "marker": {
          "color": "#B7B7CE",
          "pattern": {
           "shape": ""
          }
         },
         "name": "steel",
         "offsetgroup": "steel",
         "orientation": "v",
         "showlegend": true,
         "textposition": "auto",
         "type": "bar",
         "x": [
          "steel"
         ],
         "xaxis": "x",
         "y": [
          2
         ],
         "yaxis": "y"
        }
       ],
       "layout": {
        "barmode": "relative",
        "legend": {
         "title": {
          "text": "Type"
         },
         "tracegroupgap": 0
        },
        "margin": {
         "t": 60
        },
        "showlegend": false,
        "template": {
         "data": {
          "bar": [
           {
            "error_x": {
             "color": "#2a3f5f"
            },
            "error_y": {
             "color": "#2a3f5f"
            },
            "marker": {
             "line": {
              "color": "#E5ECF6",
              "width": 0.5
             },
             "pattern": {
              "fillmode": "overlay",
              "size": 10,
              "solidity": 0.2
             }
            },
            "type": "bar"
           }
          ],
          "barpolar": [
           {
            "marker": {
             "line": {
              "color": "#E5ECF6",
              "width": 0.5
             },
             "pattern": {
              "fillmode": "overlay",
              "size": 10,
              "solidity": 0.2
             }
            },
            "type": "barpolar"
           }
          ],
          "carpet": [
           {
            "aaxis": {
             "endlinecolor": "#2a3f5f",
             "gridcolor": "white",
             "linecolor": "white",
             "minorgridcolor": "white",
             "startlinecolor": "#2a3f5f"
            },
            "baxis": {
             "endlinecolor": "#2a3f5f",
             "gridcolor": "white",
             "linecolor": "white",
             "minorgridcolor": "white",
             "startlinecolor": "#2a3f5f"
            },
            "type": "carpet"
           }
          ],
          "choropleth": [
           {
            "colorbar": {
             "outlinewidth": 0,
             "ticks": ""
            },
            "type": "choropleth"
           }
          ],
          "contour": [
           {
            "colorbar": {
             "outlinewidth": 0,
             "ticks": ""
            },
            "colorscale": [
             [
              0,
              "#0d0887"
             ],
             [
              0.1111111111111111,
              "#46039f"
             ],
             [
              0.2222222222222222,
              "#7201a8"
             ],
             [
              0.3333333333333333,
              "#9c179e"
             ],
             [
              0.4444444444444444,
              "#bd3786"
             ],
             [
              0.5555555555555556,
              "#d8576b"
             ],
             [
              0.6666666666666666,
              "#ed7953"
             ],
             [
              0.7777777777777778,
              "#fb9f3a"
             ],
             [
              0.8888888888888888,
              "#fdca26"
             ],
             [
              1,
              "#f0f921"
             ]
            ],
            "type": "contour"
           }
          ],
          "contourcarpet": [
           {
            "colorbar": {
             "outlinewidth": 0,
             "ticks": ""
            },
            "type": "contourcarpet"
           }
          ],
          "heatmap": [
           {
            "colorbar": {
             "outlinewidth": 0,
             "ticks": ""
            },
            "colorscale": [
             [
              0,
              "#0d0887"
             ],
             [
              0.1111111111111111,
              "#46039f"
             ],
             [
              0.2222222222222222,
              "#7201a8"
             ],
             [
              0.3333333333333333,
              "#9c179e"
             ],
             [
              0.4444444444444444,
              "#bd3786"
             ],
             [
              0.5555555555555556,
              "#d8576b"
             ],
             [
              0.6666666666666666,
              "#ed7953"
             ],
             [
              0.7777777777777778,
              "#fb9f3a"
             ],
             [
              0.8888888888888888,
              "#fdca26"
             ],
             [
              1,
              "#f0f921"
             ]
            ],
            "type": "heatmap"
           }
          ],
          "heatmapgl": [
           {
            "colorbar": {
             "outlinewidth": 0,
             "ticks": ""
            },
            "colorscale": [
             [
              0,
              "#0d0887"
             ],
             [
              0.1111111111111111,
              "#46039f"
             ],
             [
              0.2222222222222222,
              "#7201a8"
             ],
             [
              0.3333333333333333,
              "#9c179e"
             ],
             [
              0.4444444444444444,
              "#bd3786"
             ],
             [
              0.5555555555555556,
              "#d8576b"
             ],
             [
              0.6666666666666666,
              "#ed7953"
             ],
             [
              0.7777777777777778,
              "#fb9f3a"
             ],
             [
              0.8888888888888888,
              "#fdca26"
             ],
             [
              1,
              "#f0f921"
             ]
            ],
            "type": "heatmapgl"
           }
          ],
          "histogram": [
           {
            "marker": {
             "pattern": {
              "fillmode": "overlay",
              "size": 10,
              "solidity": 0.2
             }
            },
            "type": "histogram"
           }
          ],
          "histogram2d": [
           {
            "colorbar": {
             "outlinewidth": 0,
             "ticks": ""
            },
            "colorscale": [
             [
              0,
              "#0d0887"
             ],
             [
              0.1111111111111111,
              "#46039f"
             ],
             [
              0.2222222222222222,
              "#7201a8"
             ],
             [
              0.3333333333333333,
              "#9c179e"
             ],
             [
              0.4444444444444444,
              "#bd3786"
             ],
             [
              0.5555555555555556,
              "#d8576b"
             ],
             [
              0.6666666666666666,
              "#ed7953"
             ],
             [
              0.7777777777777778,
              "#fb9f3a"
             ],
             [
              0.8888888888888888,
              "#fdca26"
             ],
             [
              1,
              "#f0f921"
             ]
            ],
            "type": "histogram2d"
           }
          ],
          "histogram2dcontour": [
           {
            "colorbar": {
             "outlinewidth": 0,
             "ticks": ""
            },
            "colorscale": [
             [
              0,
              "#0d0887"
             ],
             [
              0.1111111111111111,
              "#46039f"
             ],
             [
              0.2222222222222222,
              "#7201a8"
             ],
             [
              0.3333333333333333,
              "#9c179e"
             ],
             [
              0.4444444444444444,
              "#bd3786"
             ],
             [
              0.5555555555555556,
              "#d8576b"
             ],
             [
              0.6666666666666666,
              "#ed7953"
             ],
             [
              0.7777777777777778,
              "#fb9f3a"
             ],
             [
              0.8888888888888888,
              "#fdca26"
             ],
             [
              1,
              "#f0f921"
             ]
            ],
            "type": "histogram2dcontour"
           }
          ],
          "mesh3d": [
           {
            "colorbar": {
             "outlinewidth": 0,
             "ticks": ""
            },
            "type": "mesh3d"
           }
          ],
          "parcoords": [
           {
            "line": {
             "colorbar": {
              "outlinewidth": 0,
              "ticks": ""
             }
            },
            "type": "parcoords"
           }
          ],
          "pie": [
           {
            "automargin": true,
            "type": "pie"
           }
          ],
          "scatter": [
           {
            "marker": {
             "colorbar": {
              "outlinewidth": 0,
              "ticks": ""
             }
            },
            "type": "scatter"
           }
          ],
          "scatter3d": [
           {
            "line": {
             "colorbar": {
              "outlinewidth": 0,
              "ticks": ""
             }
            },
            "marker": {
             "colorbar": {
              "outlinewidth": 0,
              "ticks": ""
             }
            },
            "type": "scatter3d"
           }
          ],
          "scattercarpet": [
           {
            "marker": {
             "colorbar": {
              "outlinewidth": 0,
              "ticks": ""
             }
            },
            "type": "scattercarpet"
           }
          ],
          "scattergeo": [
           {
            "marker": {
             "colorbar": {
              "outlinewidth": 0,
              "ticks": ""
             }
            },
            "type": "scattergeo"
           }
          ],
          "scattergl": [
           {
            "marker": {
             "colorbar": {
              "outlinewidth": 0,
              "ticks": ""
             }
            },
            "type": "scattergl"
           }
          ],
          "scattermapbox": [
           {
            "marker": {
             "colorbar": {
              "outlinewidth": 0,
              "ticks": ""
             }
            },
            "type": "scattermapbox"
           }
          ],
          "scatterpolar": [
           {
            "marker": {
             "colorbar": {
              "outlinewidth": 0,
              "ticks": ""
             }
            },
            "type": "scatterpolar"
           }
          ],
          "scatterpolargl": [
           {
            "marker": {
             "colorbar": {
              "outlinewidth": 0,
              "ticks": ""
             }
            },
            "type": "scatterpolargl"
           }
          ],
          "scatterternary": [
           {
            "marker": {
             "colorbar": {
              "outlinewidth": 0,
              "ticks": ""
             }
            },
            "type": "scatterternary"
           }
          ],
          "surface": [
           {
            "colorbar": {
             "outlinewidth": 0,
             "ticks": ""
            },
            "colorscale": [
             [
              0,
              "#0d0887"
             ],
             [
              0.1111111111111111,
              "#46039f"
             ],
             [
              0.2222222222222222,
              "#7201a8"
             ],
             [
              0.3333333333333333,
              "#9c179e"
             ],
             [
              0.4444444444444444,
              "#bd3786"
             ],
             [
              0.5555555555555556,
              "#d8576b"
             ],
             [
              0.6666666666666666,
              "#ed7953"
             ],
             [
              0.7777777777777778,
              "#fb9f3a"
             ],
             [
              0.8888888888888888,
              "#fdca26"
             ],
             [
              1,
              "#f0f921"
             ]
            ],
            "type": "surface"
           }
          ],
          "table": [
           {
            "cells": {
             "fill": {
              "color": "#EBF0F8"
             },
             "line": {
              "color": "white"
             }
            },
            "header": {
             "fill": {
              "color": "#C8D4E3"
             },
             "line": {
              "color": "white"
             }
            },
            "type": "table"
           }
          ]
         },
         "layout": {
          "annotationdefaults": {
           "arrowcolor": "#2a3f5f",
           "arrowhead": 0,
           "arrowwidth": 1
          },
          "autotypenumbers": "strict",
          "coloraxis": {
           "colorbar": {
            "outlinewidth": 0,
            "ticks": ""
           }
          },
          "colorscale": {
           "diverging": [
            [
             0,
             "#8e0152"
            ],
            [
             0.1,
             "#c51b7d"
            ],
            [
             0.2,
             "#de77ae"
            ],
            [
             0.3,
             "#f1b6da"
            ],
            [
             0.4,
             "#fde0ef"
            ],
            [
             0.5,
             "#f7f7f7"
            ],
            [
             0.6,
             "#e6f5d0"
            ],
            [
             0.7,
             "#b8e186"
            ],
            [
             0.8,
             "#7fbc41"
            ],
            [
             0.9,
             "#4d9221"
            ],
            [
             1,
             "#276419"
            ]
           ],
           "sequential": [
            [
             0,
             "#0d0887"
            ],
            [
             0.1111111111111111,
             "#46039f"
            ],
            [
             0.2222222222222222,
             "#7201a8"
            ],
            [
             0.3333333333333333,
             "#9c179e"
            ],
            [
             0.4444444444444444,
             "#bd3786"
            ],
            [
             0.5555555555555556,
             "#d8576b"
            ],
            [
             0.6666666666666666,
             "#ed7953"
            ],
            [
             0.7777777777777778,
             "#fb9f3a"
            ],
            [
             0.8888888888888888,
             "#fdca26"
            ],
            [
             1,
             "#f0f921"
            ]
           ],
           "sequentialminus": [
            [
             0,
             "#0d0887"
            ],
            [
             0.1111111111111111,
             "#46039f"
            ],
            [
             0.2222222222222222,
             "#7201a8"
            ],
            [
             0.3333333333333333,
             "#9c179e"
            ],
            [
             0.4444444444444444,
             "#bd3786"
            ],
            [
             0.5555555555555556,
             "#d8576b"
            ],
            [
             0.6666666666666666,
             "#ed7953"
            ],
            [
             0.7777777777777778,
             "#fb9f3a"
            ],
            [
             0.8888888888888888,
             "#fdca26"
            ],
            [
             1,
             "#f0f921"
            ]
           ]
          },
          "colorway": [
           "#636efa",
           "#EF553B",
           "#00cc96",
           "#ab63fa",
           "#FFA15A",
           "#19d3f3",
           "#FF6692",
           "#B6E880",
           "#FF97FF",
           "#FECB52"
          ],
          "font": {
           "color": "#2a3f5f"
          },
          "geo": {
           "bgcolor": "white",
           "lakecolor": "white",
           "landcolor": "#E5ECF6",
           "showlakes": true,
           "showland": true,
           "subunitcolor": "white"
          },
          "hoverlabel": {
           "align": "left"
          },
          "hovermode": "closest",
          "mapbox": {
           "style": "light"
          },
          "paper_bgcolor": "white",
          "plot_bgcolor": "#E5ECF6",
          "polar": {
           "angularaxis": {
            "gridcolor": "white",
            "linecolor": "white",
            "ticks": ""
           },
           "bgcolor": "#E5ECF6",
           "radialaxis": {
            "gridcolor": "white",
            "linecolor": "white",
            "ticks": ""
           }
          },
          "scene": {
           "xaxis": {
            "backgroundcolor": "#E5ECF6",
            "gridcolor": "white",
            "gridwidth": 2,
            "linecolor": "white",
            "showbackground": true,
            "ticks": "",
            "zerolinecolor": "white"
           },
           "yaxis": {
            "backgroundcolor": "#E5ECF6",
            "gridcolor": "white",
            "gridwidth": 2,
            "linecolor": "white",
            "showbackground": true,
            "ticks": "",
            "zerolinecolor": "white"
           },
           "zaxis": {
            "backgroundcolor": "#E5ECF6",
            "gridcolor": "white",
            "gridwidth": 2,
            "linecolor": "white",
            "showbackground": true,
            "ticks": "",
            "zerolinecolor": "white"
           }
          },
          "shapedefaults": {
           "line": {
            "color": "#2a3f5f"
           }
          },
          "ternary": {
           "aaxis": {
            "gridcolor": "white",
            "linecolor": "white",
            "ticks": ""
           },
           "baxis": {
            "gridcolor": "white",
            "linecolor": "white",
            "ticks": ""
           },
           "bgcolor": "#E5ECF6",
           "caxis": {
            "gridcolor": "white",
            "linecolor": "white",
            "ticks": ""
           }
          },
          "title": {
           "x": 0.05
          },
          "xaxis": {
           "automargin": true,
           "gridcolor": "white",
           "linecolor": "white",
           "ticks": "",
           "title": {
            "standoff": 15
           },
           "zerolinecolor": "white",
           "zerolinewidth": 2
          },
          "yaxis": {
           "automargin": true,
           "gridcolor": "white",
           "linecolor": "white",
           "ticks": "",
           "title": {
            "standoff": 15
           },
           "zerolinecolor": "white",
           "zerolinewidth": 2
          }
         }
        },
        "title": {
         "text": "Count of Pokemon by Type",
         "x": 0.5,
         "xanchor": "center",
         "y": 0.9599,
         "yanchor": "top"
        },
        "xaxis": {
         "anchor": "y",
         "categoryarray": [
          "water",
          "normal",
          "bug",
          "grass",
          "fire",
          "electric",
          "poison",
          "psychic",
          "rock",
          "ground",
          "fighting",
          "fairy",
          "ice",
          "dark",
          "ghost",
          "dragon",
          "steel"
         ],
         "categoryorder": "array",
         "domain": [
          0,
          1
         ],
         "title": {
          "text": "Type"
         }
        },
        "yaxis": {
         "anchor": "x",
         "domain": [
          0,
          1
         ],
         "title": {
          "text": "Pokemon"
         }
        }
       }
      }
     },
     "metadata": {},
     "output_type": "display_data"
    }
   ],
   "source": [
    "Poke_Count = Pokemon_DF[['Pokemon','Type']].groupby(by = 'Type').count().reset_index().sort_values(by = 'Pokemon',ascending = False)\n",
    "\n",
    "# Bar chart Showing Mean HP by Pokemon Type\n",
    "\n",
    "CountBar = px.bar(\n",
    "    Poke_Count,\n",
    "    x = 'Type',\n",
    "    y = 'Pokemon',\n",
    "    color='Type',\n",
    "    hover_name = 'Type',\n",
    "    color_discrete_map = colours_dict\n",
    ")\n",
    "CountBar.update_layout(\n",
    "    showlegend=False,\n",
    "    title={\n",
    "    'text': 'Count of Pokemon by Type',\n",
    "    'y':.9599,\n",
    "    'x':0.5,\n",
    "    'xanchor': 'center',\n",
    "    'yanchor': 'top'}\n",
    ")\n",
    "\n",
    "CountBar.show()\n",
    "CountBar.write_html(\"output.html\", full_html=False, include_plotlyjs='cdn')"
   ]
  }
 ],
 "metadata": {
  "kernelspec": {
   "display_name": "Python 3.9.7 64-bit",
   "language": "python",
   "name": "python3"
  },
  "language_info": {
   "codemirror_mode": {
    "name": "ipython",
    "version": 3
   },
   "file_extension": ".py",
   "mimetype": "text/x-python",
   "name": "python",
   "nbconvert_exporter": "python",
   "pygments_lexer": "ipython3",
   "version": "3.9.7"
  },
  "orig_nbformat": 4,
  "vscode": {
   "interpreter": {
    "hash": "b29ce9f861b7a1532af8656fb1ce7bb37fde84396fe0706b59e655dbf84bcb19"
   }
  }
 },
 "nbformat": 4,
 "nbformat_minor": 2
}
